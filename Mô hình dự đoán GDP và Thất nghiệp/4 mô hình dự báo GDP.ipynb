{
 "cells": [
  {
   "cell_type": "markdown",
   "metadata": {
    "id": "wuqrDeiRYsAs"
   },
   "source": [
    "# LÀM SẠCH DỮ LIỆU\n",
    "Dữ liệu đã được tải xuống máy tính từ World Bank với định dạng .csv\n"
   ]
  },
  {
   "cell_type": "code",
   "execution_count": 1,
   "metadata": {
    "id": "rxQc2pD-5XP_"
   },
   "outputs": [],
   "source": [
    "import pandas as pd\n",
    "import numpy as np\n",
    "%matplotlib inline\n",
    "import matplotlib\n",
    "import matplotlib.pyplot as plt\n",
    "import seaborn as sns\n",
    "sns.set()\n",
    "from sklearn.impute import SimpleImputer\n",
    "from sklearn.model_selection import train_test_split"
   ]
  },
  {
   "cell_type": "code",
   "execution_count": 2,
   "metadata": {
    "id": "5-PAOkzP5rUl"
   },
   "outputs": [
    {
     "name": "stdout",
     "output_type": "stream",
     "text": [
      "          Country Name Country Code  \\\n",
      "0    Brunei Darussalam          BRN   \n",
      "1    Brunei Darussalam          BRN   \n",
      "2    Brunei Darussalam          BRN   \n",
      "3    Brunei Darussalam          BRN   \n",
      "4    Brunei Darussalam          BRN   \n",
      "..                 ...          ...   \n",
      "145            Ireland          IRL   \n",
      "146            Ireland          IRL   \n",
      "147            Ireland          IRL   \n",
      "148            Ireland          IRL   \n",
      "149            Ireland          IRL   \n",
      "\n",
      "                                           Series Name        Series Code  \\\n",
      "0                                    GDP (current US$)     NY.GDP.MKTP.CD   \n",
      "1    Official exchange rate (LCU per US$, period av...        PA.NUS.FCRF   \n",
      "2                               Broad money (% of GDP)  FM.LBL.BMNY.GD.ZS   \n",
      "3                   Inflation, GDP deflator (annual %)  NY.GDP.DEFL.KD.ZG   \n",
      "4    Unemployment, total (% of total labor force) (...     SL.UEM.TOTL.ZS   \n",
      "..                                                 ...                ...   \n",
      "145  Official exchange rate (LCU per US$, period av...        PA.NUS.FCRF   \n",
      "146                             Broad money (% of GDP)  FM.LBL.BMNY.GD.ZS   \n",
      "147                 Inflation, GDP deflator (annual %)  NY.GDP.DEFL.KD.ZG   \n",
      "148  Unemployment, total (% of total labor force) (...     SL.UEM.TOTL.ZS   \n",
      "149  Foreign direct investment, net (BoP, current US$)     BN.KLT.DINV.CD   \n",
      "\n",
      "     2008 [YR2008]  2009 [YR2009]  2010 [YR2010]  2011 [YR2011]  \\\n",
      "0     1.439343e+10   1.073260e+10   1.370728e+10   1.852513e+10   \n",
      "1     1.417167e+00   1.454569e+00   1.363509e+00   1.257913e+00   \n",
      "2     5.363294e+01   7.684380e+01   6.727119e+01   5.937941e+01   \n",
      "3     1.269273e+01  -2.209142e+01   1.668828e+01   2.018051e+01   \n",
      "4     6.293000e+00   6.393000e+00   6.483000e+00   6.569000e+00   \n",
      "..             ...            ...            ...            ...   \n",
      "145            NaN            NaN            NaN            NaN   \n",
      "146            NaN            NaN            NaN            NaN   \n",
      "147  -5.045256e-01  -4.624598e+00  -2.889836e+00   1.349718e+00   \n",
      "148   6.770000e+00   1.261000e+01   1.453000e+01   1.535000e+01   \n",
      "149   3.491256e+10   5.408472e+08  -2.092542e+10  -2.522241e+10   \n",
      "\n",
      "     2012 [YR2012]  2013 [YR2013]  2014 [YR2014]  2015 [YR2015]  \\\n",
      "0     1.904844e+10   1.809432e+10   1.709780e+10   1.293029e+10   \n",
      "1     1.249567e+00   1.251166e+00   1.267040e+00   1.374911e+00   \n",
      "2     5.865647e+01   6.257479e+01   6.749857e+01   8.080412e+01   \n",
      "3     1.218703e+00  -2.821321e+00  -1.846457e+00  -1.761280e+01   \n",
      "4     6.660000e+00   6.759000e+00   6.860000e+00   7.683000e+00   \n",
      "..             ...            ...            ...            ...   \n",
      "145            NaN            NaN            NaN            NaN   \n",
      "146            NaN            NaN            NaN            NaN   \n",
      "147   2.108273e+00   1.133260e+00   1.820074e-01   8.300141e+00   \n",
      "148   1.545000e+01   1.373000e+01   1.186000e+01   9.910000e+00   \n",
      "149  -2.615298e+10  -2.125115e+10  -6.747671e+09  -4.743356e+10   \n",
      "\n",
      "     2016 [YR2016]  2017 [YR2017]  2018 [YR2018]  2019 [YR2019]  \\\n",
      "0     1.140047e+10   1.212818e+10   1.356694e+10   1.346924e+10   \n",
      "1     1.381347e+00   1.380891e+00   1.348919e+00   1.364219e+00   \n",
      "2     9.259695e+01   8.668519e+01   8.158004e+01   8.471877e+01   \n",
      "3    -9.167862e+00   4.953690e+00   9.215863e+00  -3.334183e+00   \n",
      "4     8.505000e+00   9.320000e+00   8.700000e+00   6.600000e+00   \n",
      "..             ...            ...            ...            ...   \n",
      "145            NaN            NaN            NaN            NaN   \n",
      "146            NaN            NaN            NaN            NaN   \n",
      "147   5.838491e-01   1.251083e+00   1.120032e+00   3.355412e+00   \n",
      "148   8.370000e+00   6.710000e+00   5.740000e+00   4.950000e+00   \n",
      "149  -9.219282e+09  -5.534619e+10   2.744163e+10  -9.744444e+10   \n",
      "\n",
      "     2020 [YR2020]  2021 [YR2021]  2022 [YR2022]  \n",
      "0     1.200580e+10   1.400650e+10   1.668154e+10  \n",
      "1     1.379703e+00   1.343807e+00   1.378956e+00  \n",
      "2     9.357502e+01   8.457934e+01   7.007220e+01  \n",
      "3    -1.086376e+01   1.546593e+01   2.423673e+01  \n",
      "4     7.410000e+00   4.910000e+00   4.452000e+00  \n",
      "..             ...            ...            ...  \n",
      "145            NaN            NaN            NaN  \n",
      "146            NaN            NaN            NaN  \n",
      "147  -1.234043e+00   4.774826e-01   6.582264e+00  \n",
      "148   5.620000e+00   6.190000e+00   4.480000e+00  \n",
      "149  -1.100000e+11   5.923378e+10   3.568870e+10  \n",
      "\n",
      "[150 rows x 19 columns]\n"
     ]
    }
   ],
   "source": [
    "#Download file đã tải từ máy tính lên\n",
    "df = pd.read_csv(\"Data WorldBank.csv\")\n",
    "print(df)"
   ]
  },
  {
   "cell_type": "code",
   "execution_count": 3,
   "metadata": {
    "id": "FrVcNtq_Jt0K"
   },
   "outputs": [
    {
     "name": "stdout",
     "output_type": "stream",
     "text": [
      "           Country Name Country Code        Series Name     Series Code  \\\n",
      "0     Brunei Darussalam          BRN  GDP (current US$)  NY.GDP.MKTP.CD   \n",
      "6              Cambodia          KHM  GDP (current US$)  NY.GDP.MKTP.CD   \n",
      "12          Timor-Leste          TLS  GDP (current US$)  NY.GDP.MKTP.CD   \n",
      "18            Indonesia          IDN  GDP (current US$)  NY.GDP.MKTP.CD   \n",
      "24              Lao PDR          LAO  GDP (current US$)  NY.GDP.MKTP.CD   \n",
      "30             Malaysia          MYS  GDP (current US$)  NY.GDP.MKTP.CD   \n",
      "36              Myanmar          MMR  GDP (current US$)  NY.GDP.MKTP.CD   \n",
      "42          Philippines          PHL  GDP (current US$)  NY.GDP.MKTP.CD   \n",
      "48            Singapore          SGP  GDP (current US$)  NY.GDP.MKTP.CD   \n",
      "54             Thailand          THA  GDP (current US$)  NY.GDP.MKTP.CD   \n",
      "60             Viet Nam          VNM  GDP (current US$)  NY.GDP.MKTP.CD   \n",
      "66                China          CHN  GDP (current US$)  NY.GDP.MKTP.CD   \n",
      "72                Japan          JPN  GDP (current US$)  NY.GDP.MKTP.CD   \n",
      "78          Korea, Rep.          KOR  GDP (current US$)  NY.GDP.MKTP.CD   \n",
      "84                India          IND  GDP (current US$)  NY.GDP.MKTP.CD   \n",
      "90           Uzbekistan          UZB  GDP (current US$)  NY.GDP.MKTP.CD   \n",
      "96                Qatar          QAT  GDP (current US$)  NY.GDP.MKTP.CD   \n",
      "102       United States          USA  GDP (current US$)  NY.GDP.MKTP.CD   \n",
      "108      United Kingdom          GBR  GDP (current US$)  NY.GDP.MKTP.CD   \n",
      "114              France          FRA  GDP (current US$)  NY.GDP.MKTP.CD   \n",
      "120  Russian Federation          RUS  GDP (current US$)  NY.GDP.MKTP.CD   \n",
      "126             Germany          DEU  GDP (current US$)  NY.GDP.MKTP.CD   \n",
      "132           Australia          AUS  GDP (current US$)  NY.GDP.MKTP.CD   \n",
      "138             Hungary          HUN  GDP (current US$)  NY.GDP.MKTP.CD   \n",
      "144             Ireland          IRL  GDP (current US$)  NY.GDP.MKTP.CD   \n",
      "\n",
      "     2008 [YR2008]  2009 [YR2009]  2010 [YR2010]  2011 [YR2011]  \\\n",
      "0     1.439343e+10   1.073260e+10   1.370728e+10   1.852513e+10   \n",
      "6     1.035191e+10   1.040185e+10   1.124228e+10   1.282954e+10   \n",
      "12    6.485236e+08   7.269378e+08   8.819093e+08   1.042535e+09   \n",
      "18    5.100000e+11   5.400000e+11   7.550000e+11   8.930000e+11   \n",
      "24    5.446434e+09   5.836138e+09   7.131774e+09   8.750107e+09   \n",
      "30    2.310000e+11   2.020000e+11   2.550000e+11   2.980000e+11   \n",
      "36    3.186255e+10   3.690618e+10   4.954081e+10   5.997733e+10   \n",
      "42    1.820000e+11   1.760000e+11   2.080000e+11   2.340000e+11   \n",
      "48    1.940000e+11   1.940000e+11   2.400000e+11   2.790000e+11   \n",
      "54    2.910000e+11   2.820000e+11   3.410000e+11   3.710000e+11   \n",
      "60    9.913030e+10   1.060000e+11   1.470000e+11   1.730000e+11   \n",
      "66    4.590000e+12   5.100000e+12   6.090000e+12   7.550000e+12   \n",
      "72    5.110000e+12   5.290000e+12   5.760000e+12   6.230000e+12   \n",
      "78    1.050000e+12   9.440000e+11   1.140000e+12   1.250000e+12   \n",
      "84    1.200000e+12   1.340000e+12   1.680000e+12   1.820000e+12   \n",
      "90    2.954944e+10   3.368922e+10   4.976568e+10   6.017891e+10   \n",
      "96    1.150000e+11   9.779835e+10   1.250000e+11   1.680000e+11   \n",
      "102   1.480000e+13   1.450000e+13   1.500000e+13   1.560000e+13   \n",
      "108   2.930000e+12   2.410000e+12   2.490000e+12   2.660000e+12   \n",
      "114   2.930000e+12   2.700000e+12   2.650000e+12   2.870000e+12   \n",
      "120   1.660000e+12   1.220000e+12   1.520000e+12   2.050000e+12   \n",
      "126   3.750000e+12   3.410000e+12   3.400000e+12   3.750000e+12   \n",
      "132   1.060000e+12   9.290000e+11   1.150000e+12   1.400000e+12   \n",
      "138   1.580000e+11   1.310000e+11   1.320000e+11   1.420000e+11   \n",
      "144   2.750000e+11   2.360000e+11   2.220000e+11   2.390000e+11   \n",
      "\n",
      "     2012 [YR2012]  2013 [YR2013]  2014 [YR2014]  2015 [YR2015]  \\\n",
      "0     1.904844e+10   1.809432e+10   1.709780e+10   1.293029e+10   \n",
      "6     1.405444e+10   1.522799e+10   1.670261e+10   1.804995e+10   \n",
      "12    1.160555e+09   1.395727e+09   1.447535e+09   1.595205e+09   \n",
      "18    9.180000e+11   9.130000e+11   8.910000e+11   8.610000e+11   \n",
      "24    1.019285e+10   1.198325e+10   1.327925e+10   1.442638e+10   \n",
      "30    3.140000e+11   3.230000e+11   3.380000e+11   3.010000e+11   \n",
      "36    5.993780e+10   6.026973e+10   6.544620e+10   5.968741e+10   \n",
      "42    2.620000e+11   2.840000e+11   2.970000e+11   3.060000e+11   \n",
      "48    2.950000e+11   3.080000e+11   3.150000e+11   3.080000e+11   \n",
      "54    3.980000e+11   4.200000e+11   4.070000e+11   4.010000e+11   \n",
      "60    1.960000e+11   2.140000e+11   2.330000e+11   2.390000e+11   \n",
      "66    8.530000e+12   9.570000e+12   1.050000e+13   1.110000e+13   \n",
      "72    6.270000e+12   5.210000e+12   4.900000e+12   4.440000e+12   \n",
      "78    1.280000e+12   1.370000e+12   1.480000e+12   1.470000e+12   \n",
      "84    1.830000e+12   1.860000e+12   2.040000e+12   2.100000e+12   \n",
      "90    6.751735e+10   7.318004e+10   8.084539e+10   8.619626e+10   \n",
      "96    1.870000e+11   1.990000e+11   2.060000e+11   1.620000e+11   \n",
      "102   1.630000e+13   1.680000e+13   1.760000e+13   1.820000e+13   \n",
      "108   2.710000e+12   2.780000e+12   3.060000e+12   2.930000e+12   \n",
      "114   2.680000e+12   2.810000e+12   2.860000e+12   2.440000e+12   \n",
      "120   2.210000e+12   2.290000e+12   2.060000e+12   1.360000e+12   \n",
      "126   3.530000e+12   3.730000e+12   3.890000e+12   3.360000e+12   \n",
      "132   1.550000e+12   1.580000e+12   1.470000e+12   1.350000e+12   \n",
      "138   1.290000e+11   1.360000e+11   1.410000e+11   1.250000e+11   \n",
      "144   2.250000e+11   2.380000e+11   2.600000e+11   2.920000e+11   \n",
      "\n",
      "     2016 [YR2016]  2017 [YR2017]  2018 [YR2018]  2019 [YR2019]  \\\n",
      "0     1.140047e+10   1.212818e+10   1.356694e+10   1.346924e+10   \n",
      "6     2.001675e+10   2.217720e+10   2.457175e+10   2.708939e+10   \n",
      "12    1.652604e+09   1.598208e+09   1.566157e+09   2.027034e+09   \n",
      "18    9.320000e+11   1.020000e+12   1.040000e+12   1.120000e+12   \n",
      "24    1.591250e+10   1.707116e+10   1.814165e+10   1.874056e+10   \n",
      "30    3.010000e+11   3.190000e+11   3.590000e+11   3.650000e+11   \n",
      "36    6.321614e+10   6.605509e+10   6.785585e+10   7.507204e+10   \n",
      "42    3.190000e+11   3.280000e+11   3.470000e+11   3.770000e+11   \n",
      "48    3.190000e+11   3.430000e+11   3.770000e+11   3.770000e+11   \n",
      "54    4.130000e+11   4.560000e+11   5.070000e+11   5.440000e+11   \n",
      "60    2.570000e+11   2.810000e+11   3.100000e+11   3.340000e+11   \n",
      "66    1.120000e+13   1.230000e+13   1.390000e+13   1.430000e+13   \n",
      "72    5.000000e+12   4.930000e+12   5.040000e+12   5.120000e+12   \n",
      "78    1.500000e+12   1.620000e+12   1.730000e+12   1.650000e+12   \n",
      "84    2.290000e+12   2.650000e+12   2.700000e+12   2.840000e+12   \n",
      "90    8.613829e+10   6.208132e+10   5.287011e+10   6.028350e+10   \n",
      "96    1.520000e+11   1.610000e+11   1.830000e+11   1.760000e+11   \n",
      "102   1.870000e+13   1.950000e+13   2.050000e+13   2.140000e+13   \n",
      "108   2.690000e+12   2.680000e+12   2.870000e+12   2.850000e+12   \n",
      "114   2.470000e+12   2.600000e+12   2.790000e+12   2.730000e+12   \n",
      "120   1.280000e+12   1.570000e+12   1.660000e+12   1.690000e+12   \n",
      "126   3.470000e+12   3.690000e+12   3.970000e+12   3.890000e+12   \n",
      "132   1.210000e+12   1.330000e+12   1.430000e+12   1.390000e+12   \n",
      "138   1.290000e+11   1.430000e+11   1.610000e+11   1.640000e+11   \n",
      "144   2.990000e+11   3.370000e+11   3.870000e+11   3.990000e+11   \n",
      "\n",
      "     2020 [YR2020]  2021 [YR2021]  2022 [YR2022]  \n",
      "0     1.200580e+10   1.400650e+10   1.668154e+10  \n",
      "6     2.587280e+10   2.696106e+10   2.950483e+10  \n",
      "12    2.162619e+09   3.621958e+09   3.204753e+09  \n",
      "18    1.060000e+12   1.190000e+12   1.320000e+12  \n",
      "24    1.898180e+10   1.882715e+10   1.546879e+10  \n",
      "30    3.370000e+11   3.740000e+11   4.070000e+11  \n",
      "36    7.904570e+10   6.626281e+10   6.226347e+10  \n",
      "42    3.620000e+11   3.940000e+11   4.040000e+11  \n",
      "48    3.480000e+11   4.240000e+11   4.670000e+11  \n",
      "54    5.000000e+11   5.060000e+11   4.950000e+11  \n",
      "60    3.470000e+11   3.660000e+11   4.090000e+11  \n",
      "66    1.470000e+13   1.780000e+13   1.800000e+13  \n",
      "72    5.060000e+12   5.030000e+12   4.260000e+12  \n",
      "78    1.640000e+12   1.820000e+12   1.670000e+12  \n",
      "84    2.670000e+12   3.150000e+12   3.420000e+12  \n",
      "90    6.022470e+10   6.960061e+10   8.039185e+10  \n",
      "96    1.440000e+11   1.800000e+11   2.360000e+11  \n",
      "102   2.110000e+13   2.330000e+13   2.540000e+13  \n",
      "108   2.700000e+12   3.140000e+12   3.090000e+12  \n",
      "114   2.650000e+12   2.960000e+12   2.780000e+12  \n",
      "120   1.490000e+12   1.840000e+12   2.240000e+12  \n",
      "126   3.890000e+12   4.280000e+12   4.080000e+12  \n",
      "132   1.330000e+12   1.560000e+12   1.690000e+12  \n",
      "138   1.570000e+11   1.820000e+11   1.770000e+11  \n",
      "144   4.290000e+11   5.130000e+11   5.330000e+11  \n"
     ]
    }
   ],
   "source": [
    "#Xem dữ liệu GDP của các nước\n",
    "data_GDP = df[df['Series Name'].isin(['GDP (current US$)'])]\n",
    "print(data_GDP)"
   ]
  },
  {
   "cell_type": "markdown",
   "metadata": {},
   "source": [
    "# Sắp xếp lại bảng sao cho phù hợp"
   ]
  },
  {
   "cell_type": "code",
   "execution_count": 4,
   "metadata": {
    "id": "3PyEJJLBx8Dk"
   },
   "outputs": [
    {
     "name": "stdout",
     "output_type": "stream",
     "text": [
      "           Country Name Country Code        Series Name     Series Code  \\\n",
      "0     Brunei Darussalam          BRN  GDP (current US$)  NY.GDP.MKTP.CD   \n",
      "1              Cambodia          KHM  GDP (current US$)  NY.GDP.MKTP.CD   \n",
      "2           Timor-Leste          TLS  GDP (current US$)  NY.GDP.MKTP.CD   \n",
      "3             Indonesia          IDN  GDP (current US$)  NY.GDP.MKTP.CD   \n",
      "4               Lao PDR          LAO  GDP (current US$)  NY.GDP.MKTP.CD   \n",
      "..                  ...          ...                ...             ...   \n",
      "370  Russian Federation          RUS  GDP (current US$)  NY.GDP.MKTP.CD   \n",
      "371             Germany          DEU  GDP (current US$)  NY.GDP.MKTP.CD   \n",
      "372           Australia          AUS  GDP (current US$)  NY.GDP.MKTP.CD   \n",
      "373             Hungary          HUN  GDP (current US$)  NY.GDP.MKTP.CD   \n",
      "374             Ireland          IRL  GDP (current US$)  NY.GDP.MKTP.CD   \n",
      "\n",
      "              Year           GDP  \n",
      "0    2008 [YR2008]  1.439343e+10  \n",
      "1    2008 [YR2008]  1.035191e+10  \n",
      "2    2008 [YR2008]  6.485236e+08  \n",
      "3    2008 [YR2008]  5.100000e+11  \n",
      "4    2008 [YR2008]  5.446434e+09  \n",
      "..             ...           ...  \n",
      "370  2022 [YR2022]  2.240000e+12  \n",
      "371  2022 [YR2022]  4.080000e+12  \n",
      "372  2022 [YR2022]  1.690000e+12  \n",
      "373  2022 [YR2022]  1.770000e+11  \n",
      "374  2022 [YR2022]  5.330000e+11  \n",
      "\n",
      "[375 rows x 6 columns]\n"
     ]
    }
   ],
   "source": [
    "#Sắp xếp lại bảng\n",
    "id_vars = [\"Country Name\",\"Country Code\", \"Series Name\", \"Series Code\"]\n",
    "a = pd.melt(frame=data_GDP, id_vars=id_vars, var_name='Year', value_name='GDP')\n",
    "print(a)"
   ]
  },
  {
   "cell_type": "code",
   "execution_count": 5,
   "metadata": {
    "id": "4nRCWi8jM0zJ"
   },
   "outputs": [
    {
     "name": "stdout",
     "output_type": "stream",
     "text": [
      "           Country Name Country Code 1      Series Name 1   Series Code 1  \\\n",
      "0     Brunei Darussalam            BRN  GDP (current US$)  NY.GDP.MKTP.CD   \n",
      "1              Cambodia            KHM  GDP (current US$)  NY.GDP.MKTP.CD   \n",
      "2           Timor-Leste            TLS  GDP (current US$)  NY.GDP.MKTP.CD   \n",
      "3             Indonesia            IDN  GDP (current US$)  NY.GDP.MKTP.CD   \n",
      "4               Lao PDR            LAO  GDP (current US$)  NY.GDP.MKTP.CD   \n",
      "..                  ...            ...                ...             ...   \n",
      "370  Russian Federation            RUS  GDP (current US$)  NY.GDP.MKTP.CD   \n",
      "371             Germany            DEU  GDP (current US$)  NY.GDP.MKTP.CD   \n",
      "372           Australia            AUS  GDP (current US$)  NY.GDP.MKTP.CD   \n",
      "373             Hungary            HUN  GDP (current US$)  NY.GDP.MKTP.CD   \n",
      "374             Ireland            IRL  GDP (current US$)  NY.GDP.MKTP.CD   \n",
      "\n",
      "              Year           GDP  \n",
      "0    2008 [YR2008]  1.439343e+10  \n",
      "1    2008 [YR2008]  1.035191e+10  \n",
      "2    2008 [YR2008]  6.485236e+08  \n",
      "3    2008 [YR2008]  5.100000e+11  \n",
      "4    2008 [YR2008]  5.446434e+09  \n",
      "..             ...           ...  \n",
      "370  2022 [YR2022]  2.240000e+12  \n",
      "371  2022 [YR2022]  4.080000e+12  \n",
      "372  2022 [YR2022]  1.690000e+12  \n",
      "373  2022 [YR2022]  1.770000e+11  \n",
      "374  2022 [YR2022]  5.330000e+11  \n",
      "\n",
      "[375 rows x 6 columns]\n"
     ]
    }
   ],
   "source": [
    "#Đổi tên cột, vì ở dưới sẽ dùng hàm concat để gộp các cột lại với nhau -> sẽ xuất hiện cột bị lặp nên đổi tên để dễ phân biệtb\n",
    "change1 = a.rename(columns={'Series Code':'Series Code 1','Series Name':'Series Name 1','Country Code':'Country Code 1'})\n",
    "print(change1)"
   ]
  },
  {
   "cell_type": "code",
   "execution_count": 6,
   "metadata": {
    "id": "fy5Cz7q8L8dK"
   },
   "outputs": [
    {
     "name": "stdout",
     "output_type": "stream",
     "text": [
      "           Country Name Country Code                         Series Name  \\\n",
      "3     Brunei Darussalam          BRN  Inflation, GDP deflator (annual %)   \n",
      "9              Cambodia          KHM  Inflation, GDP deflator (annual %)   \n",
      "15          Timor-Leste          TLS  Inflation, GDP deflator (annual %)   \n",
      "21            Indonesia          IDN  Inflation, GDP deflator (annual %)   \n",
      "27              Lao PDR          LAO  Inflation, GDP deflator (annual %)   \n",
      "33             Malaysia          MYS  Inflation, GDP deflator (annual %)   \n",
      "39              Myanmar          MMR  Inflation, GDP deflator (annual %)   \n",
      "45          Philippines          PHL  Inflation, GDP deflator (annual %)   \n",
      "51            Singapore          SGP  Inflation, GDP deflator (annual %)   \n",
      "57             Thailand          THA  Inflation, GDP deflator (annual %)   \n",
      "63             Viet Nam          VNM  Inflation, GDP deflator (annual %)   \n",
      "69                China          CHN  Inflation, GDP deflator (annual %)   \n",
      "75                Japan          JPN  Inflation, GDP deflator (annual %)   \n",
      "81          Korea, Rep.          KOR  Inflation, GDP deflator (annual %)   \n",
      "87                India          IND  Inflation, GDP deflator (annual %)   \n",
      "93           Uzbekistan          UZB  Inflation, GDP deflator (annual %)   \n",
      "99                Qatar          QAT  Inflation, GDP deflator (annual %)   \n",
      "105       United States          USA  Inflation, GDP deflator (annual %)   \n",
      "111      United Kingdom          GBR  Inflation, GDP deflator (annual %)   \n",
      "117              France          FRA  Inflation, GDP deflator (annual %)   \n",
      "123  Russian Federation          RUS  Inflation, GDP deflator (annual %)   \n",
      "129             Germany          DEU  Inflation, GDP deflator (annual %)   \n",
      "135           Australia          AUS  Inflation, GDP deflator (annual %)   \n",
      "141             Hungary          HUN  Inflation, GDP deflator (annual %)   \n",
      "147             Ireland          IRL  Inflation, GDP deflator (annual %)   \n",
      "\n",
      "           Series Code  2008 [YR2008]  2009 [YR2009]  2010 [YR2010]  \\\n",
      "3    NY.GDP.DEFL.KD.ZG      12.692730     -22.091416      16.688283   \n",
      "9    NY.GDP.DEFL.KD.ZG      12.253787       2.504385       3.120593   \n",
      "15   NY.GDP.DEFL.KD.ZG       7.256764       1.765126      10.963799   \n",
      "21   NY.GDP.DEFL.KD.ZG      18.149751       8.274752      15.264294   \n",
      "27   NY.GDP.DEFL.KD.ZG       8.863451      -2.932074       9.196571   \n",
      "33   NY.GDP.DEFL.KD.ZG      10.388900      -5.992202       7.266846   \n",
      "39   NY.GDP.DEFL.KD.ZG      13.618658       4.878599       7.043212   \n",
      "45   NY.GDP.DEFL.KD.ZG       7.179216       2.738259       4.370884   \n",
      "51   NY.GDP.DEFL.KD.ZG      -1.381555       2.953925       1.107809   \n",
      "57   NY.GDP.DEFL.KD.ZG       5.133780       0.194772       4.080989   \n",
      "63   NY.GDP.DEFL.KD.ZG      22.673316       6.215623      42.303267   \n",
      "69   NY.GDP.DEFL.KD.ZG       7.795346      -0.209533       6.881380   \n",
      "75   NY.GDP.DEFL.KD.ZG      -0.911530      -0.569565      -1.880742   \n",
      "81   NY.GDP.DEFL.KD.ZG       2.826302       3.608644       2.737497   \n",
      "87   NY.GDP.DEFL.KD.ZG       9.193970       7.040365      10.526031   \n",
      "93   NY.GDP.DEFL.KD.ZG      26.791585      17.261565      48.581690   \n",
      "99   NY.GDP.DEFL.KD.ZG      22.899565     -24.218101       6.979330   \n",
      "105  NY.GDP.DEFL.KD.ZG       1.917933       0.640955       1.201792   \n",
      "111  NY.GDP.DEFL.KD.ZG       3.403280       1.891112       1.583741   \n",
      "117  NY.GDP.DEFL.KD.ZG       2.367074       0.066627       1.069697   \n",
      "123  NY.GDP.DEFL.KD.ZG      18.013518       1.970613      14.191110   \n",
      "129  NY.GDP.DEFL.KD.ZG       0.909330       1.841892       0.645276   \n",
      "135  NY.GDP.DEFL.KD.ZG       4.569822       4.949161       1.151859   \n",
      "141  NY.GDP.DEFL.KD.ZG       4.806139       4.199065       2.532570   \n",
      "147  NY.GDP.DEFL.KD.ZG      -0.504526      -4.624598      -2.889836   \n",
      "\n",
      "     2011 [YR2011]  2012 [YR2012]  2013 [YR2013]  2014 [YR2014]  \\\n",
      "3        20.180505       1.218703      -2.821321      -1.846457   \n",
      "9         3.364066       1.440518       0.781388       2.632196   \n",
      "15       11.565673       6.160467      16.642768      -0.728051   \n",
      "21        7.465943       3.753879       4.965990       5.443175   \n",
      "27       10.468718       7.528859       6.473972       5.726559   \n",
      "33        5.412408       0.999932       0.174474       2.467467   \n",
      "39       10.254577       3.130097       4.378071       4.173531   \n",
      "45        3.918806       1.994176       2.061063       3.053055   \n",
      "51        1.170798       0.495346      -0.431059      -0.267270   \n",
      "57        3.743098       1.909144       1.778746       1.441465   \n",
      "63       21.413679       9.077661       4.038524       3.698138   \n",
      "69        8.075684       2.331218       2.163370       1.031064   \n",
      "75       -1.622080      -0.756093      -0.354375       1.686295   \n",
      "81        1.281864       1.251808       1.018544       0.906897   \n",
      "87        8.733580       7.934386       6.186504       3.331757   \n",
      "93       21.626510      15.398795      11.987891      14.024918   \n",
      "99       18.270171       6.329962       0.767489      -1.482751   \n",
      "105       2.077714       1.870596       1.750950       1.869891   \n",
      "111       2.189185       1.538804       2.117064       1.317778   \n",
      "117       0.947960       1.161825       0.778101       0.576944   \n",
      "123      24.460086       8.907868       5.320139       7.490071   \n",
      "129       1.069484       1.496489       1.959392       1.877940   \n",
      "135       6.202099       1.805164      -0.163782       1.404893   \n",
      "141       1.928721       2.892762       2.820532       3.692726   \n",
      "147       1.349718       2.108273       1.133260       0.182007   \n",
      "\n",
      "     2015 [YR2015]  2016 [YR2016]  2017 [YR2017]  2018 [YR2018]  \\\n",
      "3       -17.612803      -9.167862       4.953690       9.215863   \n",
      "9         1.786112       3.475255       3.341042       3.111821   \n",
      "15        7.202727       0.222526      -0.151691      -1.321802   \n",
      "21        3.980243       2.438924       4.292678       3.818324   \n",
      "27        2.348496       3.022306       1.852097       1.919889   \n",
      "33        1.218056       1.658260       3.778961       0.624675   \n",
      "39        4.136697       3.353782       5.873409       5.341095   \n",
      "45       -0.719683       1.280312       2.320260       3.740654   \n",
      "51        3.071955       0.469483       2.875153       3.534651   \n",
      "57        0.722114       2.636168       1.899945       1.428586   \n",
      "63       -1.716512       1.819536       4.362920       3.626647   \n",
      "69       -0.002944       1.407346       4.232682       3.499748   \n",
      "75        2.111299       0.419944      -0.074350      -0.000238   \n",
      "81        3.185596       1.986039       2.222781       0.482949   \n",
      "87        2.279588       3.237975       3.969258       3.884240   \n",
      "93       10.500700       8.930368      19.061815      26.922395   \n",
      "99      -25.129807      -8.976699       7.787570      12.414404   \n",
      "105       1.000542       1.002235       1.899610       2.404059   \n",
      "111       0.660991       1.964798       1.856541       1.922052   \n",
      "117       1.138249       0.522559       0.521577       0.992225   \n",
      "123       7.249736       2.844223       5.349815       9.997977   \n",
      "129       1.853679       1.327752       1.503739       2.007492   \n",
      "135      -0.622921      -0.655772       3.651233       1.878810   \n",
      "141       2.775742       1.320472       4.029705       4.847425   \n",
      "147       8.300141       0.583849       1.251083       1.120032   \n",
      "\n",
      "     2019 [YR2019]  2020 [YR2020]  2021 [YR2021]  2022 [YR2022]  \n",
      "3        -3.334183     -10.863760      15.465929      24.236727  \n",
      "9         3.235372      -0.671857       1.291945       4.070391  \n",
      "15        4.874097     -19.151792      59.027015      11.355396  \n",
      "21        1.598488      -0.401651       6.003421       9.567844  \n",
      "27        1.197424       5.034504       3.713448      15.773946  \n",
      "33        0.071827      -0.818008       5.707516       6.445753  \n",
      "39        5.422933       5.344110      19.517209       6.163717  \n",
      "45        0.697076       1.650490       2.282478       5.481078  \n",
      "51       -0.201648      -2.696455       8.784366       9.051761  \n",
      "57        1.014423      -1.281944       1.709813       4.724843  \n",
      "63        2.423227       1.467478       2.778257       3.860478  \n",
      "69        1.286700       0.492494       4.552327       2.248974  \n",
      "75        0.634803       0.941450      -0.190061       0.333980  \n",
      "81       -0.839325       1.563747       2.762932       1.275523  \n",
      "87        2.405517       4.746549       8.538525       8.225869  \n",
      "93       17.814851      11.442425      13.543901      13.848328  \n",
      "99       -4.455914     -15.100420      22.466022      26.141200  \n",
      "105       1.793931       1.304912       4.492792       7.040723  \n",
      "111       2.115733       5.083623      -0.120427       5.152902  \n",
      "117       1.278592       2.839876       1.423948       2.947217  \n",
      "123       3.263133       0.898246      18.990517      15.804710  \n",
      "129       2.130309       1.872586       3.019638       5.268325  \n",
      "135       3.463723       2.113825       3.078774       7.123076  \n",
      "141       4.785025       6.401669       6.445098      14.489279  \n",
      "147       3.355412      -1.234043       0.477483       6.582264  \n"
     ]
    }
   ],
   "source": [
    "data_Inflation = df[df['Series Name'].isin(['Inflation, GDP deflator (annual %)'])]\n",
    "print(data_Inflation)"
   ]
  },
  {
   "cell_type": "code",
   "execution_count": 7,
   "metadata": {
    "id": "9gJiwm33MdQ2"
   },
   "outputs": [
    {
     "name": "stdout",
     "output_type": "stream",
     "text": [
      "           Country Name Country Code                         Series Name  \\\n",
      "0     Brunei Darussalam          BRN  Inflation, GDP deflator (annual %)   \n",
      "1              Cambodia          KHM  Inflation, GDP deflator (annual %)   \n",
      "2           Timor-Leste          TLS  Inflation, GDP deflator (annual %)   \n",
      "3             Indonesia          IDN  Inflation, GDP deflator (annual %)   \n",
      "4               Lao PDR          LAO  Inflation, GDP deflator (annual %)   \n",
      "..                  ...          ...                                 ...   \n",
      "370  Russian Federation          RUS  Inflation, GDP deflator (annual %)   \n",
      "371             Germany          DEU  Inflation, GDP deflator (annual %)   \n",
      "372           Australia          AUS  Inflation, GDP deflator (annual %)   \n",
      "373             Hungary          HUN  Inflation, GDP deflator (annual %)   \n",
      "374             Ireland          IRL  Inflation, GDP deflator (annual %)   \n",
      "\n",
      "           Series Code           Year  Inflation  \n",
      "0    NY.GDP.DEFL.KD.ZG  2008 [YR2008]  12.692730  \n",
      "1    NY.GDP.DEFL.KD.ZG  2008 [YR2008]  12.253787  \n",
      "2    NY.GDP.DEFL.KD.ZG  2008 [YR2008]   7.256764  \n",
      "3    NY.GDP.DEFL.KD.ZG  2008 [YR2008]  18.149751  \n",
      "4    NY.GDP.DEFL.KD.ZG  2008 [YR2008]   8.863451  \n",
      "..                 ...            ...        ...  \n",
      "370  NY.GDP.DEFL.KD.ZG  2022 [YR2022]  15.804710  \n",
      "371  NY.GDP.DEFL.KD.ZG  2022 [YR2022]   5.268325  \n",
      "372  NY.GDP.DEFL.KD.ZG  2022 [YR2022]   7.123076  \n",
      "373  NY.GDP.DEFL.KD.ZG  2022 [YR2022]  14.489279  \n",
      "374  NY.GDP.DEFL.KD.ZG  2022 [YR2022]   6.582264  \n",
      "\n",
      "[375 rows x 6 columns]\n"
     ]
    }
   ],
   "source": [
    "id_vars_1 = [\"Country Name\",\"Country Code\", \"Series Name\", \"Series Code\"]\n",
    "b = pd.melt(frame=data_Inflation, id_vars=id_vars, var_name='Year', value_name='Inflation')\n",
    "print(b)"
   ]
  },
  {
   "cell_type": "code",
   "execution_count": 8,
   "metadata": {
    "id": "FK5E_bK5PVu6"
   },
   "outputs": [
    {
     "name": "stdout",
     "output_type": "stream",
     "text": [
      "         Country Name 2 Country Code 2                       Series Name 2  \\\n",
      "0     Brunei Darussalam            BRN  Inflation, GDP deflator (annual %)   \n",
      "1              Cambodia            KHM  Inflation, GDP deflator (annual %)   \n",
      "2           Timor-Leste            TLS  Inflation, GDP deflator (annual %)   \n",
      "3             Indonesia            IDN  Inflation, GDP deflator (annual %)   \n",
      "4               Lao PDR            LAO  Inflation, GDP deflator (annual %)   \n",
      "..                  ...            ...                                 ...   \n",
      "370  Russian Federation            RUS  Inflation, GDP deflator (annual %)   \n",
      "371             Germany            DEU  Inflation, GDP deflator (annual %)   \n",
      "372           Australia            AUS  Inflation, GDP deflator (annual %)   \n",
      "373             Hungary            HUN  Inflation, GDP deflator (annual %)   \n",
      "374             Ireland            IRL  Inflation, GDP deflator (annual %)   \n",
      "\n",
      "         Series Code 2         Year 2  Inflation  \n",
      "0    NY.GDP.DEFL.KD.ZG  2008 [YR2008]  12.692730  \n",
      "1    NY.GDP.DEFL.KD.ZG  2008 [YR2008]  12.253787  \n",
      "2    NY.GDP.DEFL.KD.ZG  2008 [YR2008]   7.256764  \n",
      "3    NY.GDP.DEFL.KD.ZG  2008 [YR2008]  18.149751  \n",
      "4    NY.GDP.DEFL.KD.ZG  2008 [YR2008]   8.863451  \n",
      "..                 ...            ...        ...  \n",
      "370  NY.GDP.DEFL.KD.ZG  2022 [YR2022]  15.804710  \n",
      "371  NY.GDP.DEFL.KD.ZG  2022 [YR2022]   5.268325  \n",
      "372  NY.GDP.DEFL.KD.ZG  2022 [YR2022]   7.123076  \n",
      "373  NY.GDP.DEFL.KD.ZG  2022 [YR2022]  14.489279  \n",
      "374  NY.GDP.DEFL.KD.ZG  2022 [YR2022]   6.582264  \n",
      "\n",
      "[375 rows x 6 columns]\n"
     ]
    }
   ],
   "source": [
    "change2 = b.rename(columns={'Series Code':'Series Code 2','Series Name':'Series Name 2','Country Code':'Country Code 2','Country Name':'Country Name 2', 'Year':'Year 2'})\n",
    "print(change2)"
   ]
  },
  {
   "cell_type": "code",
   "execution_count": 9,
   "metadata": {
    "id": "I41ADay0L2Zm"
   },
   "outputs": [
    {
     "name": "stdout",
     "output_type": "stream",
     "text": [
      "           Country Name Country Code 1      Series Name 1   Series Code 1  \\\n",
      "0     Brunei Darussalam            BRN  GDP (current US$)  NY.GDP.MKTP.CD   \n",
      "1              Cambodia            KHM  GDP (current US$)  NY.GDP.MKTP.CD   \n",
      "2           Timor-Leste            TLS  GDP (current US$)  NY.GDP.MKTP.CD   \n",
      "3             Indonesia            IDN  GDP (current US$)  NY.GDP.MKTP.CD   \n",
      "4               Lao PDR            LAO  GDP (current US$)  NY.GDP.MKTP.CD   \n",
      "..                  ...            ...                ...             ...   \n",
      "370  Russian Federation            RUS  GDP (current US$)  NY.GDP.MKTP.CD   \n",
      "371             Germany            DEU  GDP (current US$)  NY.GDP.MKTP.CD   \n",
      "372           Australia            AUS  GDP (current US$)  NY.GDP.MKTP.CD   \n",
      "373             Hungary            HUN  GDP (current US$)  NY.GDP.MKTP.CD   \n",
      "374             Ireland            IRL  GDP (current US$)  NY.GDP.MKTP.CD   \n",
      "\n",
      "              Year           GDP      Country Name 2 Country Code 2  \\\n",
      "0    2008 [YR2008]  1.439343e+10   Brunei Darussalam            BRN   \n",
      "1    2008 [YR2008]  1.035191e+10            Cambodia            KHM   \n",
      "2    2008 [YR2008]  6.485236e+08         Timor-Leste            TLS   \n",
      "3    2008 [YR2008]  5.100000e+11           Indonesia            IDN   \n",
      "4    2008 [YR2008]  5.446434e+09             Lao PDR            LAO   \n",
      "..             ...           ...                 ...            ...   \n",
      "370  2022 [YR2022]  2.240000e+12  Russian Federation            RUS   \n",
      "371  2022 [YR2022]  4.080000e+12             Germany            DEU   \n",
      "372  2022 [YR2022]  1.690000e+12           Australia            AUS   \n",
      "373  2022 [YR2022]  1.770000e+11             Hungary            HUN   \n",
      "374  2022 [YR2022]  5.330000e+11             Ireland            IRL   \n",
      "\n",
      "                          Series Name 2      Series Code 2         Year 2  \\\n",
      "0    Inflation, GDP deflator (annual %)  NY.GDP.DEFL.KD.ZG  2008 [YR2008]   \n",
      "1    Inflation, GDP deflator (annual %)  NY.GDP.DEFL.KD.ZG  2008 [YR2008]   \n",
      "2    Inflation, GDP deflator (annual %)  NY.GDP.DEFL.KD.ZG  2008 [YR2008]   \n",
      "3    Inflation, GDP deflator (annual %)  NY.GDP.DEFL.KD.ZG  2008 [YR2008]   \n",
      "4    Inflation, GDP deflator (annual %)  NY.GDP.DEFL.KD.ZG  2008 [YR2008]   \n",
      "..                                  ...                ...            ...   \n",
      "370  Inflation, GDP deflator (annual %)  NY.GDP.DEFL.KD.ZG  2022 [YR2022]   \n",
      "371  Inflation, GDP deflator (annual %)  NY.GDP.DEFL.KD.ZG  2022 [YR2022]   \n",
      "372  Inflation, GDP deflator (annual %)  NY.GDP.DEFL.KD.ZG  2022 [YR2022]   \n",
      "373  Inflation, GDP deflator (annual %)  NY.GDP.DEFL.KD.ZG  2022 [YR2022]   \n",
      "374  Inflation, GDP deflator (annual %)  NY.GDP.DEFL.KD.ZG  2022 [YR2022]   \n",
      "\n",
      "     Inflation  \n",
      "0    12.692730  \n",
      "1    12.253787  \n",
      "2     7.256764  \n",
      "3    18.149751  \n",
      "4     8.863451  \n",
      "..         ...  \n",
      "370  15.804710  \n",
      "371   5.268325  \n",
      "372   7.123076  \n",
      "373  14.489279  \n",
      "374   6.582264  \n",
      "\n",
      "[375 rows x 12 columns]\n"
     ]
    }
   ],
   "source": [
    "#Ghép bảng 1 vào bảng 2 (Bảng GDP và Bảng Inflation)\n",
    "merge1 = pd.concat([change1, change2], axis=1)\n",
    "print(merge1)"
   ]
  },
  {
   "cell_type": "code",
   "execution_count": 10,
   "metadata": {
    "id": "LXJ2s0tjQFzU"
   },
   "outputs": [
    {
     "name": "stdout",
     "output_type": "stream",
     "text": [
      "           Country Name           Year           GDP  Inflation\n",
      "0     Brunei Darussalam  2008 [YR2008]  1.439343e+10  12.692730\n",
      "1              Cambodia  2008 [YR2008]  1.035191e+10  12.253787\n",
      "2           Timor-Leste  2008 [YR2008]  6.485236e+08   7.256764\n",
      "3             Indonesia  2008 [YR2008]  5.100000e+11  18.149751\n",
      "4               Lao PDR  2008 [YR2008]  5.446434e+09   8.863451\n",
      "..                  ...            ...           ...        ...\n",
      "370  Russian Federation  2022 [YR2022]  2.240000e+12  15.804710\n",
      "371             Germany  2022 [YR2022]  4.080000e+12   5.268325\n",
      "372           Australia  2022 [YR2022]  1.690000e+12   7.123076\n",
      "373             Hungary  2022 [YR2022]  1.770000e+11  14.489279\n",
      "374             Ireland  2022 [YR2022]  5.330000e+11   6.582264\n",
      "\n",
      "[375 rows x 4 columns]\n"
     ]
    }
   ],
   "source": [
    "#Bỏ bớt các cột trùng tên\n",
    "table1 = merge1.drop(['Country Code 1', 'Series Name 1', 'Series Code 1','Country Code 2','Series Name 2','Series Code 2','Country Name 2','Year 2'], axis=1)\n",
    "print(table1)"
   ]
  },
  {
   "cell_type": "markdown",
   "metadata": {
    "id": "BfOAqCqVXxju"
   },
   "source": [
    "Phần dưới tương tự phần ở trên"
   ]
  },
  {
   "cell_type": "markdown",
   "metadata": {},
   "source": [
    "Phần dưới làm tương tự như trên"
   ]
  },
  {
   "cell_type": "code",
   "execution_count": 11,
   "metadata": {
    "id": "BnvlwjqvM2sV"
   },
   "outputs": [
    {
     "name": "stdout",
     "output_type": "stream",
     "text": [
      "           Country Name Country Code  \\\n",
      "1     Brunei Darussalam          BRN   \n",
      "7              Cambodia          KHM   \n",
      "13          Timor-Leste          TLS   \n",
      "19            Indonesia          IDN   \n",
      "25              Lao PDR          LAO   \n",
      "31             Malaysia          MYS   \n",
      "37              Myanmar          MMR   \n",
      "43          Philippines          PHL   \n",
      "49            Singapore          SGP   \n",
      "55             Thailand          THA   \n",
      "61             Viet Nam          VNM   \n",
      "67                China          CHN   \n",
      "73                Japan          JPN   \n",
      "79          Korea, Rep.          KOR   \n",
      "85                India          IND   \n",
      "91           Uzbekistan          UZB   \n",
      "97                Qatar          QAT   \n",
      "103       United States          USA   \n",
      "109      United Kingdom          GBR   \n",
      "115              France          FRA   \n",
      "121  Russian Federation          RUS   \n",
      "127             Germany          DEU   \n",
      "133           Australia          AUS   \n",
      "139             Hungary          HUN   \n",
      "145             Ireland          IRL   \n",
      "\n",
      "                                           Series Name  Series Code  \\\n",
      "1    Official exchange rate (LCU per US$, period av...  PA.NUS.FCRF   \n",
      "7    Official exchange rate (LCU per US$, period av...  PA.NUS.FCRF   \n",
      "13   Official exchange rate (LCU per US$, period av...  PA.NUS.FCRF   \n",
      "19   Official exchange rate (LCU per US$, period av...  PA.NUS.FCRF   \n",
      "25   Official exchange rate (LCU per US$, period av...  PA.NUS.FCRF   \n",
      "31   Official exchange rate (LCU per US$, period av...  PA.NUS.FCRF   \n",
      "37   Official exchange rate (LCU per US$, period av...  PA.NUS.FCRF   \n",
      "43   Official exchange rate (LCU per US$, period av...  PA.NUS.FCRF   \n",
      "49   Official exchange rate (LCU per US$, period av...  PA.NUS.FCRF   \n",
      "55   Official exchange rate (LCU per US$, period av...  PA.NUS.FCRF   \n",
      "61   Official exchange rate (LCU per US$, period av...  PA.NUS.FCRF   \n",
      "67   Official exchange rate (LCU per US$, period av...  PA.NUS.FCRF   \n",
      "73   Official exchange rate (LCU per US$, period av...  PA.NUS.FCRF   \n",
      "79   Official exchange rate (LCU per US$, period av...  PA.NUS.FCRF   \n",
      "85   Official exchange rate (LCU per US$, period av...  PA.NUS.FCRF   \n",
      "91   Official exchange rate (LCU per US$, period av...  PA.NUS.FCRF   \n",
      "97   Official exchange rate (LCU per US$, period av...  PA.NUS.FCRF   \n",
      "103  Official exchange rate (LCU per US$, period av...  PA.NUS.FCRF   \n",
      "109  Official exchange rate (LCU per US$, period av...  PA.NUS.FCRF   \n",
      "115  Official exchange rate (LCU per US$, period av...  PA.NUS.FCRF   \n",
      "121  Official exchange rate (LCU per US$, period av...  PA.NUS.FCRF   \n",
      "127  Official exchange rate (LCU per US$, period av...  PA.NUS.FCRF   \n",
      "133  Official exchange rate (LCU per US$, period av...  PA.NUS.FCRF   \n",
      "139  Official exchange rate (LCU per US$, period av...  PA.NUS.FCRF   \n",
      "145  Official exchange rate (LCU per US$, period av...  PA.NUS.FCRF   \n",
      "\n",
      "     2008 [YR2008]  2009 [YR2009]  2010 [YR2010]  2011 [YR2011]  \\\n",
      "1         1.417167       1.454569       1.363509       1.257913   \n",
      "7      4054.166667    4139.333333    4184.916667    4058.500000   \n",
      "13        1.000000       1.000000       1.000000       1.000000   \n",
      "19     9698.962500   10389.937500    9090.433333    8770.433333   \n",
      "25     8740.181403    8511.351163    8254.163030    8029.262555   \n",
      "31        3.335833       3.524503       3.221087       3.060003   \n",
      "37        5.441450       5.576367       5.634883       5.444108   \n",
      "43       44.323288      47.679688      45.109664      43.313137   \n",
      "49        1.414861       1.454515       1.363508       1.257776   \n",
      "55       33.313301      34.285774      31.685705      30.491733   \n",
      "61    16302.250000   17065.083330   18612.916670   20509.750000   \n",
      "67        6.948655       6.831416       6.770269       6.461461   \n",
      "73      103.359494      93.570089      87.779875      79.807020   \n",
      "79     1100.125833    1277.245833    1156.460000    1108.233333   \n",
      "85       43.505183      48.405267      45.725812      46.670467   \n",
      "91             NaN            NaN            NaN            NaN   \n",
      "97        3.640000       3.640000       3.640000       3.640000   \n",
      "103       1.000000       1.000000       1.000000       1.000000   \n",
      "109       0.543966       0.641919       0.647179       0.624141   \n",
      "115            NaN            NaN            NaN            NaN   \n",
      "121      24.852875      31.740358      30.367915      29.382341   \n",
      "127            NaN            NaN            NaN            NaN   \n",
      "133       1.192178       1.282189       1.090159       0.969463   \n",
      "139     172.113333     202.341667     207.944167     201.055000   \n",
      "145            NaN            NaN            NaN            NaN   \n",
      "\n",
      "     2012 [YR2012]  2013 [YR2013]  2014 [YR2014]  2015 [YR2015]  \\\n",
      "1         1.249567       1.251166       1.267040       1.374911   \n",
      "7      4033.000000    4027.250000    4037.500000    4067.750000   \n",
      "13        1.000000       1.000000       1.000000       1.000000   \n",
      "19     9386.629167   10461.240000   11865.211300   13389.412940   \n",
      "25     8006.582032    7833.229990    8042.421570    8127.610598   \n",
      "31        3.088801       3.150909       3.272860       3.905500   \n",
      "37      640.653417     933.570456     984.345748    1162.615329   \n",
      "43       42.228795      42.446185      44.395154      45.502840   \n",
      "49        1.249676       1.251300       1.267050       1.374825   \n",
      "55       31.083092      30.725967      32.479833      34.247717   \n",
      "61    20828.000000   20933.416670   21148.000000   21697.567500   \n",
      "67        6.312333       6.195758       6.143434       6.227489   \n",
      "73       79.790455      97.595658     105.944781     121.044026   \n",
      "79     1126.806667    1094.982500    1052.840000    1130.952500   \n",
      "85       53.437233      58.597845      61.029514      64.151944   \n",
      "91             NaN    2094.988465    2310.948159    2567.987213   \n",
      "97        3.640000       3.640000       3.640000       3.640000   \n",
      "103       1.000000       1.000000       1.000000       1.000000   \n",
      "109       0.633047       0.639661       0.607730       0.654545   \n",
      "115            NaN            NaN            NaN            NaN   \n",
      "121      30.839831      31.837144      38.378207      60.937650   \n",
      "127            NaN            NaN            NaN            NaN   \n",
      "133       0.965801       1.035843       1.109363       1.331090   \n",
      "139     225.104167     223.695000     232.601667     279.332500   \n",
      "145            NaN            NaN            NaN            NaN   \n",
      "\n",
      "     2016 [YR2016]  2017 [YR2017]  2018 [YR2018]  2019 [YR2019]  \\\n",
      "1         1.381347       1.380891       1.348919       1.364219   \n",
      "7      4058.694579    4050.579986    4051.166900    4061.148963   \n",
      "13        1.000000       1.000000       1.000000       1.000000   \n",
      "19    13308.326800   13380.833880   14236.938770   14147.671360   \n",
      "25     8124.366756    8244.843189    8401.334766    8679.409093   \n",
      "31        4.148301       4.300441       4.035130       4.142470   \n",
      "37     1234.869517    1360.358707    1429.807975    1518.255117   \n",
      "43       47.492464      50.403720      52.661430      51.795783   \n",
      "49        1.381546       1.380925       1.348842       1.364158   \n",
      "55       35.296383      33.939811      32.310226      31.047606   \n",
      "61    21935.000830   22370.086670   22602.050000   23050.241670   \n",
      "67        6.644478       6.758755       6.615957       6.908385   \n",
      "73      108.792900     112.166141     110.423179     109.009666   \n",
      "79     1160.767500    1131.000833    1100.163333    1165.357500   \n",
      "85       67.195313      65.121569      68.389467      70.420341   \n",
      "91     2965.253499    5113.878946    8069.606237    8836.787500   \n",
      "97        3.640000       3.640000       3.640000       3.640000   \n",
      "103       1.000000       1.000000       1.000000       1.000000   \n",
      "109       0.740634       0.776977       0.749532       0.783445   \n",
      "115            NaN            NaN            NaN            NaN   \n",
      "121      67.055933      58.342801      62.668133      64.737658   \n",
      "127            NaN            NaN            NaN            NaN   \n",
      "133       1.345214       1.304758       1.338412       1.438507   \n",
      "139     281.523333     274.433333     270.211667     290.660000   \n",
      "145            NaN            NaN            NaN            NaN   \n",
      "\n",
      "     2020 [YR2020]  2021 [YR2021]  2022 [YR2022]  \n",
      "1         1.379703       1.343807       1.378956  \n",
      "7      4092.783219    4098.722795    4102.037865  \n",
      "13        1.000000       1.000000       1.000000  \n",
      "19    14582.203470   14308.143900   14849.853940  \n",
      "25     9045.787834    9697.915789   14035.226690  \n",
      "31        4.203482       4.143298       4.401076  \n",
      "37     1381.619167            NaN            NaN  \n",
      "43       49.624096      49.254598      54.477786  \n",
      "49        1.379742       1.343483       1.378667  \n",
      "55       31.293673      31.977093      35.061350  \n",
      "61    23208.368330   23159.782590   23271.212500  \n",
      "67        6.900767       6.448975       6.737158  \n",
      "73      106.774582     109.754324     131.498140  \n",
      "79     1180.265833    1143.951667    1291.446667  \n",
      "85       74.099567      73.918013      78.604491  \n",
      "91    10054.261330   10609.464390   11050.145420  \n",
      "97        3.640000       3.640000       3.640000  \n",
      "103       1.000000       1.000000       1.000000  \n",
      "109       0.780000       0.727065       0.811302  \n",
      "115            NaN            NaN            NaN  \n",
      "121      72.104908      73.654350      68.484942  \n",
      "127            NaN            NaN            NaN  \n",
      "133       1.453085       1.331224       1.441664  \n",
      "139     307.996667     303.140833     372.595833  \n",
      "145            NaN            NaN            NaN  \n"
     ]
    }
   ],
   "source": [
    "data_exchange_rate = df[df['Series Name'].isin(['Official exchange rate (LCU per US$, period average)'])]\n",
    "print(data_exchange_rate)"
   ]
  },
  {
   "cell_type": "code",
   "execution_count": 12,
   "metadata": {
    "id": "kHS0dMNHNmm2"
   },
   "outputs": [
    {
     "name": "stdout",
     "output_type": "stream",
     "text": [
      "           Country Name Country Code  \\\n",
      "0     Brunei Darussalam          BRN   \n",
      "1              Cambodia          KHM   \n",
      "2           Timor-Leste          TLS   \n",
      "3             Indonesia          IDN   \n",
      "4               Lao PDR          LAO   \n",
      "..                  ...          ...   \n",
      "370  Russian Federation          RUS   \n",
      "371             Germany          DEU   \n",
      "372           Australia          AUS   \n",
      "373             Hungary          HUN   \n",
      "374             Ireland          IRL   \n",
      "\n",
      "                                           Series Name  Series Code  \\\n",
      "0    Official exchange rate (LCU per US$, period av...  PA.NUS.FCRF   \n",
      "1    Official exchange rate (LCU per US$, period av...  PA.NUS.FCRF   \n",
      "2    Official exchange rate (LCU per US$, period av...  PA.NUS.FCRF   \n",
      "3    Official exchange rate (LCU per US$, period av...  PA.NUS.FCRF   \n",
      "4    Official exchange rate (LCU per US$, period av...  PA.NUS.FCRF   \n",
      "..                                                 ...          ...   \n",
      "370  Official exchange rate (LCU per US$, period av...  PA.NUS.FCRF   \n",
      "371  Official exchange rate (LCU per US$, period av...  PA.NUS.FCRF   \n",
      "372  Official exchange rate (LCU per US$, period av...  PA.NUS.FCRF   \n",
      "373  Official exchange rate (LCU per US$, period av...  PA.NUS.FCRF   \n",
      "374  Official exchange rate (LCU per US$, period av...  PA.NUS.FCRF   \n",
      "\n",
      "              Year  Exchange Rate  \n",
      "0    2008 [YR2008]       1.417167  \n",
      "1    2008 [YR2008]    4054.166667  \n",
      "2    2008 [YR2008]       1.000000  \n",
      "3    2008 [YR2008]    9698.962500  \n",
      "4    2008 [YR2008]    8740.181403  \n",
      "..             ...            ...  \n",
      "370  2022 [YR2022]      68.484942  \n",
      "371  2022 [YR2022]            NaN  \n",
      "372  2022 [YR2022]       1.441664  \n",
      "373  2022 [YR2022]     372.595833  \n",
      "374  2022 [YR2022]            NaN  \n",
      "\n",
      "[375 rows x 6 columns]\n"
     ]
    }
   ],
   "source": [
    "id_vars_2 = [\"Country Name\",\"Country Code\", \"Series Name\", \"Series Code\"]\n",
    "c = pd.melt(frame=data_exchange_rate, id_vars=id_vars, var_name='Year', value_name='Exchange Rate')\n",
    "print(c)"
   ]
  },
  {
   "cell_type": "code",
   "execution_count": 13,
   "metadata": {
    "id": "aN5Cxyp6K3W1"
   },
   "outputs": [
    {
     "name": "stdout",
     "output_type": "stream",
     "text": [
      "         Country Name 3 Country Code 3  \\\n",
      "0     Brunei Darussalam            BRN   \n",
      "1              Cambodia            KHM   \n",
      "2           Timor-Leste            TLS   \n",
      "3             Indonesia            IDN   \n",
      "4               Lao PDR            LAO   \n",
      "..                  ...            ...   \n",
      "370  Russian Federation            RUS   \n",
      "371             Germany            DEU   \n",
      "372           Australia            AUS   \n",
      "373             Hungary            HUN   \n",
      "374             Ireland            IRL   \n",
      "\n",
      "                                         Series Name 3 Series Code 3  \\\n",
      "0    Official exchange rate (LCU per US$, period av...   PA.NUS.FCRF   \n",
      "1    Official exchange rate (LCU per US$, period av...   PA.NUS.FCRF   \n",
      "2    Official exchange rate (LCU per US$, period av...   PA.NUS.FCRF   \n",
      "3    Official exchange rate (LCU per US$, period av...   PA.NUS.FCRF   \n",
      "4    Official exchange rate (LCU per US$, period av...   PA.NUS.FCRF   \n",
      "..                                                 ...           ...   \n",
      "370  Official exchange rate (LCU per US$, period av...   PA.NUS.FCRF   \n",
      "371  Official exchange rate (LCU per US$, period av...   PA.NUS.FCRF   \n",
      "372  Official exchange rate (LCU per US$, period av...   PA.NUS.FCRF   \n",
      "373  Official exchange rate (LCU per US$, period av...   PA.NUS.FCRF   \n",
      "374  Official exchange rate (LCU per US$, period av...   PA.NUS.FCRF   \n",
      "\n",
      "            Year 3  Exchange Rate  \n",
      "0    2008 [YR2008]       1.417167  \n",
      "1    2008 [YR2008]    4054.166667  \n",
      "2    2008 [YR2008]       1.000000  \n",
      "3    2008 [YR2008]    9698.962500  \n",
      "4    2008 [YR2008]    8740.181403  \n",
      "..             ...            ...  \n",
      "370  2022 [YR2022]      68.484942  \n",
      "371  2022 [YR2022]            NaN  \n",
      "372  2022 [YR2022]       1.441664  \n",
      "373  2022 [YR2022]     372.595833  \n",
      "374  2022 [YR2022]            NaN  \n",
      "\n",
      "[375 rows x 6 columns]\n"
     ]
    }
   ],
   "source": [
    "change3 = c.rename(columns={'Series Code':'Series Code 3','Series Name':'Series Name 3','Country Code':'Country Code 3','Country Name':'Country Name 3', 'Year':'Year 3'})\n",
    "print(change3)"
   ]
  },
  {
   "cell_type": "code",
   "execution_count": 14,
   "metadata": {
    "id": "WHKEne3nOFyp"
   },
   "outputs": [
    {
     "name": "stdout",
     "output_type": "stream",
     "text": [
      "           Country Name Country Code             Series Name  \\\n",
      "2     Brunei Darussalam          BRN  Broad money (% of GDP)   \n",
      "8              Cambodia          KHM  Broad money (% of GDP)   \n",
      "14          Timor-Leste          TLS  Broad money (% of GDP)   \n",
      "20            Indonesia          IDN  Broad money (% of GDP)   \n",
      "26              Lao PDR          LAO  Broad money (% of GDP)   \n",
      "32             Malaysia          MYS  Broad money (% of GDP)   \n",
      "38              Myanmar          MMR  Broad money (% of GDP)   \n",
      "44          Philippines          PHL  Broad money (% of GDP)   \n",
      "50            Singapore          SGP  Broad money (% of GDP)   \n",
      "56             Thailand          THA  Broad money (% of GDP)   \n",
      "62             Viet Nam          VNM  Broad money (% of GDP)   \n",
      "68                China          CHN  Broad money (% of GDP)   \n",
      "74                Japan          JPN  Broad money (% of GDP)   \n",
      "80          Korea, Rep.          KOR  Broad money (% of GDP)   \n",
      "86                India          IND  Broad money (% of GDP)   \n",
      "92           Uzbekistan          UZB  Broad money (% of GDP)   \n",
      "98                Qatar          QAT  Broad money (% of GDP)   \n",
      "104       United States          USA  Broad money (% of GDP)   \n",
      "110      United Kingdom          GBR  Broad money (% of GDP)   \n",
      "116              France          FRA  Broad money (% of GDP)   \n",
      "122  Russian Federation          RUS  Broad money (% of GDP)   \n",
      "128             Germany          DEU  Broad money (% of GDP)   \n",
      "134           Australia          AUS  Broad money (% of GDP)   \n",
      "140             Hungary          HUN  Broad money (% of GDP)   \n",
      "146             Ireland          IRL  Broad money (% of GDP)   \n",
      "\n",
      "           Series Code  2008 [YR2008]  2009 [YR2009]  2010 [YR2010]  \\\n",
      "2    FM.LBL.BMNY.GD.ZS      53.632941      76.843802      67.271187   \n",
      "8    FM.LBL.BMNY.GD.ZS      28.360056      37.479415      41.605745   \n",
      "14   FM.LBL.BMNY.GD.ZS      29.707192      36.915882      33.453007   \n",
      "20   FM.LBL.BMNY.GD.ZS      38.309921      38.196684      36.001718   \n",
      "26   FM.LBL.BMNY.GD.ZS      24.292577      30.824175      36.187834   \n",
      "32   FM.LBL.BMNY.GD.ZS     119.590240     139.165621     129.644649   \n",
      "38   FM.LBL.BMNY.GD.ZS      17.229314      19.412874      23.572070   \n",
      "44   FM.LBL.BMNY.GD.ZS      56.998724      59.411619      58.812929   \n",
      "50   FM.LBL.BMNY.GD.ZS     121.708568     131.450329     123.278603   \n",
      "56   FM.LBL.BMNY.GD.ZS     102.445696     109.922073     108.980921   \n",
      "62   FM.LBL.BMNY.GD.ZS      93.657170     105.606938      90.454456   \n",
      "68   FM.LBL.BMNY.GD.ZS     148.840914     175.091379     176.126637   \n",
      "74   FM.LBL.BMNY.GD.ZS     198.386943     216.024903     215.336381   \n",
      "80   FM.LBL.BMNY.GD.ZS     123.537265     129.991537     125.549370   \n",
      "86   FM.LBL.BMNY.GD.ZS      77.372956      79.075196      77.679952   \n",
      "92   FM.LBL.BMNY.GD.ZS            NaN            NaN            NaN   \n",
      "98   FM.LBL.BMNY.GD.ZS      43.854270      60.418593      58.122436   \n",
      "104  FM.LBL.BMNY.GD.ZS      84.254404      90.690697      84.848819   \n",
      "110  FM.LBL.BMNY.GD.ZS     158.753953     163.239404     163.447113   \n",
      "116  FM.LBL.BMNY.GD.ZS            NaN            NaN            NaN   \n",
      "122  FM.LBL.BMNY.GD.ZS      39.507861      49.298818      51.439107   \n",
      "128  FM.LBL.BMNY.GD.ZS            NaN            NaN            NaN   \n",
      "134  FM.LBL.BMNY.GD.ZS      97.725604      94.318788     100.454499   \n",
      "140  FM.LBL.BMNY.GD.ZS      56.687272      60.370887      60.738531   \n",
      "146  FM.LBL.BMNY.GD.ZS            NaN            NaN            NaN   \n",
      "\n",
      "     2011 [YR2011]  2012 [YR2012]  2013 [YR2013]  2014 [YR2014]  \\\n",
      "2        59.379414      58.656468      62.574789      67.498574   \n",
      "8        39.074369      50.040490      56.343037      67.376650   \n",
      "14       30.927260      35.064862      35.834671      41.437476   \n",
      "20       36.738002      38.389288      39.075474      39.483850   \n",
      "26             NaN            NaN            NaN            NaN   \n",
      "32      133.890597     136.803868     140.092354     137.102329   \n",
      "38       26.443556      31.667353      36.774564      39.539715   \n",
      "44       57.384413      56.304991      66.836603      68.570197   \n",
      "50      126.180650     128.912779     128.850836     128.445569   \n",
      "56      119.925707     121.116548     124.369226     127.049552   \n",
      "62       78.372150      84.816471      81.592236      88.092045   \n",
      "68      174.527720     180.873584     186.609379     190.870922   \n",
      "74      225.220520     228.803714     233.038510     235.022523   \n",
      "80      126.100615     127.465250     127.983114     132.906496   \n",
      "86       78.837311      76.913189      78.182172      77.899354   \n",
      "92             NaN            NaN      19.174792      18.211308   \n",
      "98       50.755636      56.031146      62.998992      67.144459   \n",
      "104      87.323685      87.916840      88.660082      89.492184   \n",
      "110     151.148330     147.768178     145.145350     135.302828   \n",
      "116            NaN            NaN            NaN            NaN   \n",
      "122      47.386466      47.289416      51.200030      54.295331   \n",
      "128            NaN            NaN            NaN            NaN   \n",
      "134      99.722337     101.186779     105.443124     108.467080   \n",
      "140      62.396932      58.562913      60.317028      57.199725   \n",
      "146            NaN            NaN            NaN            NaN   \n",
      "\n",
      "     2015 [YR2015]  2016 [YR2016]  2017 [YR2017]  2018 [YR2018]  \\\n",
      "2        80.804117      92.596950      86.685187      81.580044   \n",
      "8        72.402134      79.174828      88.176471     100.699382   \n",
      "14       40.261740      44.407380      51.488654      54.182721   \n",
      "20       39.464420      40.357090      39.876634      38.817581   \n",
      "26             NaN            NaN            NaN            NaN   \n",
      "32      132.812779     128.584186     122.534206     125.077865   \n",
      "38       46.372510      49.696044      53.310368      54.560699   \n",
      "44       70.916564      74.056518      75.417721      74.515187   \n",
      "50      122.859263     127.528532     122.368138     118.563025   \n",
      "56      127.730604     125.396343     124.044740     122.819408   \n",
      "62       96.157750     104.580456     107.026235     108.534905   \n",
      "68      202.113889     207.673758     201.406398     195.035876   \n",
      "74      233.407901     239.591314     244.019704     248.125676   \n",
      "80      135.545681     138.297753     137.841483     142.259661   \n",
      "86       78.011911      74.549265      74.144189      74.097825   \n",
      "92       19.104937      20.446751      23.064148      19.586855   \n",
      "98       88.560123      90.085678     102.887325      84.515936   \n",
      "104      88.982367      89.990169      90.523831      89.330389   \n",
      "110     134.090827     140.275451     145.286778     148.023746   \n",
      "116            NaN            NaN            NaN            NaN   \n",
      "122      61.826583      59.445829      59.522207      59.118616   \n",
      "128            NaN            NaN            NaN            NaN   \n",
      "134     113.186278     118.242315     116.533572     113.792564   \n",
      "140      56.714420      58.734239      58.362546      59.073676   \n",
      "146            NaN            NaN            NaN            NaN   \n",
      "\n",
      "     2019 [YR2019]  2020 [YR2020]  2021 [YR2021]  2022 [YR2022]  \n",
      "2        84.718771      93.575018      84.579343      70.072200  \n",
      "8       107.655731     128.944978     143.828491     142.082319  \n",
      "14       38.887542      40.318115      30.883170      37.907132  \n",
      "20       38.760244      44.717874      46.360348      43.535983  \n",
      "26             NaN            NaN            NaN            NaN  \n",
      "32      122.907053     137.093714     132.530757     119.173065  \n",
      "38       56.107606      69.204643            NaN            NaN  \n",
      "44       76.597176      90.490532      90.367191      85.870582  \n",
      "50      123.046846     148.948181            NaN            NaN  \n",
      "56      123.398634     146.594886     148.835387     143.890910  \n",
      "62      112.523288     122.858923     127.234878     122.544247  \n",
      "68      197.886547     211.891638     203.837873     216.144994  \n",
      "74      252.711294     280.370306     281.966765     284.506479  \n",
      "80      151.395815     164.878263     173.718402     173.849608  \n",
      "86       76.981881      87.783534      82.544138            NaN  \n",
      "92       17.864590      18.498648      19.670858      21.285175  \n",
      "98       90.032908     114.121316      93.010929      83.081190  \n",
      "104      92.986980     110.638765     116.872423            NaN  \n",
      "110     140.670149     163.831234     165.625401     163.940914  \n",
      "116            NaN            NaN            NaN            NaN  \n",
      "122      58.878297      69.929527            NaN            NaN  \n",
      "128            NaN            NaN            NaN            NaN  \n",
      "134     122.768446     137.118888     139.000264     134.202801  \n",
      "140      58.142515      69.312649      72.055947      65.282099  \n",
      "146            NaN            NaN            NaN            NaN  \n"
     ]
    }
   ],
   "source": [
    "data_money_supply = df[df['Series Name'].isin(['Broad money (% of GDP)'])]\n",
    "print(data_money_supply)"
   ]
  },
  {
   "cell_type": "code",
   "execution_count": 15,
   "metadata": {
    "id": "xxk1lHXzOUnB"
   },
   "outputs": [
    {
     "name": "stdout",
     "output_type": "stream",
     "text": [
      "           Country Name Country Code             Series Name  \\\n",
      "0     Brunei Darussalam          BRN  Broad money (% of GDP)   \n",
      "1              Cambodia          KHM  Broad money (% of GDP)   \n",
      "2           Timor-Leste          TLS  Broad money (% of GDP)   \n",
      "3             Indonesia          IDN  Broad money (% of GDP)   \n",
      "4               Lao PDR          LAO  Broad money (% of GDP)   \n",
      "..                  ...          ...                     ...   \n",
      "370  Russian Federation          RUS  Broad money (% of GDP)   \n",
      "371             Germany          DEU  Broad money (% of GDP)   \n",
      "372           Australia          AUS  Broad money (% of GDP)   \n",
      "373             Hungary          HUN  Broad money (% of GDP)   \n",
      "374             Ireland          IRL  Broad money (% of GDP)   \n",
      "\n",
      "           Series Code           Year  Money Supply  \n",
      "0    FM.LBL.BMNY.GD.ZS  2008 [YR2008]     53.632941  \n",
      "1    FM.LBL.BMNY.GD.ZS  2008 [YR2008]     28.360056  \n",
      "2    FM.LBL.BMNY.GD.ZS  2008 [YR2008]     29.707192  \n",
      "3    FM.LBL.BMNY.GD.ZS  2008 [YR2008]     38.309921  \n",
      "4    FM.LBL.BMNY.GD.ZS  2008 [YR2008]     24.292577  \n",
      "..                 ...            ...           ...  \n",
      "370  FM.LBL.BMNY.GD.ZS  2022 [YR2022]           NaN  \n",
      "371  FM.LBL.BMNY.GD.ZS  2022 [YR2022]           NaN  \n",
      "372  FM.LBL.BMNY.GD.ZS  2022 [YR2022]    134.202801  \n",
      "373  FM.LBL.BMNY.GD.ZS  2022 [YR2022]     65.282099  \n",
      "374  FM.LBL.BMNY.GD.ZS  2022 [YR2022]           NaN  \n",
      "\n",
      "[375 rows x 6 columns]\n"
     ]
    }
   ],
   "source": [
    "id_vars_3 = [\"Country Name\",\"Country Code\", \"Series Name\", \"Series Code\"]\n",
    "d = pd.melt(frame=data_money_supply, id_vars=id_vars, var_name='Year', value_name='Money Supply')\n",
    "print(d)"
   ]
  },
  {
   "cell_type": "code",
   "execution_count": 16,
   "metadata": {
    "id": "AQF2MIUXLwPB"
   },
   "outputs": [
    {
     "name": "stdout",
     "output_type": "stream",
     "text": [
      "         Country Name 4 Country Code 4           Series Name 4  \\\n",
      "0     Brunei Darussalam            BRN  Broad money (% of GDP)   \n",
      "1              Cambodia            KHM  Broad money (% of GDP)   \n",
      "2           Timor-Leste            TLS  Broad money (% of GDP)   \n",
      "3             Indonesia            IDN  Broad money (% of GDP)   \n",
      "4               Lao PDR            LAO  Broad money (% of GDP)   \n",
      "..                  ...            ...                     ...   \n",
      "370  Russian Federation            RUS  Broad money (% of GDP)   \n",
      "371             Germany            DEU  Broad money (% of GDP)   \n",
      "372           Australia            AUS  Broad money (% of GDP)   \n",
      "373             Hungary            HUN  Broad money (% of GDP)   \n",
      "374             Ireland            IRL  Broad money (% of GDP)   \n",
      "\n",
      "         Series Code 4         Year 4  Money Supply  \n",
      "0    FM.LBL.BMNY.GD.ZS  2008 [YR2008]     53.632941  \n",
      "1    FM.LBL.BMNY.GD.ZS  2008 [YR2008]     28.360056  \n",
      "2    FM.LBL.BMNY.GD.ZS  2008 [YR2008]     29.707192  \n",
      "3    FM.LBL.BMNY.GD.ZS  2008 [YR2008]     38.309921  \n",
      "4    FM.LBL.BMNY.GD.ZS  2008 [YR2008]     24.292577  \n",
      "..                 ...            ...           ...  \n",
      "370  FM.LBL.BMNY.GD.ZS  2022 [YR2022]           NaN  \n",
      "371  FM.LBL.BMNY.GD.ZS  2022 [YR2022]           NaN  \n",
      "372  FM.LBL.BMNY.GD.ZS  2022 [YR2022]    134.202801  \n",
      "373  FM.LBL.BMNY.GD.ZS  2022 [YR2022]     65.282099  \n",
      "374  FM.LBL.BMNY.GD.ZS  2022 [YR2022]           NaN  \n",
      "\n",
      "[375 rows x 6 columns]\n"
     ]
    }
   ],
   "source": [
    "change4 = d.rename(columns={'Series Code':'Series Code 4','Series Name':'Series Name 4','Country Code':'Country Code 4','Country Name':'Country Name 4', 'Year':'Year 4'})\n",
    "print(change4)"
   ]
  },
  {
   "cell_type": "code",
   "execution_count": 17,
   "metadata": {
    "id": "UPQV1TuAb7er"
   },
   "outputs": [
    {
     "name": "stdout",
     "output_type": "stream",
     "text": [
      "         Country Name 3 Country Code 3  \\\n",
      "0     Brunei Darussalam            BRN   \n",
      "1              Cambodia            KHM   \n",
      "2           Timor-Leste            TLS   \n",
      "3             Indonesia            IDN   \n",
      "4               Lao PDR            LAO   \n",
      "..                  ...            ...   \n",
      "370  Russian Federation            RUS   \n",
      "371             Germany            DEU   \n",
      "372           Australia            AUS   \n",
      "373             Hungary            HUN   \n",
      "374             Ireland            IRL   \n",
      "\n",
      "                                         Series Name 3 Series Code 3  \\\n",
      "0    Official exchange rate (LCU per US$, period av...   PA.NUS.FCRF   \n",
      "1    Official exchange rate (LCU per US$, period av...   PA.NUS.FCRF   \n",
      "2    Official exchange rate (LCU per US$, period av...   PA.NUS.FCRF   \n",
      "3    Official exchange rate (LCU per US$, period av...   PA.NUS.FCRF   \n",
      "4    Official exchange rate (LCU per US$, period av...   PA.NUS.FCRF   \n",
      "..                                                 ...           ...   \n",
      "370  Official exchange rate (LCU per US$, period av...   PA.NUS.FCRF   \n",
      "371  Official exchange rate (LCU per US$, period av...   PA.NUS.FCRF   \n",
      "372  Official exchange rate (LCU per US$, period av...   PA.NUS.FCRF   \n",
      "373  Official exchange rate (LCU per US$, period av...   PA.NUS.FCRF   \n",
      "374  Official exchange rate (LCU per US$, period av...   PA.NUS.FCRF   \n",
      "\n",
      "            Year 3  Exchange Rate      Country Name 4 Country Code 4  \\\n",
      "0    2008 [YR2008]       1.417167   Brunei Darussalam            BRN   \n",
      "1    2008 [YR2008]    4054.166667            Cambodia            KHM   \n",
      "2    2008 [YR2008]       1.000000         Timor-Leste            TLS   \n",
      "3    2008 [YR2008]    9698.962500           Indonesia            IDN   \n",
      "4    2008 [YR2008]    8740.181403             Lao PDR            LAO   \n",
      "..             ...            ...                 ...            ...   \n",
      "370  2022 [YR2022]      68.484942  Russian Federation            RUS   \n",
      "371  2022 [YR2022]            NaN             Germany            DEU   \n",
      "372  2022 [YR2022]       1.441664           Australia            AUS   \n",
      "373  2022 [YR2022]     372.595833             Hungary            HUN   \n",
      "374  2022 [YR2022]            NaN             Ireland            IRL   \n",
      "\n",
      "              Series Name 4      Series Code 4         Year 4  Money Supply  \n",
      "0    Broad money (% of GDP)  FM.LBL.BMNY.GD.ZS  2008 [YR2008]     53.632941  \n",
      "1    Broad money (% of GDP)  FM.LBL.BMNY.GD.ZS  2008 [YR2008]     28.360056  \n",
      "2    Broad money (% of GDP)  FM.LBL.BMNY.GD.ZS  2008 [YR2008]     29.707192  \n",
      "3    Broad money (% of GDP)  FM.LBL.BMNY.GD.ZS  2008 [YR2008]     38.309921  \n",
      "4    Broad money (% of GDP)  FM.LBL.BMNY.GD.ZS  2008 [YR2008]     24.292577  \n",
      "..                      ...                ...            ...           ...  \n",
      "370  Broad money (% of GDP)  FM.LBL.BMNY.GD.ZS  2022 [YR2022]           NaN  \n",
      "371  Broad money (% of GDP)  FM.LBL.BMNY.GD.ZS  2022 [YR2022]           NaN  \n",
      "372  Broad money (% of GDP)  FM.LBL.BMNY.GD.ZS  2022 [YR2022]    134.202801  \n",
      "373  Broad money (% of GDP)  FM.LBL.BMNY.GD.ZS  2022 [YR2022]     65.282099  \n",
      "374  Broad money (% of GDP)  FM.LBL.BMNY.GD.ZS  2022 [YR2022]           NaN  \n",
      "\n",
      "[375 rows x 12 columns]\n"
     ]
    }
   ],
   "source": [
    "merge2 = pd.concat([change3, change4], axis=1)\n",
    "print(merge2)"
   ]
  },
  {
   "cell_type": "code",
   "execution_count": 18,
   "metadata": {
    "id": "Y5YWGQbIMMNe"
   },
   "outputs": [
    {
     "name": "stdout",
     "output_type": "stream",
     "text": [
      "     Exchange Rate  Money Supply\n",
      "0         1.417167     53.632941\n",
      "1      4054.166667     28.360056\n",
      "2         1.000000     29.707192\n",
      "3      9698.962500     38.309921\n",
      "4      8740.181403     24.292577\n",
      "..             ...           ...\n",
      "370      68.484942           NaN\n",
      "371            NaN           NaN\n",
      "372       1.441664    134.202801\n",
      "373     372.595833     65.282099\n",
      "374            NaN           NaN\n",
      "\n",
      "[375 rows x 2 columns]\n"
     ]
    }
   ],
   "source": [
    "#Ghép 2 bảng 3 và 4 với nhau (Bảng Unemployment và Bảng CPI )\n",
    "table2 = merge2.drop(['Country Code 3', 'Series Name 3', 'Series Code 3','Country Code 4','Series Name 4','Series Code 4','Country Name 4','Year 4','Year 3','Country Name 3'], axis=1)\n",
    "print(table2)"
   ]
  },
  {
   "cell_type": "code",
   "execution_count": 19,
   "metadata": {
    "id": "6CyKfOR16wtY"
   },
   "outputs": [
    {
     "name": "stdout",
     "output_type": "stream",
     "text": [
      "           Country Name Country Code  \\\n",
      "4     Brunei Darussalam          BRN   \n",
      "10             Cambodia          KHM   \n",
      "16          Timor-Leste          TLS   \n",
      "22            Indonesia          IDN   \n",
      "28              Lao PDR          LAO   \n",
      "34             Malaysia          MYS   \n",
      "40              Myanmar          MMR   \n",
      "46          Philippines          PHL   \n",
      "52            Singapore          SGP   \n",
      "58             Thailand          THA   \n",
      "64             Viet Nam          VNM   \n",
      "70                China          CHN   \n",
      "76                Japan          JPN   \n",
      "82          Korea, Rep.          KOR   \n",
      "88                India          IND   \n",
      "94           Uzbekistan          UZB   \n",
      "100               Qatar          QAT   \n",
      "106       United States          USA   \n",
      "112      United Kingdom          GBR   \n",
      "118              France          FRA   \n",
      "124  Russian Federation          RUS   \n",
      "130             Germany          DEU   \n",
      "136           Australia          AUS   \n",
      "142             Hungary          HUN   \n",
      "148             Ireland          IRL   \n",
      "\n",
      "                                           Series Name     Series Code  \\\n",
      "4    Unemployment, total (% of total labor force) (...  SL.UEM.TOTL.ZS   \n",
      "10   Unemployment, total (% of total labor force) (...  SL.UEM.TOTL.ZS   \n",
      "16   Unemployment, total (% of total labor force) (...  SL.UEM.TOTL.ZS   \n",
      "22   Unemployment, total (% of total labor force) (...  SL.UEM.TOTL.ZS   \n",
      "28   Unemployment, total (% of total labor force) (...  SL.UEM.TOTL.ZS   \n",
      "34   Unemployment, total (% of total labor force) (...  SL.UEM.TOTL.ZS   \n",
      "40   Unemployment, total (% of total labor force) (...  SL.UEM.TOTL.ZS   \n",
      "46   Unemployment, total (% of total labor force) (...  SL.UEM.TOTL.ZS   \n",
      "52   Unemployment, total (% of total labor force) (...  SL.UEM.TOTL.ZS   \n",
      "58   Unemployment, total (% of total labor force) (...  SL.UEM.TOTL.ZS   \n",
      "64   Unemployment, total (% of total labor force) (...  SL.UEM.TOTL.ZS   \n",
      "70   Unemployment, total (% of total labor force) (...  SL.UEM.TOTL.ZS   \n",
      "76   Unemployment, total (% of total labor force) (...  SL.UEM.TOTL.ZS   \n",
      "82   Unemployment, total (% of total labor force) (...  SL.UEM.TOTL.ZS   \n",
      "88   Unemployment, total (% of total labor force) (...  SL.UEM.TOTL.ZS   \n",
      "94   Unemployment, total (% of total labor force) (...  SL.UEM.TOTL.ZS   \n",
      "100  Unemployment, total (% of total labor force) (...  SL.UEM.TOTL.ZS   \n",
      "106  Unemployment, total (% of total labor force) (...  SL.UEM.TOTL.ZS   \n",
      "112  Unemployment, total (% of total labor force) (...  SL.UEM.TOTL.ZS   \n",
      "118  Unemployment, total (% of total labor force) (...  SL.UEM.TOTL.ZS   \n",
      "124  Unemployment, total (% of total labor force) (...  SL.UEM.TOTL.ZS   \n",
      "130  Unemployment, total (% of total labor force) (...  SL.UEM.TOTL.ZS   \n",
      "136  Unemployment, total (% of total labor force) (...  SL.UEM.TOTL.ZS   \n",
      "142  Unemployment, total (% of total labor force) (...  SL.UEM.TOTL.ZS   \n",
      "148  Unemployment, total (% of total labor force) (...  SL.UEM.TOTL.ZS   \n",
      "\n",
      "     2008 [YR2008]  2009 [YR2009]  2010 [YR2010]  2011 [YR2011]  \\\n",
      "4            6.293          6.393          6.483          6.569   \n",
      "10           0.820          0.580          0.770          0.580   \n",
      "16           3.362          3.296          3.300          3.532   \n",
      "22           7.210          6.110          5.610          5.150   \n",
      "28           0.943          0.834          0.710          1.059   \n",
      "34           3.320          3.660          3.390          3.050   \n",
      "40           0.698          0.709          0.719          0.733   \n",
      "46           3.720          3.860          3.610          3.590   \n",
      "52           3.960          5.860          4.120          3.890   \n",
      "58           1.180          1.490          0.620          0.660   \n",
      "64           1.893          1.740          1.110          1.000   \n",
      "70           4.590          4.720          4.530          4.550   \n",
      "76           4.000          5.070          5.100          4.550   \n",
      "82           2.960          3.360          3.320          2.990   \n",
      "88           8.463          8.383          8.300          8.215   \n",
      "94           4.890          5.040          5.360          4.960   \n",
      "100          0.310          0.310          0.450          0.560   \n",
      "106          5.780          9.250          9.630          8.950   \n",
      "112          5.620          7.540          7.790          8.040   \n",
      "118          7.390          9.120          9.280          9.230   \n",
      "124          6.210          8.300          7.370          6.540   \n",
      "130          7.520          7.740          6.970          5.820   \n",
      "136          4.240          5.570          5.210          5.080   \n",
      "142          7.820         10.030         11.170         11.030   \n",
      "148          6.770         12.610         14.530         15.350   \n",
      "\n",
      "     2012 [YR2012]  2013 [YR2013]  2014 [YR2014]  2015 [YR2015]  \\\n",
      "4            6.660          6.759          6.860          7.683   \n",
      "10           0.499          0.440          0.690          0.390   \n",
      "16           3.767          4.010          4.228          4.451   \n",
      "22           4.470          4.340          4.050          4.510   \n",
      "28           1.404          1.762          2.123          2.496   \n",
      "34           3.100          3.160          2.880          3.100   \n",
      "40           0.750          0.759          0.755          0.770   \n",
      "46           3.500          3.500          3.600          3.070   \n",
      "52           3.720          3.860          3.740          3.790   \n",
      "58           0.580          0.250          0.580          0.600   \n",
      "64           1.030          1.320          1.260          1.850   \n",
      "70           4.580          4.600          4.630          4.650   \n",
      "76           4.360          4.040          3.590          3.390   \n",
      "82           2.810          2.750          3.080          3.550   \n",
      "88           8.138          8.060          7.976          7.891   \n",
      "94           4.870          4.860          5.090          5.150   \n",
      "100          0.480          0.280          0.200          0.170   \n",
      "106          8.070          7.370          6.170          5.280   \n",
      "112          7.880          7.520          6.110          5.300   \n",
      "118          9.840          9.910         10.270         10.350   \n",
      "124          5.440          5.460          5.160          5.570   \n",
      "130          5.380          5.230          4.980          4.620   \n",
      "136          5.230          5.660          6.080          6.060   \n",
      "142         11.000         10.180          7.730          6.810   \n",
      "148         15.450         13.730         11.860          9.910   \n",
      "\n",
      "     2016 [YR2016]  2017 [YR2017]  2018 [YR2018]  2019 [YR2019]  \\\n",
      "4            8.505          9.320          8.700          6.600   \n",
      "10           0.720          0.140          0.128          0.116   \n",
      "16           4.660          4.191          3.690          3.079   \n",
      "22           4.300          3.780          4.390          3.590   \n",
      "28           2.883          3.270          3.308          3.364   \n",
      "34           3.440          3.410          3.300          3.260   \n",
      "40           1.049          1.360          0.770          0.410   \n",
      "46           2.700          2.550          2.340          2.240   \n",
      "52           4.080          4.200          3.606          3.100   \n",
      "58           0.690          0.830          0.770          0.720   \n",
      "64           1.850          1.870          1.160          1.680   \n",
      "70           4.560          4.470          4.310          4.560   \n",
      "76           3.130          2.820          2.470          2.350   \n",
      "82           3.650          3.650          3.820          3.750   \n",
      "88           7.808          7.728          7.650          6.510   \n",
      "94           5.160          5.830          5.379          4.920   \n",
      "100          0.150          0.140          0.110          0.100   \n",
      "106          4.870          4.360          3.900          3.670   \n",
      "112          4.810          4.330          4.000          3.740   \n",
      "118         10.060          9.410          9.020          8.410   \n",
      "124          5.560          5.210          4.850          4.500   \n",
      "130          4.120          3.750          3.380          3.140   \n",
      "136          5.710          5.590          5.300          5.160   \n",
      "142          5.110          4.160          3.710          3.420   \n",
      "148          8.370          6.710          5.740          4.950   \n",
      "\n",
      "     2020 [YR2020]  2021 [YR2021]  2022 [YR2022]  \n",
      "4            7.410          4.910          4.452  \n",
      "10           0.170          0.400          0.226  \n",
      "16           2.791          2.340          1.786  \n",
      "22           4.250          3.830          3.460  \n",
      "28           3.862          4.150          3.819  \n",
      "34           4.540          4.083          3.629  \n",
      "40           1.480          4.340          2.956  \n",
      "46           2.520          3.400          2.375  \n",
      "52           4.100          4.640          3.590  \n",
      "58           1.100          1.210          0.940  \n",
      "64           2.100          2.380          1.540  \n",
      "70           5.000          4.550          4.980  \n",
      "76           2.810          2.830          2.600  \n",
      "82           3.930          3.640          2.860  \n",
      "88           7.860          6.380          4.822  \n",
      "94           5.290          5.419          4.507  \n",
      "100          0.140          0.140          0.130  \n",
      "106          8.050          5.350          3.650  \n",
      "112          4.472          4.826          3.730  \n",
      "118          8.010          7.860          7.310  \n",
      "124          5.590          4.720          3.867  \n",
      "130          3.860          3.640          3.140  \n",
      "136          6.460          5.120          3.700  \n",
      "142          4.250          4.050          3.610  \n",
      "148          5.620          6.190          4.480  \n"
     ]
    }
   ],
   "source": [
    "data_unemployment = df[df['Series Name'].isin(['Unemployment, total (% of total labor force) (modeled ILO estimate)'])]\n",
    "print(data_unemployment)"
   ]
  },
  {
   "cell_type": "code",
   "execution_count": 20,
   "metadata": {
    "id": "AJf_iwek7PU6"
   },
   "outputs": [
    {
     "name": "stdout",
     "output_type": "stream",
     "text": [
      "           Country Name Country Code  \\\n",
      "0     Brunei Darussalam          BRN   \n",
      "1              Cambodia          KHM   \n",
      "2           Timor-Leste          TLS   \n",
      "3             Indonesia          IDN   \n",
      "4               Lao PDR          LAO   \n",
      "..                  ...          ...   \n",
      "370  Russian Federation          RUS   \n",
      "371             Germany          DEU   \n",
      "372           Australia          AUS   \n",
      "373             Hungary          HUN   \n",
      "374             Ireland          IRL   \n",
      "\n",
      "                                           Series Name     Series Code  \\\n",
      "0    Unemployment, total (% of total labor force) (...  SL.UEM.TOTL.ZS   \n",
      "1    Unemployment, total (% of total labor force) (...  SL.UEM.TOTL.ZS   \n",
      "2    Unemployment, total (% of total labor force) (...  SL.UEM.TOTL.ZS   \n",
      "3    Unemployment, total (% of total labor force) (...  SL.UEM.TOTL.ZS   \n",
      "4    Unemployment, total (% of total labor force) (...  SL.UEM.TOTL.ZS   \n",
      "..                                                 ...             ...   \n",
      "370  Unemployment, total (% of total labor force) (...  SL.UEM.TOTL.ZS   \n",
      "371  Unemployment, total (% of total labor force) (...  SL.UEM.TOTL.ZS   \n",
      "372  Unemployment, total (% of total labor force) (...  SL.UEM.TOTL.ZS   \n",
      "373  Unemployment, total (% of total labor force) (...  SL.UEM.TOTL.ZS   \n",
      "374  Unemployment, total (% of total labor force) (...  SL.UEM.TOTL.ZS   \n",
      "\n",
      "              Year  Unemployment  \n",
      "0    2008 [YR2008]         6.293  \n",
      "1    2008 [YR2008]         0.820  \n",
      "2    2008 [YR2008]         3.362  \n",
      "3    2008 [YR2008]         7.210  \n",
      "4    2008 [YR2008]         0.943  \n",
      "..             ...           ...  \n",
      "370  2022 [YR2022]         3.867  \n",
      "371  2022 [YR2022]         3.140  \n",
      "372  2022 [YR2022]         3.700  \n",
      "373  2022 [YR2022]         3.610  \n",
      "374  2022 [YR2022]         4.480  \n",
      "\n",
      "[375 rows x 6 columns]\n"
     ]
    }
   ],
   "source": [
    "id_vars_4 = [\"Country Name\",\"Country Code\", \"Series Name\", \"Series Code\"]\n",
    "e = pd.melt(frame=data_unemployment, id_vars=id_vars, var_name='Year', value_name='Unemployment')\n",
    "print(e)"
   ]
  },
  {
   "cell_type": "code",
   "execution_count": 21,
   "metadata": {
    "id": "wmcok9Ud7ofx"
   },
   "outputs": [
    {
     "name": "stdout",
     "output_type": "stream",
     "text": [
      "         Country Name 5 Country Code 5  \\\n",
      "0     Brunei Darussalam            BRN   \n",
      "1              Cambodia            KHM   \n",
      "2           Timor-Leste            TLS   \n",
      "3             Indonesia            IDN   \n",
      "4               Lao PDR            LAO   \n",
      "..                  ...            ...   \n",
      "370  Russian Federation            RUS   \n",
      "371             Germany            DEU   \n",
      "372           Australia            AUS   \n",
      "373             Hungary            HUN   \n",
      "374             Ireland            IRL   \n",
      "\n",
      "                                         Series Name 5   Series Code 5  \\\n",
      "0    Unemployment, total (% of total labor force) (...  SL.UEM.TOTL.ZS   \n",
      "1    Unemployment, total (% of total labor force) (...  SL.UEM.TOTL.ZS   \n",
      "2    Unemployment, total (% of total labor force) (...  SL.UEM.TOTL.ZS   \n",
      "3    Unemployment, total (% of total labor force) (...  SL.UEM.TOTL.ZS   \n",
      "4    Unemployment, total (% of total labor force) (...  SL.UEM.TOTL.ZS   \n",
      "..                                                 ...             ...   \n",
      "370  Unemployment, total (% of total labor force) (...  SL.UEM.TOTL.ZS   \n",
      "371  Unemployment, total (% of total labor force) (...  SL.UEM.TOTL.ZS   \n",
      "372  Unemployment, total (% of total labor force) (...  SL.UEM.TOTL.ZS   \n",
      "373  Unemployment, total (% of total labor force) (...  SL.UEM.TOTL.ZS   \n",
      "374  Unemployment, total (% of total labor force) (...  SL.UEM.TOTL.ZS   \n",
      "\n",
      "            Year 5  Unemployment  \n",
      "0    2008 [YR2008]         6.293  \n",
      "1    2008 [YR2008]         0.820  \n",
      "2    2008 [YR2008]         3.362  \n",
      "3    2008 [YR2008]         7.210  \n",
      "4    2008 [YR2008]         0.943  \n",
      "..             ...           ...  \n",
      "370  2022 [YR2022]         3.867  \n",
      "371  2022 [YR2022]         3.140  \n",
      "372  2022 [YR2022]         3.700  \n",
      "373  2022 [YR2022]         3.610  \n",
      "374  2022 [YR2022]         4.480  \n",
      "\n",
      "[375 rows x 6 columns]\n"
     ]
    }
   ],
   "source": [
    "change5 = e.rename(columns={'Series Code':'Series Code 5','Series Name':'Series Name 5','Country Code':'Country Code 5','Country Name':'Country Name 5', 'Year':'Year 5'})\n",
    "print(change5)"
   ]
  },
  {
   "cell_type": "code",
   "execution_count": 22,
   "metadata": {
    "id": "WbQAuG7f8AH8"
   },
   "outputs": [
    {
     "name": "stdout",
     "output_type": "stream",
     "text": [
      "           Country Name Country Code  \\\n",
      "5     Brunei Darussalam          BRN   \n",
      "11             Cambodia          KHM   \n",
      "17          Timor-Leste          TLS   \n",
      "23            Indonesia          IDN   \n",
      "29              Lao PDR          LAO   \n",
      "35             Malaysia          MYS   \n",
      "41              Myanmar          MMR   \n",
      "47          Philippines          PHL   \n",
      "53            Singapore          SGP   \n",
      "59             Thailand          THA   \n",
      "65             Viet Nam          VNM   \n",
      "71                China          CHN   \n",
      "77                Japan          JPN   \n",
      "83          Korea, Rep.          KOR   \n",
      "89                India          IND   \n",
      "95           Uzbekistan          UZB   \n",
      "101               Qatar          QAT   \n",
      "107       United States          USA   \n",
      "113      United Kingdom          GBR   \n",
      "119              France          FRA   \n",
      "125  Russian Federation          RUS   \n",
      "131             Germany          DEU   \n",
      "137           Australia          AUS   \n",
      "143             Hungary          HUN   \n",
      "149             Ireland          IRL   \n",
      "\n",
      "                                           Series Name     Series Code  \\\n",
      "5    Foreign direct investment, net (BoP, current US$)  BN.KLT.DINV.CD   \n",
      "11   Foreign direct investment, net (BoP, current US$)  BN.KLT.DINV.CD   \n",
      "17   Foreign direct investment, net (BoP, current US$)  BN.KLT.DINV.CD   \n",
      "23   Foreign direct investment, net (BoP, current US$)  BN.KLT.DINV.CD   \n",
      "29   Foreign direct investment, net (BoP, current US$)  BN.KLT.DINV.CD   \n",
      "35   Foreign direct investment, net (BoP, current US$)  BN.KLT.DINV.CD   \n",
      "41   Foreign direct investment, net (BoP, current US$)  BN.KLT.DINV.CD   \n",
      "47   Foreign direct investment, net (BoP, current US$)  BN.KLT.DINV.CD   \n",
      "53   Foreign direct investment, net (BoP, current US$)  BN.KLT.DINV.CD   \n",
      "59   Foreign direct investment, net (BoP, current US$)  BN.KLT.DINV.CD   \n",
      "65   Foreign direct investment, net (BoP, current US$)  BN.KLT.DINV.CD   \n",
      "71   Foreign direct investment, net (BoP, current US$)  BN.KLT.DINV.CD   \n",
      "77   Foreign direct investment, net (BoP, current US$)  BN.KLT.DINV.CD   \n",
      "83   Foreign direct investment, net (BoP, current US$)  BN.KLT.DINV.CD   \n",
      "89   Foreign direct investment, net (BoP, current US$)  BN.KLT.DINV.CD   \n",
      "95   Foreign direct investment, net (BoP, current US$)  BN.KLT.DINV.CD   \n",
      "101  Foreign direct investment, net (BoP, current US$)  BN.KLT.DINV.CD   \n",
      "107  Foreign direct investment, net (BoP, current US$)  BN.KLT.DINV.CD   \n",
      "113  Foreign direct investment, net (BoP, current US$)  BN.KLT.DINV.CD   \n",
      "119  Foreign direct investment, net (BoP, current US$)  BN.KLT.DINV.CD   \n",
      "125  Foreign direct investment, net (BoP, current US$)  BN.KLT.DINV.CD   \n",
      "131  Foreign direct investment, net (BoP, current US$)  BN.KLT.DINV.CD   \n",
      "137  Foreign direct investment, net (BoP, current US$)  BN.KLT.DINV.CD   \n",
      "143  Foreign direct investment, net (BoP, current US$)  BN.KLT.DINV.CD   \n",
      "149  Foreign direct investment, net (BoP, current US$)  BN.KLT.DINV.CD   \n",
      "\n",
      "     2008 [YR2008]  2009 [YR2009]  2010 [YR2010]  2011 [YR2011]  \\\n",
      "5    -2.221845e+08  -3.255868e+08  -4.795206e+08  -7.037518e+08   \n",
      "11   -7.946914e+08  -9.095204e+08  -1.383735e+09  -1.509718e+09   \n",
      "17   -3.969797e+07  -4.795475e+07  -4.332807e+06  -8.205817e+07   \n",
      "23   -3.418723e+09  -2.628247e+09  -1.110633e+10  -1.152839e+10   \n",
      "29   -2.277700e+08  -3.185982e+08  -2.788059e+08  -3.007435e+08   \n",
      "35    7.827500e+09   6.626129e+09   4.463612e+09   2.988959e+09   \n",
      "41   -8.638804e+08  -1.078972e+09  -9.011335e+08  -2.519813e+09   \n",
      "47    6.300069e+08  -1.674908e+08   1.641780e+09   3.424904e+08   \n",
      "53   -5.633911e+09   8.603557e+09  -1.991524e+10  -1.725546e+10   \n",
      "59   -6.221860e+09  -4.151796e+08  -6.615344e+09   4.702083e+09   \n",
      "65   -9.279000e+09  -6.900000e+09  -7.100000e+09  -6.480000e+09   \n",
      "71   -1.150000e+11  -8.716707e+10  -1.860000e+11  -2.320000e+11   \n",
      "77    8.901879e+10   6.145065e+10   7.221553e+10   1.180000e+11   \n",
      "83    8.349000e+09   8.378600e+09   1.872420e+10   1.987470e+10   \n",
      "89   -2.414975e+10  -1.948579e+10  -1.142879e+10  -2.389066e+10   \n",
      "95   -5.453895e+08  -6.087764e+08  -1.659799e+09  -1.611411e+09   \n",
      "101            NaN            NaN            NaN   9.170013e+09   \n",
      "107   2.491000e+09   1.520000e+11   8.578900e+10   1.730000e+11   \n",
      "113   1.030000e+11  -6.294502e+10  -1.232710e+10   5.382155e+10   \n",
      "119   6.800179e+10   7.029552e+10   3.367109e+10   2.027756e+10   \n",
      "125  -1.912029e+10   6.697430e+09   9.448500e+09   1.176716e+10   \n",
      "131   6.707150e+10   4.303733e+10   6.060552e+10   1.037315e+10   \n",
      "137  -1.328241e+10  -1.746905e+10  -1.748790e+10  -5.732868e+10   \n",
      "143  -1.457151e+09  -9.722859e+08  -3.936698e+09  -1.961627e+09   \n",
      "149   3.491256e+10   5.408472e+08  -2.092542e+10  -2.522241e+10   \n",
      "\n",
      "     2012 [YR2012]  2013 [YR2013]  2014 [YR2014]  2015 [YR2015]  \\\n",
      "5    -8.591071e+08  -7.784123e+08  -5.739066e+08  -1.712892e+08   \n",
      "11   -1.951923e+09  -2.006202e+09  -1.771408e+09  -1.735043e+09   \n",
      "17   -2.771578e+07  -4.319044e+07  -2.123882e+07  -3.032870e+07   \n",
      "23   -1.371623e+10  -1.217006e+10  -1.473320e+10  -1.070448e+10   \n",
      "29   -6.346142e+08  -7.099687e+08  -8.605886e+08  -1.038063e+09   \n",
      "35    8.001104e+09   2.111932e+09   5.440443e+09   6.848088e+08   \n",
      "41   -1.333856e+09  -2.254604e+09  -2.175015e+09  -4.083839e+09   \n",
      "47    9.578052e+08  -9.042244e+07   1.014349e+09  -9.965056e+07   \n",
      "53   -3.483038e+10  -1.911068e+10  -1.622099e+10  -2.455134e+10   \n",
      "59    1.361534e+09  -3.814466e+09   7.662996e+08  -3.936528e+09   \n",
      "65   -7.168000e+09  -6.944000e+09  -8.050000e+09  -1.070000e+10   \n",
      "71   -1.760000e+11  -2.180000e+11  -1.450000e+11  -6.809865e+10   \n",
      "77    1.170000e+11   1.450000e+11   1.180000e+11   1.330000e+11   \n",
      "83    2.110280e+10   1.555120e+10   1.872490e+10   1.958300e+10   \n",
      "89   -1.544245e+10  -2.638808e+10  -2.289016e+10  -3.649522e+10   \n",
      "95   -7.411585e+08  -6.872551e+08  -8.042457e+08  -1.036625e+09   \n",
      "101   1.444231e+09   8.861813e+09   5.707967e+09   2.952473e+09   \n",
      "107   1.270000e+11   1.050000e+11   1.360000e+11  -2.090000e+11   \n",
      "113  -3.472725e+10  -8.222267e+09  -1.730000e+11  -1.060000e+11   \n",
      "119   1.907016e+10  -1.397385e+10   4.728873e+10   8.404254e+09   \n",
      "125  -1.765140e+09   1.728763e+10   3.505084e+10   1.523210e+10   \n",
      "131   3.363917e+10   2.609362e+10   8.791937e+10   6.838839e+10   \n",
      "137  -5.180764e+10  -5.524240e+10  -4.063770e+10  -3.863472e+10   \n",
      "143  -2.877532e+09  -2.782320e+08  -3.819551e+09  -2.890619e+09   \n",
      "149  -2.615298e+10  -2.125115e+10  -6.747671e+09  -4.743356e+10   \n",
      "\n",
      "     2016 [YR2016]  2017 [YR2017]  2018 [YR2018]  2019 [YR2019]  \\\n",
      "5     1.505508e+08  -4.679276e+08  -5.162026e+08  -3.732568e+08   \n",
      "11   -2.396841e+09  -2.673226e+09  -3.088670e+09  -3.561195e+09   \n",
      "17    7.188000e+06  -6.715937e+06  -4.792566e+07   2.389949e+08   \n",
      "23   -1.613592e+10  -1.850204e+10  -1.251061e+10  -2.053107e+10   \n",
      "29   -9.201119e+08  -1.683380e+09  -1.358020e+09  -7.555241e+08   \n",
      "35   -3.372772e+09  -3.760089e+09  -2.539146e+09  -1.626971e+09   \n",
      "41   -3.278096e+09  -4.804272e+09  -1.768196e+09  -1.735589e+09   \n",
      "47   -5.882814e+09  -6.951711e+09  -5.832901e+09  -5.320429e+09   \n",
      "53   -2.586117e+10  -3.694111e+10  -5.834984e+10  -3.919164e+10   \n",
      "59    9.906455e+09   5.896855e+09   3.380092e+09   4.644836e+09   \n",
      "65   -1.160000e+10  -1.362000e+10  -1.490200e+10  -1.563500e+10   \n",
      "71    4.167488e+10  -2.779099e+10  -9.233847e+10  -5.025982e+10   \n",
      "77    1.380000e+11   1.550000e+11   1.350000e+11   2.180000e+11   \n",
      "83    1.778520e+10   1.615650e+10   2.603780e+10   2.560470e+10   \n",
      "89   -3.941128e+10  -2.887594e+10  -3.069966e+10  -3.746995e+10   \n",
      "95   -1.657069e+09  -1.790139e+09  -6.228868e+08  -2.313131e+09   \n",
      "101   7.128022e+09   7.087912e+08   5.709066e+09   7.262912e+09   \n",
      "107  -1.750000e+11   2.859000e+10  -3.450000e+11  -2.010000e+11   \n",
      "113  -2.920000e+11   4.668508e+10  -3.576694e+09  -4.128907e+10   \n",
      "119   4.184132e+10   1.270251e+10   6.168296e+10   3.086450e+10   \n",
      "125  -1.022457e+10   8.199590e+09   2.259203e+10  -1.005163e+10   \n",
      "131   4.717419e+10   3.612457e+10   2.901110e+10   9.881275e+10   \n",
      "137  -4.607887e+10  -3.819376e+10  -5.965488e+10  -2.984499e+10   \n",
      "143  -2.983727e+09  -2.376170e+09  -3.531634e+09  -2.157967e+08   \n",
      "149  -9.219282e+09  -5.534619e+10   2.744163e+10  -9.744444e+10   \n",
      "\n",
      "     2020 [YR2020]  2021 [YR2021]  2022 [YR2022]  \n",
      "5    -5.655423e+08  -2.047494e+08   2.924163e+08  \n",
      "11   -3.497632e+09  -3.391044e+09  -3.428345e+09  \n",
      "17    7.126962e+08   4.190352e+08   3.953834e+08  \n",
      "23   -1.414247e+10  -1.728635e+10  -1.481642e+10  \n",
      "29   -9.677061e+08  -1.071914e+09  -6.358073e+08  \n",
      "35   -7.627780e+08  -7.460181e+09  -3.967084e+09  \n",
      "41             NaN            NaN            NaN  \n",
      "47   -3.260102e+09  -9.732243e+09  -5.379698e+09  \n",
      "53   -4.005503e+10  -8.774214e+10  -9.005571e+10  \n",
      "59    2.354353e+10   3.980422e+09  -3.717019e+09  \n",
      "65   -1.542000e+10  -1.534100e+10  -1.522600e+10  \n",
      "71   -9.937481e+10  -1.650000e+11  -3.047456e+10  \n",
      "77    8.753347e+10   1.750000e+11   1.280000e+11  \n",
      "83    2.606750e+10   4.394020e+10   4.841160e+10  \n",
      "89   -5.323970e+10  -2.748854e+10  -3.540801e+10  \n",
      "95   -1.716938e+09  -2.272291e+09  -2.494258e+09  \n",
      "101   5.164011e+09   1.253297e+09   2.307692e+09  \n",
      "107   1.480000e+11  -9.901500e+10   3.817300e+10  \n",
      "113  -1.410000e+11   1.550000e+11   8.070441e+10  \n",
      "119   9.116589e+09   1.302665e+10   1.333397e+10  \n",
      "125  -3.631810e+09   2.543278e+10   2.696770e+10  \n",
      "131  -5.888677e+09   1.190000e+11   1.310000e+11  \n",
      "137  -8.025124e+09  -2.087652e+10   5.425863e+10  \n",
      "143  -2.756453e+09  -3.801865e+09  -3.886946e+09  \n",
      "149  -1.100000e+11   5.923378e+10   3.568870e+10  \n"
     ]
    }
   ],
   "source": [
    "data_FDI = df[df['Series Name'].isin(['Foreign direct investment, net (BoP, current US$)'])]\n",
    "print(data_FDI)"
   ]
  },
  {
   "cell_type": "code",
   "execution_count": 23,
   "metadata": {
    "id": "VUMhBTe-8YAV"
   },
   "outputs": [
    {
     "name": "stdout",
     "output_type": "stream",
     "text": [
      "           Country Name Country Code  \\\n",
      "0     Brunei Darussalam          BRN   \n",
      "1              Cambodia          KHM   \n",
      "2           Timor-Leste          TLS   \n",
      "3             Indonesia          IDN   \n",
      "4               Lao PDR          LAO   \n",
      "..                  ...          ...   \n",
      "370  Russian Federation          RUS   \n",
      "371             Germany          DEU   \n",
      "372           Australia          AUS   \n",
      "373             Hungary          HUN   \n",
      "374             Ireland          IRL   \n",
      "\n",
      "                                           Series Name     Series Code  \\\n",
      "0    Foreign direct investment, net (BoP, current US$)  BN.KLT.DINV.CD   \n",
      "1    Foreign direct investment, net (BoP, current US$)  BN.KLT.DINV.CD   \n",
      "2    Foreign direct investment, net (BoP, current US$)  BN.KLT.DINV.CD   \n",
      "3    Foreign direct investment, net (BoP, current US$)  BN.KLT.DINV.CD   \n",
      "4    Foreign direct investment, net (BoP, current US$)  BN.KLT.DINV.CD   \n",
      "..                                                 ...             ...   \n",
      "370  Foreign direct investment, net (BoP, current US$)  BN.KLT.DINV.CD   \n",
      "371  Foreign direct investment, net (BoP, current US$)  BN.KLT.DINV.CD   \n",
      "372  Foreign direct investment, net (BoP, current US$)  BN.KLT.DINV.CD   \n",
      "373  Foreign direct investment, net (BoP, current US$)  BN.KLT.DINV.CD   \n",
      "374  Foreign direct investment, net (BoP, current US$)  BN.KLT.DINV.CD   \n",
      "\n",
      "              Year           FDI  \n",
      "0    2008 [YR2008] -2.221845e+08  \n",
      "1    2008 [YR2008] -7.946914e+08  \n",
      "2    2008 [YR2008] -3.969797e+07  \n",
      "3    2008 [YR2008] -3.418723e+09  \n",
      "4    2008 [YR2008] -2.277700e+08  \n",
      "..             ...           ...  \n",
      "370  2022 [YR2022]  2.696770e+10  \n",
      "371  2022 [YR2022]  1.310000e+11  \n",
      "372  2022 [YR2022]  5.425863e+10  \n",
      "373  2022 [YR2022] -3.886946e+09  \n",
      "374  2022 [YR2022]  3.568870e+10  \n",
      "\n",
      "[375 rows x 6 columns]\n"
     ]
    }
   ],
   "source": [
    "id_vars_5 = [\"Country Name\",\"Country Code\", \"Series Name\", \"Series Code\"]\n",
    "f = pd.melt(frame=data_FDI, id_vars=id_vars, var_name='Year', value_name='FDI')\n",
    "print(f)"
   ]
  },
  {
   "cell_type": "code",
   "execution_count": 24,
   "metadata": {
    "id": "7civARRd8lcv"
   },
   "outputs": [
    {
     "name": "stdout",
     "output_type": "stream",
     "text": [
      "         Country Name 6 Country Code 6  \\\n",
      "0     Brunei Darussalam            BRN   \n",
      "1              Cambodia            KHM   \n",
      "2           Timor-Leste            TLS   \n",
      "3             Indonesia            IDN   \n",
      "4               Lao PDR            LAO   \n",
      "..                  ...            ...   \n",
      "370  Russian Federation            RUS   \n",
      "371             Germany            DEU   \n",
      "372           Australia            AUS   \n",
      "373             Hungary            HUN   \n",
      "374             Ireland            IRL   \n",
      "\n",
      "                                         Series Name 6   Series Code 6  \\\n",
      "0    Foreign direct investment, net (BoP, current US$)  BN.KLT.DINV.CD   \n",
      "1    Foreign direct investment, net (BoP, current US$)  BN.KLT.DINV.CD   \n",
      "2    Foreign direct investment, net (BoP, current US$)  BN.KLT.DINV.CD   \n",
      "3    Foreign direct investment, net (BoP, current US$)  BN.KLT.DINV.CD   \n",
      "4    Foreign direct investment, net (BoP, current US$)  BN.KLT.DINV.CD   \n",
      "..                                                 ...             ...   \n",
      "370  Foreign direct investment, net (BoP, current US$)  BN.KLT.DINV.CD   \n",
      "371  Foreign direct investment, net (BoP, current US$)  BN.KLT.DINV.CD   \n",
      "372  Foreign direct investment, net (BoP, current US$)  BN.KLT.DINV.CD   \n",
      "373  Foreign direct investment, net (BoP, current US$)  BN.KLT.DINV.CD   \n",
      "374  Foreign direct investment, net (BoP, current US$)  BN.KLT.DINV.CD   \n",
      "\n",
      "            Year 6           FDI  \n",
      "0    2008 [YR2008] -2.221845e+08  \n",
      "1    2008 [YR2008] -7.946914e+08  \n",
      "2    2008 [YR2008] -3.969797e+07  \n",
      "3    2008 [YR2008] -3.418723e+09  \n",
      "4    2008 [YR2008] -2.277700e+08  \n",
      "..             ...           ...  \n",
      "370  2022 [YR2022]  2.696770e+10  \n",
      "371  2022 [YR2022]  1.310000e+11  \n",
      "372  2022 [YR2022]  5.425863e+10  \n",
      "373  2022 [YR2022] -3.886946e+09  \n",
      "374  2022 [YR2022]  3.568870e+10  \n",
      "\n",
      "[375 rows x 6 columns]\n"
     ]
    }
   ],
   "source": [
    "change6 = f.rename(columns={'Series Code':'Series Code 6','Series Name':'Series Name 6','Country Code':'Country Code 6','Country Name':'Country Name 6', 'Year':'Year 6'})\n",
    "print(change6)"
   ]
  },
  {
   "cell_type": "code",
   "execution_count": 25,
   "metadata": {
    "id": "EGkWlqav883h"
   },
   "outputs": [
    {
     "name": "stdout",
     "output_type": "stream",
     "text": [
      "         Country Name 5 Country Code 5  \\\n",
      "0     Brunei Darussalam            BRN   \n",
      "1              Cambodia            KHM   \n",
      "2           Timor-Leste            TLS   \n",
      "3             Indonesia            IDN   \n",
      "4               Lao PDR            LAO   \n",
      "..                  ...            ...   \n",
      "370  Russian Federation            RUS   \n",
      "371             Germany            DEU   \n",
      "372           Australia            AUS   \n",
      "373             Hungary            HUN   \n",
      "374             Ireland            IRL   \n",
      "\n",
      "                                         Series Name 5   Series Code 5  \\\n",
      "0    Unemployment, total (% of total labor force) (...  SL.UEM.TOTL.ZS   \n",
      "1    Unemployment, total (% of total labor force) (...  SL.UEM.TOTL.ZS   \n",
      "2    Unemployment, total (% of total labor force) (...  SL.UEM.TOTL.ZS   \n",
      "3    Unemployment, total (% of total labor force) (...  SL.UEM.TOTL.ZS   \n",
      "4    Unemployment, total (% of total labor force) (...  SL.UEM.TOTL.ZS   \n",
      "..                                                 ...             ...   \n",
      "370  Unemployment, total (% of total labor force) (...  SL.UEM.TOTL.ZS   \n",
      "371  Unemployment, total (% of total labor force) (...  SL.UEM.TOTL.ZS   \n",
      "372  Unemployment, total (% of total labor force) (...  SL.UEM.TOTL.ZS   \n",
      "373  Unemployment, total (% of total labor force) (...  SL.UEM.TOTL.ZS   \n",
      "374  Unemployment, total (% of total labor force) (...  SL.UEM.TOTL.ZS   \n",
      "\n",
      "            Year 5  Unemployment      Country Name 6 Country Code 6  \\\n",
      "0    2008 [YR2008]         6.293   Brunei Darussalam            BRN   \n",
      "1    2008 [YR2008]         0.820            Cambodia            KHM   \n",
      "2    2008 [YR2008]         3.362         Timor-Leste            TLS   \n",
      "3    2008 [YR2008]         7.210           Indonesia            IDN   \n",
      "4    2008 [YR2008]         0.943             Lao PDR            LAO   \n",
      "..             ...           ...                 ...            ...   \n",
      "370  2022 [YR2022]         3.867  Russian Federation            RUS   \n",
      "371  2022 [YR2022]         3.140             Germany            DEU   \n",
      "372  2022 [YR2022]         3.700           Australia            AUS   \n",
      "373  2022 [YR2022]         3.610             Hungary            HUN   \n",
      "374  2022 [YR2022]         4.480             Ireland            IRL   \n",
      "\n",
      "                                         Series Name 6   Series Code 6  \\\n",
      "0    Foreign direct investment, net (BoP, current US$)  BN.KLT.DINV.CD   \n",
      "1    Foreign direct investment, net (BoP, current US$)  BN.KLT.DINV.CD   \n",
      "2    Foreign direct investment, net (BoP, current US$)  BN.KLT.DINV.CD   \n",
      "3    Foreign direct investment, net (BoP, current US$)  BN.KLT.DINV.CD   \n",
      "4    Foreign direct investment, net (BoP, current US$)  BN.KLT.DINV.CD   \n",
      "..                                                 ...             ...   \n",
      "370  Foreign direct investment, net (BoP, current US$)  BN.KLT.DINV.CD   \n",
      "371  Foreign direct investment, net (BoP, current US$)  BN.KLT.DINV.CD   \n",
      "372  Foreign direct investment, net (BoP, current US$)  BN.KLT.DINV.CD   \n",
      "373  Foreign direct investment, net (BoP, current US$)  BN.KLT.DINV.CD   \n",
      "374  Foreign direct investment, net (BoP, current US$)  BN.KLT.DINV.CD   \n",
      "\n",
      "            Year 6           FDI  \n",
      "0    2008 [YR2008] -2.221845e+08  \n",
      "1    2008 [YR2008] -7.946914e+08  \n",
      "2    2008 [YR2008] -3.969797e+07  \n",
      "3    2008 [YR2008] -3.418723e+09  \n",
      "4    2008 [YR2008] -2.277700e+08  \n",
      "..             ...           ...  \n",
      "370  2022 [YR2022]  2.696770e+10  \n",
      "371  2022 [YR2022]  1.310000e+11  \n",
      "372  2022 [YR2022]  5.425863e+10  \n",
      "373  2022 [YR2022] -3.886946e+09  \n",
      "374  2022 [YR2022]  3.568870e+10  \n",
      "\n",
      "[375 rows x 12 columns]\n"
     ]
    }
   ],
   "source": [
    "merge3 = pd.concat([change5, change6], axis=1)\n",
    "print(merge3)"
   ]
  },
  {
   "cell_type": "code",
   "execution_count": 26,
   "metadata": {
    "id": "-R0qb3Ud9HgM"
   },
   "outputs": [
    {
     "name": "stdout",
     "output_type": "stream",
     "text": [
      "     Unemployment           FDI\n",
      "0           6.293 -2.221845e+08\n",
      "1           0.820 -7.946914e+08\n",
      "2           3.362 -3.969797e+07\n",
      "3           7.210 -3.418723e+09\n",
      "4           0.943 -2.277700e+08\n",
      "..            ...           ...\n",
      "370         3.867  2.696770e+10\n",
      "371         3.140  1.310000e+11\n",
      "372         3.700  5.425863e+10\n",
      "373         3.610 -3.886946e+09\n",
      "374         4.480  3.568870e+10\n",
      "\n",
      "[375 rows x 2 columns]\n"
     ]
    }
   ],
   "source": [
    "table3 = merge3.drop(['Country Code 5', 'Series Name 5', 'Series Code 5','Country Name 5','Series Name 6','Series Code 6','Country Name 6','Year 6','Year 5','Country Code 6'], axis=1)\n",
    "print(table3)"
   ]
  },
  {
   "cell_type": "code",
   "execution_count": 27,
   "metadata": {
    "id": "BM7Itpf2M8-j"
   },
   "outputs": [
    {
     "name": "stdout",
     "output_type": "stream",
     "text": [
      "           Country Name           Year           GDP  Inflation  \\\n",
      "0     Brunei Darussalam  2008 [YR2008]  1.439343e+10  12.692730   \n",
      "1              Cambodia  2008 [YR2008]  1.035191e+10  12.253787   \n",
      "2           Timor-Leste  2008 [YR2008]  6.485236e+08   7.256764   \n",
      "3             Indonesia  2008 [YR2008]  5.100000e+11  18.149751   \n",
      "4               Lao PDR  2008 [YR2008]  5.446434e+09   8.863451   \n",
      "..                  ...            ...           ...        ...   \n",
      "370  Russian Federation  2022 [YR2022]  2.240000e+12  15.804710   \n",
      "371             Germany  2022 [YR2022]  4.080000e+12   5.268325   \n",
      "372           Australia  2022 [YR2022]  1.690000e+12   7.123076   \n",
      "373             Hungary  2022 [YR2022]  1.770000e+11  14.489279   \n",
      "374             Ireland  2022 [YR2022]  5.330000e+11   6.582264   \n",
      "\n",
      "     Exchange Rate  Money Supply  Unemployment           FDI  \n",
      "0         1.417167     53.632941         6.293 -2.221845e+08  \n",
      "1      4054.166667     28.360056         0.820 -7.946914e+08  \n",
      "2         1.000000     29.707192         3.362 -3.969797e+07  \n",
      "3      9698.962500     38.309921         7.210 -3.418723e+09  \n",
      "4      8740.181403     24.292577         0.943 -2.277700e+08  \n",
      "..             ...           ...           ...           ...  \n",
      "370      68.484942           NaN         3.867  2.696770e+10  \n",
      "371            NaN           NaN         3.140  1.310000e+11  \n",
      "372       1.441664    134.202801         3.700  5.425863e+10  \n",
      "373     372.595833     65.282099         3.610 -3.886946e+09  \n",
      "374            NaN           NaN         4.480  3.568870e+10  \n",
      "\n",
      "[375 rows x 8 columns]\n"
     ]
    }
   ],
   "source": [
    "#Ghép các bảng vào với nhau, tạo thành bảng cuối cùng\n",
    "final_table = pd.concat([table1, table2, table3], axis=1)\n",
    "print(final_table)"
   ]
  },
  {
   "cell_type": "code",
   "execution_count": 28,
   "metadata": {
    "id": "GUjQKipBw-n3"
   },
   "outputs": [
    {
     "name": "stdout",
     "output_type": "stream",
     "text": [
      "Country Name      0\n",
      "Year              0\n",
      "GDP               0\n",
      "Inflation         0\n",
      "Exchange Rate    52\n",
      "Money Supply     70\n",
      "Unemployment      0\n",
      "FDI               6\n",
      "dtype: int64\n"
     ]
    }
   ],
   "source": [
    "print(final_table.isnull().sum())"
   ]
  },
  {
   "cell_type": "code",
   "execution_count": 29,
   "metadata": {
    "id": "zXGHj1pGPjwZ"
   },
   "outputs": [
    {
     "name": "stdout",
     "output_type": "stream",
     "text": [
      "           Country Name           Year           GDP  Inflation  \\\n",
      "0     Brunei Darussalam  2008 [YR2008]  1.439343e+10  12.692730   \n",
      "1              Cambodia  2008 [YR2008]  1.035191e+10  12.253787   \n",
      "2           Timor-Leste  2008 [YR2008]  6.485236e+08   7.256764   \n",
      "3             Indonesia  2008 [YR2008]  5.100000e+11  18.149751   \n",
      "4               Lao PDR  2008 [YR2008]  5.446434e+09   8.863451   \n",
      "..                  ...            ...           ...        ...   \n",
      "370  Russian Federation  2022 [YR2022]  2.240000e+12  15.804710   \n",
      "371             Germany  2022 [YR2022]  4.080000e+12   5.268325   \n",
      "372           Australia  2022 [YR2022]  1.690000e+12   7.123076   \n",
      "373             Hungary  2022 [YR2022]  1.770000e+11  14.489279   \n",
      "374             Ireland  2022 [YR2022]  5.330000e+11   6.582264   \n",
      "\n",
      "     Exchange Rate  Money Supply  Unemployment           FDI  \n",
      "0         1.417167     53.632941         6.293 -2.221845e+08  \n",
      "1      4054.166667     28.360056         0.820 -7.946914e+08  \n",
      "2         1.000000     29.707192         3.362 -3.969797e+07  \n",
      "3      9698.962500     38.309921         7.210 -3.418723e+09  \n",
      "4      8740.181403     24.292577         0.943 -2.277700e+08  \n",
      "..             ...           ...           ...           ...  \n",
      "370      68.484942     98.651278         3.867  2.696770e+10  \n",
      "371    2450.739405     98.651278         3.140  1.310000e+11  \n",
      "372       1.441664    134.202801         3.700  5.425863e+10  \n",
      "373     372.595833     65.282099         3.610 -3.886946e+09  \n",
      "374    2450.739405     98.651278         4.480  3.568870e+10  \n",
      "\n",
      "[375 rows x 8 columns]\n"
     ]
    }
   ],
   "source": [
    "#Thay đổi các ô dữ liệu NaN bằng cách lấy trung bình các giá trị trong cột để thay thế NaN\n",
    "final_table[\"Exchange Rate\"].fillna(final_table[\"Exchange Rate\"].mean(), inplace = True)\n",
    "final_table[\"Money Supply\"].fillna(final_table[\"Money Supply\"].mean(), inplace = True)\n",
    "final_table[\"FDI\"].fillna(final_table[\"FDI\"].mean(), inplace = True)\n",
    "print(final_table)"
   ]
  },
  {
   "cell_type": "code",
   "execution_count": 30,
   "metadata": {
    "id": "p5nxqxOGAtL3"
   },
   "outputs": [
    {
     "name": "stdout",
     "output_type": "stream",
     "text": [
      "        Country Name           Year           GDP  Inflation  Exchange Rate  \\\n",
      "0  Brunei Darussalam  2008 [YR2008]  1.439343e+10  12.692730       1.417167   \n",
      "1           Cambodia  2008 [YR2008]  1.035191e+10  12.253787    4054.166667   \n",
      "2        Timor-Leste  2008 [YR2008]  6.485236e+08   7.256764       1.000000   \n",
      "3          Indonesia  2008 [YR2008]  5.100000e+11  18.149751    9698.962500   \n",
      "4            Lao PDR  2008 [YR2008]  5.446434e+09   8.863451    8740.181403   \n",
      "\n",
      "   Money Supply  Unemployment           FDI  \n",
      "0     53.632941         6.293 -2.221845e+08  \n",
      "1     28.360056         0.820 -7.946914e+08  \n",
      "2     29.707192         3.362 -3.969797e+07  \n",
      "3     38.309921         7.210 -3.418723e+09  \n",
      "4     24.292577         0.943 -2.277700e+08  \n"
     ]
    }
   ],
   "source": [
    "print(final_table.head())"
   ]
  },
  {
   "cell_type": "code",
   "execution_count": 31,
   "metadata": {
    "id": "DOZGcAd6AKST"
   },
   "outputs": [
    {
     "name": "stdout",
     "output_type": "stream",
     "text": [
      "           Country Name  Year           GDP  Inflation  Exchange Rate  \\\n",
      "0     Brunei Darussalam  2008  1.439343e+10  12.692730       1.417167   \n",
      "1              Cambodia  2008  1.035191e+10  12.253787    4054.166667   \n",
      "2           Timor-Leste  2008  6.485236e+08   7.256764       1.000000   \n",
      "3             Indonesia  2008  5.100000e+11  18.149751    9698.962500   \n",
      "4               Lao PDR  2008  5.446434e+09   8.863451    8740.181403   \n",
      "..                  ...   ...           ...        ...            ...   \n",
      "370  Russian Federation  2022  2.240000e+12  15.804710      68.484942   \n",
      "371             Germany  2022  4.080000e+12   5.268325    2450.739405   \n",
      "372           Australia  2022  1.690000e+12   7.123076       1.441664   \n",
      "373             Hungary  2022  1.770000e+11  14.489279     372.595833   \n",
      "374             Ireland  2022  5.330000e+11   6.582264    2450.739405   \n",
      "\n",
      "     Money Supply  Unemployment           FDI  \n",
      "0       53.632941         6.293 -2.221845e+08  \n",
      "1       28.360056         0.820 -7.946914e+08  \n",
      "2       29.707192         3.362 -3.969797e+07  \n",
      "3       38.309921         7.210 -3.418723e+09  \n",
      "4       24.292577         0.943 -2.277700e+08  \n",
      "..            ...           ...           ...  \n",
      "370     98.651278         3.867  2.696770e+10  \n",
      "371     98.651278         3.140  1.310000e+11  \n",
      "372    134.202801         3.700  5.425863e+10  \n",
      "373     65.282099         3.610 -3.886946e+09  \n",
      "374     98.651278         4.480  3.568870e+10  \n",
      "\n",
      "[375 rows x 8 columns]\n"
     ]
    }
   ],
   "source": [
    "#Thay đổi các giá trị trong cột 'Year'\n",
    "final_table.loc[final_table['Year'] == '2008 [YR2008]', 'Year'] = '2008'\n",
    "final_table.loc[final_table['Year'] == '2009 [YR2009]', 'Year'] = '2009'\n",
    "final_table.loc[final_table['Year'] == '2010 [YR2010]', 'Year'] = '2010'\n",
    "final_table.loc[final_table['Year'] == '2011 [YR2011]', 'Year'] = '2011'\n",
    "final_table.loc[final_table['Year'] == '2012 [YR2012]', 'Year'] = '2012'\n",
    "final_table.loc[final_table['Year'] == '2013 [YR2013]', 'Year'] = '2013'\n",
    "final_table.loc[final_table['Year'] == '2014 [YR2014]', 'Year'] = '2014'\n",
    "final_table.loc[final_table['Year'] == '2015 [YR2015]', 'Year'] = '2015'\n",
    "final_table.loc[final_table['Year'] == '2016 [YR2016]', 'Year'] = '2016'\n",
    "final_table.loc[final_table['Year'] == '2017 [YR2017]', 'Year'] = '2017'\n",
    "final_table.loc[final_table['Year'] == '2018 [YR2018]', 'Year'] = '2018'\n",
    "final_table.loc[final_table['Year'] == '2019 [YR2019]', 'Year'] = '2019'\n",
    "final_table.loc[final_table['Year'] == '2020 [YR2020]', 'Year'] = '2020'\n",
    "final_table.loc[final_table['Year'] == '2021 [YR2021]', 'Year'] = '2021'\n",
    "final_table.loc[final_table['Year'] == '2022 [YR2022]', 'Year'] = '2022'\n",
    "print(final_table)"
   ]
  },
  {
   "cell_type": "code",
   "execution_count": 32,
   "metadata": {
    "id": "nkXyYIWMsCIN"
   },
   "outputs": [],
   "source": [
    "#Tải file đã chỉnh sửa về máy ở dạng excel\n",
    "final_table.to_excel('data 5 fix.xlsx')"
   ]
  },
  {
   "cell_type": "code",
   "execution_count": 33,
   "metadata": {
    "id": "n-nyklYps7On"
   },
   "outputs": [],
   "source": [
    "#Tải file đã chỉnh sửa về máy ở dạng file.csv\n",
    "final_table.to_csv('Data WorldBank fix.csv')"
   ]
  },
  {
   "cell_type": "code",
   "execution_count": 34,
   "metadata": {
    "id": "jnSr4LhF-s2c"
   },
   "outputs": [
    {
     "name": "stdout",
     "output_type": "stream",
     "text": [
      "Country Name     0\n",
      "Year             0\n",
      "GDP              0\n",
      "Inflation        0\n",
      "Exchange Rate    0\n",
      "Money Supply     0\n",
      "Unemployment     0\n",
      "FDI              0\n",
      "dtype: int64\n"
     ]
    }
   ],
   "source": [
    "#Kiểm tra xem còn giá trị NaN không\n",
    "print(final_table.isnull().sum())"
   ]
  },
  {
   "cell_type": "code",
   "execution_count": 35,
   "metadata": {
    "id": "YnUU4XlnFqy-"
   },
   "outputs": [
    {
     "data": {
      "text/plain": [
       "<Axes: xlabel='GDP', ylabel='Count'>"
      ]
     },
     "execution_count": 35,
     "metadata": {},
     "output_type": "execute_result"
    },
    {
     "data": {
      "image/png": "[encoded data removed]",
      "text/plain": [
       "<Figure size 640x480 with 1 Axes>"
      ]
     },
     "metadata": {},
     "output_type": "display_data"
    }
   ],
   "source": [
    "#Vẽ đồ thị dạng cột xem GDP phân bố ở mức nào\n",
    "sns.histplot(data=final_table['GDP'])"
   ]
  },
  {
   "cell_type": "code",
   "execution_count": 36,
   "metadata": {
    "id": "7bRYllrJHSeH"
   },
   "outputs": [
    {
     "data": {
      "text/plain": [
       "<Axes: xlabel='GDP', ylabel='Density'>"
      ]
     },
     "execution_count": 36,
     "metadata": {},
     "output_type": "execute_result"
    },
    {
     "data": {
      "image/png": "[encoded data removed]",
      "text/plain": [
       "<Figure size 640x480 with 1 Axes>"
      ]
     },
     "metadata": {},
     "output_type": "display_data"
    }
   ],
   "source": [
    "sns.kdeplot(data=final_table['GDP'])\n",
    "#sns.kdeplot(data=final_table['Inflation'])"
   ]
  },
  {
   "cell_type": "code",
   "execution_count": 37,
   "metadata": {
    "id": "QuPvUVDxdwHy"
   },
   "outputs": [
    {
     "name": "stderr",
     "output_type": "stream",
     "text": [
      "C:\\Users\\nguye\\AppData\\Local\\Temp\\ipykernel_27112\\425816951.py:2: FutureWarning: The default value of numeric_only in DataFrame.corr is deprecated. In a future version, it will default to False. Select only valid columns or specify the value of numeric_only to silence this warning.\n",
      "  sns.heatmap(final_table.corr(), annot = True, lw = 1, linecolor = 'r', cmap = 'coolwarm')\n"
     ]
    },
    {
     "data": {
      "text/plain": [
       "<Axes: >"
      ]
     },
     "execution_count": 37,
     "metadata": {},
     "output_type": "execute_result"
    },
    {
     "data": {
      "image/png": "[encoded data removed]",
      "text/plain": [
       "<Figure size 1800x500 with 2 Axes>"
      ]
     },
     "metadata": {},
     "output_type": "display_data"
    }
   ],
   "source": [
    "plt.figure(figsize=(18, 5))\n",
    "sns.heatmap(final_table.corr(), annot = True, lw = 1, linecolor = 'r', cmap = 'coolwarm')"
   ]
  },
  {
   "cell_type": "markdown",
   "metadata": {
    "id": "h12vrbE91uhd"
   },
   "source": [
    "# Tiền xử lý dữ liệu"
   ]
  },
  {
   "cell_type": "markdown",
   "metadata": {},
   "source": [
    "Chia bộ dữ liệu thành 3 phần: Train, Valid, Test theo tỷ lệ: 68%, 12% và 20%. Không nên để tỷ lệ dữ liệu cho Test nhỏ hơn 10% số mẫu của toàn bộ dữ liệu"
   ]
  },
  {
   "cell_type": "code",
   "execution_count": 38,
   "metadata": {
    "id": "1oTa6T6i7lFT"
   },
   "outputs": [],
   "source": [
    "X_train, X_test = train_test_split(final_table, test_size=0.2,shuffle=True, random_state=144)"
   ]
  },
  {
   "cell_type": "code",
   "execution_count": 39,
   "metadata": {
    "id": "_PmJMppH72Ho"
   },
   "outputs": [
    {
     "data": {
      "text/plain": [
       "((300, 8), (75, 8))"
      ]
     },
     "execution_count": 39,
     "metadata": {},
     "output_type": "execute_result"
    }
   ],
   "source": [
    "X_train.shape, X_test.shape"
   ]
  },
  {
   "cell_type": "code",
   "execution_count": 40,
   "metadata": {
    "id": "YdqcGXaL785X"
   },
   "outputs": [],
   "source": [
    "X_train, X_valid = train_test_split(X_train, test_size=0.15,shuffle=True, random_state=144)"
   ]
  },
  {
   "cell_type": "code",
   "execution_count": 41,
   "metadata": {
    "id": "4aWXpZl_8NtT"
   },
   "outputs": [],
   "source": [
    "y_train = X_train[\"GDP\"].copy()\n",
    "y_valid = X_valid[\"GDP\"].copy()\n",
    "y_test = X_test[\"GDP\"].copy()"
   ]
  },
  {
   "cell_type": "code",
   "execution_count": 42,
   "metadata": {
    "id": "r_Lv-HFk8dJc"
   },
   "outputs": [
    {
     "data": {
      "text/plain": [
       "((255,), (45,), (75,))"
      ]
     },
     "execution_count": 42,
     "metadata": {},
     "output_type": "execute_result"
    }
   ],
   "source": [
    "y_train.shape, y_valid.shape, y_test.shape"
   ]
  },
  {
   "cell_type": "code",
   "execution_count": 43,
   "metadata": {
    "id": "6cph94VT81WS"
   },
   "outputs": [],
   "source": [
    "#Vì X là các biến độc lập, biểu thị cho các yếu tố ảnh hưởng đến GDP nên khi train ta cần loại bỏ các cột không liên quan \n",
    "X_train.drop('GDP',axis=1, inplace=True)\n",
    "X_train.drop(\"Country Name\",axis=1, inplace=True)\n",
    "X_train.drop(\"Year\",axis=1, inplace=True)\n",
    "X_valid.drop(\"GDP\",axis=1, inplace=True)\n",
    "X_valid.drop(\"Country Name\",axis=1, inplace=True)\n",
    "X_valid.drop(\"Year\",axis=1, inplace=True)\n",
    "X_test.drop(\"GDP\",axis=1, inplace=True)\n",
    "X_test.drop(\"Country Name\",axis=1, inplace=True)\n",
    "X_test.drop(\"Year\",axis=1, inplace=True)"
   ]
  },
  {
   "cell_type": "code",
   "execution_count": 44,
   "metadata": {
    "id": "LjunJGGk9IIj"
   },
   "outputs": [
    {
     "data": {
      "text/plain": [
       "((255, 5), (45, 5), (75, 5))"
      ]
     },
     "execution_count": 44,
     "metadata": {},
     "output_type": "execute_result"
    }
   ],
   "source": [
    "X_train.shape, X_valid.shape, X_test.shape"
   ]
  },
  {
   "cell_type": "markdown",
   "metadata": {},
   "source": [
    "# Xử lý chuẩn hóa dữ liệu"
   ]
  },
  {
   "cell_type": "code",
   "execution_count": 45,
   "metadata": {
    "id": "oCZkQl34SABu"
   },
   "outputs": [
    {
     "data": {
      "text/html": [
       "<style>#sk-container-id-1 {color: black;}#sk-container-id-1 pre{padding: 0;}#sk-container-id-1 div.sk-toggleable {background-color: white;}#sk-container-id-1 label.sk-toggleable__label {cursor: pointer;display: block;width: 100%;margin-bottom: 0;padding: 0.3em;box-sizing: border-box;text-align: center;}#sk-container-id-1 label.sk-toggleable__label-arrow:before {content: \"▸\";float: left;margin-right: 0.25em;color: #696969;}#sk-container-id-1 label.sk-toggleable__label-arrow:hover:before {color: black;}#sk-container-id-1 div.sk-estimator:hover label.sk-toggleable__label-arrow:before {color: black;}#sk-container-id-1 div.sk-toggleable__content {max-height: 0;max-width: 0;overflow: hidden;text-align: left;background-color: #f0f8ff;}#sk-container-id-1 div.sk-toggleable__content pre {margin: 0.2em;color: black;border-radius: 0.25em;background-color: #f0f8ff;}#sk-container-id-1 input.sk-toggleable__control:checked~div.sk-toggleable__content {max-height: 200px;max-width: 100%;overflow: auto;}#sk-container-id-1 input.sk-toggleable__control:checked~label.sk-toggleable__label-arrow:before {content: \"▾\";}#sk-container-id-1 div.sk-estimator input.sk-toggleable__control:checked~label.sk-toggleable__label {background-color: #d4ebff;}#sk-container-id-1 div.sk-label input.sk-toggleable__control:checked~label.sk-toggleable__label {background-color: #d4ebff;}#sk-container-id-1 input.sk-hidden--visually {border: 0;clip: rect(1px 1px 1px 1px);clip: rect(1px, 1px, 1px, 1px);height: 1px;margin: -1px;overflow: hidden;padding: 0;position: absolute;width: 1px;}#sk-container-id-1 div.sk-estimator {font-family: monospace;background-color: #f0f8ff;border: 1px dotted black;border-radius: 0.25em;box-sizing: border-box;margin-bottom: 0.5em;}#sk-container-id-1 div.sk-estimator:hover {background-color: #d4ebff;}#sk-container-id-1 div.sk-parallel-item::after {content: \"\";width: 100%;border-bottom: 1px solid gray;flex-grow: 1;}#sk-container-id-1 div.sk-label:hover label.sk-toggleable__label {background-color: #d4ebff;}#sk-container-id-1 div.sk-serial::before {content: \"\";position: absolute;border-left: 1px solid gray;box-sizing: border-box;top: 0;bottom: 0;left: 50%;z-index: 0;}#sk-container-id-1 div.sk-serial {display: flex;flex-direction: column;align-items: center;background-color: white;padding-right: 0.2em;padding-left: 0.2em;position: relative;}#sk-container-id-1 div.sk-item {position: relative;z-index: 1;}#sk-container-id-1 div.sk-parallel {display: flex;align-items: stretch;justify-content: center;background-color: white;position: relative;}#sk-container-id-1 div.sk-item::before, #sk-container-id-1 div.sk-parallel-item::before {content: \"\";position: absolute;border-left: 1px solid gray;box-sizing: border-box;top: 0;bottom: 0;left: 50%;z-index: -1;}#sk-container-id-1 div.sk-parallel-item {display: flex;flex-direction: column;z-index: 1;position: relative;background-color: white;}#sk-container-id-1 div.sk-parallel-item:first-child::after {align-self: flex-end;width: 50%;}#sk-container-id-1 div.sk-parallel-item:last-child::after {align-self: flex-start;width: 50%;}#sk-container-id-1 div.sk-parallel-item:only-child::after {width: 0;}#sk-container-id-1 div.sk-dashed-wrapped {border: 1px dashed gray;margin: 0 0.4em 0.5em 0.4em;box-sizing: border-box;padding-bottom: 0.4em;background-color: white;}#sk-container-id-1 div.sk-label label {font-family: monospace;font-weight: bold;display: inline-block;line-height: 1.2em;}#sk-container-id-1 div.sk-label-container {text-align: center;}#sk-container-id-1 div.sk-container {/* jupyter's `normalize.less` sets `[hidden] { display: none; }` but bootstrap.min.css set `[hidden] { display: none !important; }` so we also need the `!important` here to be able to override the default hidden behavior on the sphinx rendered scikit-learn.org. See: https://github.com/scikit-learn/scikit-learn/issues/21755 */display: inline-block !important;position: relative;}#sk-container-id-1 div.sk-text-repr-fallback {display: none;}</style><div id=\"sk-container-id-1\" class=\"sk-top-container\"><div class=\"sk-text-repr-fallback\"><pre>MinMaxScaler()</pre><b>In a Jupyter environment, please rerun this cell to show the HTML representation or trust the notebook. <br />On GitHub, the HTML representation is unable to render, please try loading this page with nbviewer.org.</b></div><div class=\"sk-container\" hidden><div class=\"sk-item\"><div class=\"sk-estimator sk-toggleable\"><input class=\"sk-toggleable__control sk-hidden--visually\" id=\"sk-estimator-id-1\" type=\"checkbox\" checked><label for=\"sk-estimator-id-1\" class=\"sk-toggleable__label sk-toggleable__label-arrow\">MinMaxScaler</label><div class=\"sk-toggleable__content\"><pre>MinMaxScaler()</pre></div></div></div></div></div>"
      ],
      "text/plain": [
       "MinMaxScaler()"
      ]
     },
     "execution_count": 45,
     "metadata": {},
     "output_type": "execute_result"
    }
   ],
   "source": [
    "#Xử lý chuẩn hóa dữ liệu\n",
    "from sklearn.preprocessing import MinMaxScaler\n",
    "scMM = MinMaxScaler()\n",
    "scMM.fit(X_train)"
   ]
  },
  {
   "cell_type": "code",
   "execution_count": 46,
   "metadata": {
    "id": "0nTUjtarShEs"
   },
   "outputs": [],
   "source": [
    "#Chuẩn hóa biến đầu vào X(input)\n",
    "X_train_MM_scaled = scMM.transform(X_train)\n",
    "X_valid_MM_scaled = scMM.transform(X_valid)\n",
    "X_test_MM_scaled = scMM.transform(X_test)"
   ]
  },
  {
   "cell_type": "code",
   "execution_count": 47,
   "metadata": {
    "id": "KWGFW412S9UN"
   },
   "outputs": [
    {
     "data": {
      "text/plain": [
       "((255, 5), (45, 5), (75, 5))"
      ]
     },
     "execution_count": 47,
     "metadata": {},
     "output_type": "execute_result"
    }
   ],
   "source": [
    "X_train_MM_scaled.shape, X_valid_MM_scaled.shape, X_test_MM_scaled.shape"
   ]
  },
  {
   "cell_type": "code",
   "execution_count": 48,
   "metadata": {
    "id": "ZNK5qZOFTUQz"
   },
   "outputs": [
    {
     "data": {
      "text/plain": [
       "(255,)"
      ]
     },
     "execution_count": 48,
     "metadata": {},
     "output_type": "execute_result"
    }
   ],
   "source": [
    "#Chuẩn hóa biến đầu ra y (outputs)\n",
    "y_train.shape"
   ]
  },
  {
   "cell_type": "code",
   "execution_count": 49,
   "metadata": {
    "id": "V-tZk86tU2Kw"
   },
   "outputs": [
    {
     "data": {
      "text/plain": [
       "(255, 1)"
      ]
     },
     "execution_count": 49,
     "metadata": {},
     "output_type": "execute_result"
    }
   ],
   "source": [
    "y_train.values.reshape(-1,1).shape"
   ]
  },
  {
   "cell_type": "code",
   "execution_count": 50,
   "metadata": {
    "id": "EWSNiek2VZxv"
   },
   "outputs": [
    {
     "data": {
      "text/html": [
       "<style>#sk-container-id-2 {color: black;}#sk-container-id-2 pre{padding: 0;}#sk-container-id-2 div.sk-toggleable {background-color: white;}#sk-container-id-2 label.sk-toggleable__label {cursor: pointer;display: block;width: 100%;margin-bottom: 0;padding: 0.3em;box-sizing: border-box;text-align: center;}#sk-container-id-2 label.sk-toggleable__label-arrow:before {content: \"▸\";float: left;margin-right: 0.25em;color: #696969;}#sk-container-id-2 label.sk-toggleable__label-arrow:hover:before {color: black;}#sk-container-id-2 div.sk-estimator:hover label.sk-toggleable__label-arrow:before {color: black;}#sk-container-id-2 div.sk-toggleable__content {max-height: 0;max-width: 0;overflow: hidden;text-align: left;background-color: #f0f8ff;}#sk-container-id-2 div.sk-toggleable__content pre {margin: 0.2em;color: black;border-radius: 0.25em;background-color: #f0f8ff;}#sk-container-id-2 input.sk-toggleable__control:checked~div.sk-toggleable__content {max-height: 200px;max-width: 100%;overflow: auto;}#sk-container-id-2 input.sk-toggleable__control:checked~label.sk-toggleable__label-arrow:before {content: \"▾\";}#sk-container-id-2 div.sk-estimator input.sk-toggleable__control:checked~label.sk-toggleable__label {background-color: #d4ebff;}#sk-container-id-2 div.sk-label input.sk-toggleable__control:checked~label.sk-toggleable__label {background-color: #d4ebff;}#sk-container-id-2 input.sk-hidden--visually {border: 0;clip: rect(1px 1px 1px 1px);clip: rect(1px, 1px, 1px, 1px);height: 1px;margin: -1px;overflow: hidden;padding: 0;position: absolute;width: 1px;}#sk-container-id-2 div.sk-estimator {font-family: monospace;background-color: #f0f8ff;border: 1px dotted black;border-radius: 0.25em;box-sizing: border-box;margin-bottom: 0.5em;}#sk-container-id-2 div.sk-estimator:hover {background-color: #d4ebff;}#sk-container-id-2 div.sk-parallel-item::after {content: \"\";width: 100%;border-bottom: 1px solid gray;flex-grow: 1;}#sk-container-id-2 div.sk-label:hover label.sk-toggleable__label {background-color: #d4ebff;}#sk-container-id-2 div.sk-serial::before {content: \"\";position: absolute;border-left: 1px solid gray;box-sizing: border-box;top: 0;bottom: 0;left: 50%;z-index: 0;}#sk-container-id-2 div.sk-serial {display: flex;flex-direction: column;align-items: center;background-color: white;padding-right: 0.2em;padding-left: 0.2em;position: relative;}#sk-container-id-2 div.sk-item {position: relative;z-index: 1;}#sk-container-id-2 div.sk-parallel {display: flex;align-items: stretch;justify-content: center;background-color: white;position: relative;}#sk-container-id-2 div.sk-item::before, #sk-container-id-2 div.sk-parallel-item::before {content: \"\";position: absolute;border-left: 1px solid gray;box-sizing: border-box;top: 0;bottom: 0;left: 50%;z-index: -1;}#sk-container-id-2 div.sk-parallel-item {display: flex;flex-direction: column;z-index: 1;position: relative;background-color: white;}#sk-container-id-2 div.sk-parallel-item:first-child::after {align-self: flex-end;width: 50%;}#sk-container-id-2 div.sk-parallel-item:last-child::after {align-self: flex-start;width: 50%;}#sk-container-id-2 div.sk-parallel-item:only-child::after {width: 0;}#sk-container-id-2 div.sk-dashed-wrapped {border: 1px dashed gray;margin: 0 0.4em 0.5em 0.4em;box-sizing: border-box;padding-bottom: 0.4em;background-color: white;}#sk-container-id-2 div.sk-label label {font-family: monospace;font-weight: bold;display: inline-block;line-height: 1.2em;}#sk-container-id-2 div.sk-label-container {text-align: center;}#sk-container-id-2 div.sk-container {/* jupyter's `normalize.less` sets `[hidden] { display: none; }` but bootstrap.min.css set `[hidden] { display: none !important; }` so we also need the `!important` here to be able to override the default hidden behavior on the sphinx rendered scikit-learn.org. See: https://github.com/scikit-learn/scikit-learn/issues/21755 */display: inline-block !important;position: relative;}#sk-container-id-2 div.sk-text-repr-fallback {display: none;}</style><div id=\"sk-container-id-2\" class=\"sk-top-container\"><div class=\"sk-text-repr-fallback\"><pre>MinMaxScaler()</pre><b>In a Jupyter environment, please rerun this cell to show the HTML representation or trust the notebook. <br />On GitHub, the HTML representation is unable to render, please try loading this page with nbviewer.org.</b></div><div class=\"sk-container\" hidden><div class=\"sk-item\"><div class=\"sk-estimator sk-toggleable\"><input class=\"sk-toggleable__control sk-hidden--visually\" id=\"sk-estimator-id-2\" type=\"checkbox\" checked><label for=\"sk-estimator-id-2\" class=\"sk-toggleable__label sk-toggleable__label-arrow\">MinMaxScaler</label><div class=\"sk-toggleable__content\"><pre>MinMaxScaler()</pre></div></div></div></div></div>"
      ],
      "text/plain": [
       "MinMaxScaler()"
      ]
     },
     "execution_count": 50,
     "metadata": {},
     "output_type": "execute_result"
    }
   ],
   "source": [
    "scMM_for_y = MinMaxScaler()\n",
    "scMM_for_y.fit(y_train.values.reshape(-1,1))"
   ]
  },
  {
   "cell_type": "code",
   "execution_count": 51,
   "metadata": {
    "id": "6Hr5qCXMVs_B"
   },
   "outputs": [],
   "source": [
    "y_train_MM_scaled = scMM_for_y.transform(y_train.values.reshape(-1,1))\n",
    "y_valid_MM_scaled = scMM_for_y.transform(y_valid.values.reshape(-1,1))\n",
    "y_test_MM_scaled = scMM_for_y.transform(y_test.values.reshape(-1,1))"
   ]
  },
  {
   "cell_type": "code",
   "execution_count": 52,
   "metadata": {
    "colab": {
     "base_uri": "https://localhost:8080/"
    },
    "id": "gWzaZ4OjWIMR",
    "outputId": "54a17ae4-1a28-4d76-c7c3-4a7398fb9afb"
   },
   "outputs": [
    {
     "data": {
      "text/plain": [
       "((255, 1), (45, 1), (75, 1))"
      ]
     },
     "execution_count": 52,
     "metadata": {},
     "output_type": "execute_result"
    }
   ],
   "source": [
    "y_train_MM_scaled.shape,y_valid_MM_scaled.shape,y_test_MM_scaled.shape"
   ]
  },
  {
   "cell_type": "markdown",
   "metadata": {},
   "source": [
    "# Mô hình Linear Regression"
   ]
  },
  {
   "cell_type": "code",
   "execution_count": 53,
   "metadata": {
    "id": "JVk13yzaWiOb"
   },
   "outputs": [],
   "source": [
    "#Sử dụng thuật toán linear regression trong Supervised Machine Learning để dự báo\n",
    "from sklearn.linear_model import LinearRegression\n",
    "lr = LinearRegression()"
   ]
  },
  {
   "cell_type": "code",
   "execution_count": 54,
   "metadata": {
    "id": "lhorYJ4iW5rI"
   },
   "outputs": [
    {
     "data": {
      "text/html": [
       "<style>#sk-container-id-3 {color: black;}#sk-container-id-3 pre{padding: 0;}#sk-container-id-3 div.sk-toggleable {background-color: white;}#sk-container-id-3 label.sk-toggleable__label {cursor: pointer;display: block;width: 100%;margin-bottom: 0;padding: 0.3em;box-sizing: border-box;text-align: center;}#sk-container-id-3 label.sk-toggleable__label-arrow:before {content: \"▸\";float: left;margin-right: 0.25em;color: #696969;}#sk-container-id-3 label.sk-toggleable__label-arrow:hover:before {color: black;}#sk-container-id-3 div.sk-estimator:hover label.sk-toggleable__label-arrow:before {color: black;}#sk-container-id-3 div.sk-toggleable__content {max-height: 0;max-width: 0;overflow: hidden;text-align: left;background-color: #f0f8ff;}#sk-container-id-3 div.sk-toggleable__content pre {margin: 0.2em;color: black;border-radius: 0.25em;background-color: #f0f8ff;}#sk-container-id-3 input.sk-toggleable__control:checked~div.sk-toggleable__content {max-height: 200px;max-width: 100%;overflow: auto;}#sk-container-id-3 input.sk-toggleable__control:checked~label.sk-toggleable__label-arrow:before {content: \"▾\";}#sk-container-id-3 div.sk-estimator input.sk-toggleable__control:checked~label.sk-toggleable__label {background-color: #d4ebff;}#sk-container-id-3 div.sk-label input.sk-toggleable__control:checked~label.sk-toggleable__label {background-color: #d4ebff;}#sk-container-id-3 input.sk-hidden--visually {border: 0;clip: rect(1px 1px 1px 1px);clip: rect(1px, 1px, 1px, 1px);height: 1px;margin: -1px;overflow: hidden;padding: 0;position: absolute;width: 1px;}#sk-container-id-3 div.sk-estimator {font-family: monospace;background-color: #f0f8ff;border: 1px dotted black;border-radius: 0.25em;box-sizing: border-box;margin-bottom: 0.5em;}#sk-container-id-3 div.sk-estimator:hover {background-color: #d4ebff;}#sk-container-id-3 div.sk-parallel-item::after {content: \"\";width: 100%;border-bottom: 1px solid gray;flex-grow: 1;}#sk-container-id-3 div.sk-label:hover label.sk-toggleable__label {background-color: #d4ebff;}#sk-container-id-3 div.sk-serial::before {content: \"\";position: absolute;border-left: 1px solid gray;box-sizing: border-box;top: 0;bottom: 0;left: 50%;z-index: 0;}#sk-container-id-3 div.sk-serial {display: flex;flex-direction: column;align-items: center;background-color: white;padding-right: 0.2em;padding-left: 0.2em;position: relative;}#sk-container-id-3 div.sk-item {position: relative;z-index: 1;}#sk-container-id-3 div.sk-parallel {display: flex;align-items: stretch;justify-content: center;background-color: white;position: relative;}#sk-container-id-3 div.sk-item::before, #sk-container-id-3 div.sk-parallel-item::before {content: \"\";position: absolute;border-left: 1px solid gray;box-sizing: border-box;top: 0;bottom: 0;left: 50%;z-index: -1;}#sk-container-id-3 div.sk-parallel-item {display: flex;flex-direction: column;z-index: 1;position: relative;background-color: white;}#sk-container-id-3 div.sk-parallel-item:first-child::after {align-self: flex-end;width: 50%;}#sk-container-id-3 div.sk-parallel-item:last-child::after {align-self: flex-start;width: 50%;}#sk-container-id-3 div.sk-parallel-item:only-child::after {width: 0;}#sk-container-id-3 div.sk-dashed-wrapped {border: 1px dashed gray;margin: 0 0.4em 0.5em 0.4em;box-sizing: border-box;padding-bottom: 0.4em;background-color: white;}#sk-container-id-3 div.sk-label label {font-family: monospace;font-weight: bold;display: inline-block;line-height: 1.2em;}#sk-container-id-3 div.sk-label-container {text-align: center;}#sk-container-id-3 div.sk-container {/* jupyter's `normalize.less` sets `[hidden] { display: none; }` but bootstrap.min.css set `[hidden] { display: none !important; }` so we also need the `!important` here to be able to override the default hidden behavior on the sphinx rendered scikit-learn.org. See: https://github.com/scikit-learn/scikit-learn/issues/21755 */display: inline-block !important;position: relative;}#sk-container-id-3 div.sk-text-repr-fallback {display: none;}</style><div id=\"sk-container-id-3\" class=\"sk-top-container\"><div class=\"sk-text-repr-fallback\"><pre>LinearRegression()</pre><b>In a Jupyter environment, please rerun this cell to show the HTML representation or trust the notebook. <br />On GitHub, the HTML representation is unable to render, please try loading this page with nbviewer.org.</b></div><div class=\"sk-container\" hidden><div class=\"sk-item\"><div class=\"sk-estimator sk-toggleable\"><input class=\"sk-toggleable__control sk-hidden--visually\" id=\"sk-estimator-id-3\" type=\"checkbox\" checked><label for=\"sk-estimator-id-3\" class=\"sk-toggleable__label sk-toggleable__label-arrow\">LinearRegression</label><div class=\"sk-toggleable__content\"><pre>LinearRegression()</pre></div></div></div></div></div>"
      ],
      "text/plain": [
       "LinearRegression()"
      ]
     },
     "execution_count": 54,
     "metadata": {},
     "output_type": "execute_result"
    }
   ],
   "source": [
    "lr.fit(X_train_MM_scaled, y_train_MM_scaled)"
   ]
  },
  {
   "cell_type": "code",
   "execution_count": 55,
   "metadata": {
    "id": "0H8dJCYwXCWY"
   },
   "outputs": [
    {
     "name": "stdout",
     "output_type": "stream",
     "text": [
      "Train set Linear Regression score: 0.168\n",
      "Validation set Linear Regression score: 0.074\n"
     ]
    }
   ],
   "source": [
    "print(\"Train set Linear Regression score: {:.3f}\".format(lr.score(X_train_MM_scaled, y_train_MM_scaled)))\n",
    "print(\"Validation set Linear Regression score: {:.3f}\".format(lr.score(X_valid_MM_scaled, y_valid_MM_scaled)))"
   ]
  },
  {
   "cell_type": "code",
   "execution_count": 56,
   "metadata": {
    "id": "EgEgAPpF1Ig4"
   },
   "outputs": [],
   "source": [
    "from sklearn.metrics import mean_squared_error\n",
    "train_preds = lr.predict(X_train_MM_scaled)\n",
    "valid_preds = lr.predict(X_valid_MM_scaled)"
   ]
  },
  {
   "cell_type": "code",
   "execution_count": 57,
   "metadata": {
    "id": "lQe5QsHx0iNz"
   },
   "outputs": [
    {
     "name": "stdout",
     "output_type": "stream",
     "text": [
      "Train R2 score: 0.1685\n",
      "Validation R2 score: 0.0739\n"
     ]
    }
   ],
   "source": [
    "from sklearn.metrics import r2_score\n",
    "print(\"Train R2 score: {:.4f}\".format(r2_score(y_train_MM_scaled, train_preds)))\n",
    "print(\"Validation R2 score: {:.4f}\".format(r2_score(y_valid_MM_scaled, valid_preds)))"
   ]
  },
  {
   "cell_type": "code",
   "execution_count": 58,
   "metadata": {},
   "outputs": [
    {
     "name": "stdout",
     "output_type": "stream",
     "text": [
      "Test set Random Forest Regression score: 0.1850\n"
     ]
    }
   ],
   "source": [
    "print(\"Test set Random Forest Regression score: {:.4f}\".format(lr.score(X_test_MM_scaled, y_test_MM_scaled)))"
   ]
  },
  {
   "cell_type": "code",
   "execution_count": 61,
   "metadata": {},
   "outputs": [
    {
     "name": "stdout",
     "output_type": "stream",
     "text": [
      "[[ 0.03893636]\n",
      " [-0.00316554]\n",
      " [ 0.12653046]\n",
      " [ 0.04080531]\n",
      " [-0.00193279]\n",
      " [ 0.17819179]\n",
      " [ 0.07990049]\n",
      " [ 0.06226155]\n",
      " [ 0.11144366]\n",
      " [ 0.05400629]\n",
      " [ 0.0316498 ]\n",
      " [ 0.10569108]\n",
      " [ 0.06868002]\n",
      " [ 0.13401316]\n",
      " [-0.00663182]\n",
      " [ 0.10992329]\n",
      " [ 0.10507041]\n",
      " [ 0.08331767]\n",
      " [ 0.08492509]\n",
      " [ 0.04972644]\n",
      " [ 0.0300853 ]\n",
      " [ 0.13396571]\n",
      " [ 0.15451603]\n",
      " [-0.00211971]\n",
      " [ 0.12061516]\n",
      " [ 0.00630612]\n",
      " [ 0.03757482]\n",
      " [ 0.02829474]\n",
      " [ 0.02151551]\n",
      " [ 0.02367618]\n",
      " [ 0.1773098 ]\n",
      " [ 0.19140596]\n",
      " [ 0.05794524]\n",
      " [ 0.14477409]\n",
      " [ 0.04212734]\n",
      " [ 0.06973028]\n",
      " [ 0.20890563]\n",
      " [ 0.05738754]\n",
      " [ 0.23602156]\n",
      " [-0.02024073]\n",
      " [ 0.28956846]\n",
      " [ 0.04817239]\n",
      " [ 0.12222339]\n",
      " [ 0.10255545]\n",
      " [ 0.04889748]\n",
      " [ 0.06431514]\n",
      " [ 0.27132872]\n",
      " [ 0.04615994]\n",
      " [ 0.10690786]\n",
      " [ 0.07754086]\n",
      " [ 0.17093501]\n",
      " [ 0.12405196]\n",
      " [ 0.00375272]\n",
      " [ 0.11233366]\n",
      " [ 0.03422023]\n",
      " [ 0.05978212]\n",
      " [ 0.1301609 ]\n",
      " [ 0.21939607]\n",
      " [ 0.02511559]\n",
      " [ 0.07031569]\n",
      " [ 0.04727024]\n",
      " [-0.00050861]\n",
      " [ 0.12676516]\n",
      " [ 0.00106797]\n",
      " [-0.0018846 ]\n",
      " [ 0.0369176 ]\n",
      " [ 0.10434886]\n",
      " [ 0.12089583]\n",
      " [ 0.09289792]\n",
      " [ 0.2027656 ]\n",
      " [ 0.06280296]\n",
      " [-0.00407817]\n",
      " [ 0.13746528]\n",
      " [ 0.03124896]\n",
      " [ 0.0994626 ]]\n"
     ]
    }
   ],
   "source": [
    "prediction = lr.predict(X_test_MM_scaled)\n",
    "print(prediction)"
   ]
  },
  {
   "cell_type": "code",
   "execution_count": 64,
   "metadata": {},
   "outputs": [
    {
     "data": {
      "text/plain": [
       "<matplotlib.collections.PathCollection at 0x20e48225210>"
      ]
     },
     "execution_count": 64,
     "metadata": {},
     "output_type": "execute_result"
    },
    {
     "data": {
      "image/png": "[encoded data removed]",
      "text/plain": [
       "<Figure size 640x480 with 1 Axes>"
      ]
     },
     "metadata": {},
     "output_type": "display_data"
    }
   ],
   "source": [
    "plt.scatter(y_test_MM_scaled,prediction)"
   ]
  },
  {
   "cell_type": "markdown",
   "metadata": {},
   "source": [
    "Kết quả trả về chỉ ra: \n",
    "Đối với bộ số liệu dùng để Training xây dựng được mô hình Linear Regression, các biến đầu vào X(inputs) có khả năng giải thích 16,8% cho sự biến động đầu ra của y(outputs)\n",
    "Kiểm chứng bằng số liệu Valid cho thấy, mô hình Linear Regression các biến đầu vào X(inputs) có khả năng giải thích 16,85% cho sự biến động đầu ra của y(outputs). \n",
    "Như vậy, mô hình có khả năng giải thích cho biến động đầu ra y(outputs) khá thấp, khoảng hơn 16%"
   ]
  },
  {
   "cell_type": "markdown",
   "metadata": {
    "id": "S_HeD2iw15_k"
   },
   "source": [
    "# MÔ HÌNH RỪNG CÂY NGẪU NHIÊN (Random Forest Regression)"
   ]
  },
  {
   "cell_type": "code",
   "execution_count": 67,
   "metadata": {
    "id": "VBk-cqpo2aD9"
   },
   "outputs": [],
   "source": [
    "from sklearn.ensemble import RandomForestRegressor\n",
    "#n_estimator = 10\n",
    "forest_reg = RandomForestRegressor(n_estimators = 2, n_jobs=-1).fit(X_train_MM_scaled, y_train_MM_scaled.ravel())"
   ]
  },
  {
   "cell_type": "markdown",
   "metadata": {},
   "source": [
    "n_estimator: Số lượng cây trong rừng (số lượng cành nhánh trong thuật toán phân cụm Decision Trees). n_estimator số lượng càng cao thì càng chính xác, tuy nhiên khi n_estimator cao thì tăng thêm số lượng thì độ chính xác tăng càng ít.\n",
    "n_jobs: Số CPU được sử dụng để training và tính toán. n_jobs = -1 nghĩa là sử dụng tất cả CPU mà máy tính có."
   ]
  },
  {
   "cell_type": "code",
   "execution_count": 68,
   "metadata": {
    "colab": {
     "base_uri": "https://localhost:8080/"
    },
    "id": "gFqv2wVi3S6h",
    "outputId": "d8b5f128-db59-41d3-8622-a852432fabe2"
   },
   "outputs": [
    {
     "name": "stdout",
     "output_type": "stream",
     "text": [
      "Train set Random Forest Regression score: 0.7869\n",
      "Validation set Random Forest Regression score: 0.5342\n"
     ]
    }
   ],
   "source": [
    "print(\"Train set Random Forest Regression score: {:.4f}\".format(forest_reg.score(X_train_MM_scaled, y_train_MM_scaled)))\n",
    "print(\"Validation set Random Forest Regression score: {:.4f}\".format(forest_reg.score(X_valid_MM_scaled, y_valid_MM_scaled)))"
   ]
  },
  {
   "cell_type": "code",
   "execution_count": 69,
   "metadata": {
    "colab": {
     "base_uri": "https://localhost:8080/"
    },
    "id": "3Gwq8TuY4ESa",
    "outputId": "41f9f61a-d99e-49d5-854c-2519987cd6be"
   },
   "outputs": [
    {
     "name": "stdout",
     "output_type": "stream",
     "text": [
      "Train set Random Forest Regression score: 0.8776\n",
      "Validation set Random Forest Regression score: 0.8538\n"
     ]
    }
   ],
   "source": [
    "#n_estimator = 100\n",
    "forest_reg = RandomForestRegressor(n_estimators = 3, n_jobs=-1).fit(X_train_MM_scaled, y_train_MM_scaled.ravel())\n",
    "print(\"Train set Random Forest Regression score: {:.4f}\".format(forest_reg.score(X_train_MM_scaled, y_train_MM_scaled)))\n",
    "print(\"Validation set Random Forest Regression score: {:.4f}\".format(forest_reg.score(X_valid_MM_scaled, y_valid_MM_scaled)))"
   ]
  },
  {
   "cell_type": "code",
   "execution_count": 70,
   "metadata": {
    "colab": {
     "base_uri": "https://localhost:8080/"
    },
    "id": "tvJG5VaP5nuD",
    "outputId": "a23f217f-6fcf-4b39-cda2-10f37c58ebf6"
   },
   "outputs": [
    {
     "name": "stdout",
     "output_type": "stream",
     "text": [
      "Test set Random Forest Regression score: 0.7551\n"
     ]
    }
   ],
   "source": [
    "print(\"Test set Random Forest Regression score: {:.4f}\".format(forest_reg.score(X_test_MM_scaled, y_test_MM_scaled)))"
   ]
  },
  {
   "cell_type": "code",
   "execution_count": 71,
   "metadata": {},
   "outputs": [
    {
     "name": "stdout",
     "output_type": "stream",
     "text": [
      "[1.72281309e-03 1.99652224e-03 1.13920813e-02 4.03829758e-04\n",
      " 5.79567502e-04 4.75609838e-02 1.63233228e-01 4.11139821e-01\n",
      " 5.25235637e-04 3.73413785e-03 6.35161288e-01 1.02240725e-02\n",
      " 1.13002154e-02 3.70226569e-02 1.03553094e-02 5.90310929e-02\n",
      " 6.16558318e-02 1.95943904e-02 1.48436130e-02 2.50448624e-03\n",
      " 2.55172596e-03 1.17595447e-02 2.18746457e-01 2.07105660e-03\n",
      " 2.02066241e-01 4.50412344e-02 1.12083496e-02 1.32293985e-02\n",
      " 8.63610540e-03 1.32293985e-02 4.30989276e-02 1.12050819e-01\n",
      " 9.79101609e-04 4.12222392e-02 1.26650797e-02 7.88805480e-03\n",
      " 4.38962053e-01 1.99638357e-01 3.53710533e-01 2.47298520e-03\n",
      " 4.73739844e-01 1.45286443e-02 2.84266369e-02 2.94076464e-01\n",
      " 5.69444254e-02 1.17694008e-01 4.25182174e-01 6.11308840e-02\n",
      " 3.90699533e-02 1.64315800e-02 4.30989276e-02 7.46351658e-02\n",
      " 5.12040121e-03 1.13527102e-02 4.71672729e-02 1.31506564e-02\n",
      " 1.04078042e-02 1.97709174e-01 5.91453930e-03 5.18563091e-04\n",
      " 2.49199049e-03 2.26306356e-03 2.34494890e-01 1.99467969e-03\n",
      " 3.46997630e-02 4.41989007e-03 5.90310929e-02 1.14019374e-01\n",
      " 4.67473147e-02 1.34571079e-01 6.25788381e-04 1.72092359e-03\n",
      " 4.43850497e-02 1.95562756e-03 1.14281847e-01]\n"
     ]
    }
   ],
   "source": [
    "predictions = forest_reg.predict(X_test_MM_scaled)\n",
    "print(predictions)"
   ]
  },
  {
   "cell_type": "code",
   "execution_count": 72,
   "metadata": {},
   "outputs": [
    {
     "data": {
      "text/plain": [
       "<matplotlib.collections.PathCollection at 0x20e4910d210>"
      ]
     },
     "execution_count": 72,
     "metadata": {},
     "output_type": "execute_result"
    },
    {
     "data": {
      "image/png": "[encoded data removed]",
      "text/plain": [
       "<Figure size 640x480 with 1 Axes>"
      ]
     },
     "metadata": {},
     "output_type": "display_data"
    }
   ],
   "source": [
    "plt.scatter(y_test_MM_scaled,predictions)"
   ]
  },
  {
   "cell_type": "markdown",
   "metadata": {},
   "source": [
    "Kết quả trả về rất ấn tượng khi n_estimator = 100:"
   ]
  },
  {
   "cell_type": "markdown",
   "metadata": {},
   "source": [
    "Đối với bộ số liệu dùng để Training xây dựng được mô hình Random Forest Regressor, các biến đầu vào X(inputs) có khả năng giải thích lên tới 86,28% cho sự biến động đầu ra y(outputs)"
   ]
  },
  {
   "cell_type": "markdown",
   "metadata": {},
   "source": [
    "Tuy nhiên, khi kiểm chứng bằng bộ số liệu Valid cho thấy mô hình Random Forest Regressor, các biến đầu vào X(inputs) có khả năng giải thích chỉ còn 69,97% cho sự biến động đầu ra y(outputs)"
   ]
  },
  {
   "cell_type": "markdown",
   "metadata": {},
   "source": [
    "Để kiểm định thực tế trí tuệ nhân tạo này sau khi training bằng bộ số liệu Test, kết quả thu được là 74,97% vượt khá xa so với thuật toán Linear Regression"
   ]
  },
  {
   "cell_type": "markdown",
   "metadata": {
    "id": "PeZIFYJtS89S"
   },
   "source": [
    "# THUẬT TOÁN GRADIENT BOOTING REGRESSION"
   ]
  },
  {
   "cell_type": "code",
   "execution_count": 73,
   "metadata": {
    "id": "ZqfbRXtNCgoa"
   },
   "outputs": [
    {
     "name": "stdout",
     "output_type": "stream",
     "text": [
      "Train set Gradient Booting Regression score: 0.6782\n",
      "Validation set Gradient Booting Regression score: 0.6670\n"
     ]
    }
   ],
   "source": [
    "#Gọi thuật toán Gradient Booting Regression từ thư viên sklearn\n",
    "#n_estimators=10\n",
    "from sklearn.metrics import r2_score\n",
    "from sklearn.ensemble import GradientBoostingRegressor\n",
    "gb_reg = GradientBoostingRegressor(n_estimators=10).fit(X_train_MM_scaled, y_train_MM_scaled.ravel())\n",
    "print(\"Train set Gradient Booting Regression score: {:.4f}\".format(gb_reg.score(X_train_MM_scaled, y_train_MM_scaled)))\n",
    "print(\"Validation set Gradient Booting Regression score: {:.4f}\".format(gb_reg.score(X_valid_MM_scaled, y_valid_MM_scaled)))"
   ]
  },
  {
   "cell_type": "markdown",
   "metadata": {},
   "source": [
    "n_estimation: Số lượng các lần thực hiện tăng cường độ dốc(để tìm ra cực trị), số lần càng cao thường cho kết quả tốt"
   ]
  },
  {
   "cell_type": "code",
   "execution_count": 74,
   "metadata": {
    "id": "9-VyVtyJUdJq"
   },
   "outputs": [
    {
     "name": "stdout",
     "output_type": "stream",
     "text": [
      "Train set Gradient Booting Regression score: 0.9711\n",
      "Validation set Gradient Booting Regression score: 0.8770\n"
     ]
    }
   ],
   "source": [
    "#n_estimator = 50\n",
    "gb_reg = GradientBoostingRegressor(n_estimators=50).fit(X_train_MM_scaled, y_train_MM_scaled.ravel())\n",
    "print(\"Train set Gradient Booting Regression score: {:.4f}\".format(gb_reg.score(X_train_MM_scaled, y_train_MM_scaled)))\n",
    "print(\"Validation set Gradient Booting Regression score: {:.4f}\".format(gb_reg.score(X_valid_MM_scaled, y_valid_MM_scaled)))"
   ]
  },
  {
   "cell_type": "code",
   "execution_count": 75,
   "metadata": {
    "id": "n0Bqq6XCUpdr"
   },
   "outputs": [
    {
     "name": "stdout",
     "output_type": "stream",
     "text": [
      "Train set Gradient Booting Regression score: 0.9918\n",
      "Validation set Gradient Booting Regression score: 0.8669\n"
     ]
    }
   ],
   "source": [
    "#n_estimator = 100\n",
    "gb_reg = GradientBoostingRegressor(n_estimators=100).fit(X_train_MM_scaled, y_train_MM_scaled.ravel())\n",
    "print(\"Train set Gradient Booting Regression score: {:.4f}\".format(gb_reg.score(X_train_MM_scaled, y_train_MM_scaled)))\n",
    "print(\"Validation set Gradient Booting Regression score: {:.4f}\".format(gb_reg.score(X_valid_MM_scaled, y_valid_MM_scaled)))"
   ]
  },
  {
   "cell_type": "code",
   "execution_count": 67,
   "metadata": {
    "id": "TgA8VLu6U-aK"
   },
   "outputs": [
    {
     "name": "stdout",
     "output_type": "stream",
     "text": [
      "Test set Gradient Booting Regression score: 0.8193\n"
     ]
    }
   ],
   "source": [
    "print(\"Test set Gradient Booting Regression score: {:.4f}\".format(gb_reg.score(X_test_MM_scaled,y_test_MM_scaled)))"
   ]
  },
  {
   "cell_type": "code",
   "execution_count": 76,
   "metadata": {},
   "outputs": [
    {
     "name": "stdout",
     "output_type": "stream",
     "text": [
      "[ 1.30525339e-02  1.22333399e-02  1.00145759e-02 -1.12024510e-03\n",
      "  1.00193989e-03  2.52998431e-02  8.24341381e-02  4.45079044e-01\n",
      "  2.16191991e-03  8.95464017e-03  6.89052101e-01  3.73316167e-03\n",
      "  2.30132390e-02  6.28267834e-02  1.90472545e-02  7.08336008e-02\n",
      "  5.72218021e-02  2.42568029e-02  6.64719764e-03 -1.58294121e-03\n",
      " -1.36613544e-03  3.01031902e-02  2.39739269e-01  4.80552856e-02\n",
      "  1.47425409e-01  3.90726587e-02  2.21837101e-02  1.73841306e-02\n",
      "  9.02282827e-03  1.73841306e-02  2.49046462e-02  2.52881447e-01\n",
      "  1.05610287e-02  1.09556355e-02  1.67467651e-02  2.71449301e-02\n",
      "  5.58217557e-01  1.21338957e-02  5.51856384e-01  1.15832939e-02\n",
      "  3.78418979e-01  1.60142911e-02  2.54744770e-02  2.03039181e-01\n",
      "  1.52955368e-02  1.32714201e-01  3.02344733e-01  7.09880351e-02\n",
      "  5.27049982e-02  2.41237066e-02  5.80028808e-03  1.63401894e-02\n",
      "  2.08190816e-03  1.53852914e-02  7.29477415e-02  1.04875993e-02\n",
      "  2.79334117e-02  1.18541576e-01  6.38156311e-04 -3.79878329e-03\n",
      "  1.56649996e-02  1.30525339e-02  8.89980559e-02  1.30525339e-02\n",
      "  3.48508513e-02  1.43756064e-02  6.55426818e-02  5.93582303e-02\n",
      "  5.70975174e-02  1.37331131e-01  5.49543765e-03  1.99531948e-03\n",
      "  2.86049971e-02 -1.72094375e-02  8.95085806e-02]\n"
     ]
    }
   ],
   "source": [
    "predict = gb_reg.predict(X_test_MM_scaled)\n",
    "print(predict)"
   ]
  },
  {
   "cell_type": "code",
   "execution_count": 77,
   "metadata": {},
   "outputs": [
    {
     "data": {
      "text/plain": [
       "<matplotlib.collections.PathCollection at 0x20e49235210>"
      ]
     },
     "execution_count": 77,
     "metadata": {},
     "output_type": "execute_result"
    },
    {
     "data": {
      "image/png": "[encoded data removed]",
      "text/plain": [
       "<Figure size 640x480 with 1 Axes>"
      ]
     },
     "metadata": {},
     "output_type": "display_data"
    }
   ],
   "source": [
    "plt.scatter(y_test_MM_scaled,predict)"
   ]
  },
  {
   "cell_type": "markdown",
   "metadata": {},
   "source": [
    "Kết quả trả về rất ấn tượng với n_estimators=100: Bộ dữ liệu Training là 99,18%, cao hơn hẳn phương pháp Random Forest Regressor, bộ dữ liệu Valid và thử thực tế Test cũng mang kết quả cao hơn rất nhiều với con số lần lượt là 86,04% và 81, 93%"
   ]
  },
  {
   "cell_type": "markdown",
   "metadata": {
    "id": "CZd_mTolVbtw"
   },
   "source": [
    "# **Sử Dụng Bộ Dữ Liệu Test Để Kiểm Tra Độ Chính Xác Của Dự Báo**"
   ]
  },
  {
   "cell_type": "code",
   "execution_count": 62,
   "metadata": {
    "id": "HhMNWqo2Eu2B"
   },
   "outputs": [
    {
     "data": {
      "text/plain": [
       "array([[ 3.32174420e+11],\n",
       "       [ 3.11367424e+11],\n",
       "       [ 2.55012258e+11],\n",
       "       [-2.78049754e+10],\n",
       "       [ 2.60971469e+10],\n",
       "       [ 6.43248131e+11],\n",
       "       [ 2.09442217e+12],\n",
       "       [ 1.13053676e+13],\n",
       "       [ 5.55598873e+10],\n",
       "       [ 2.28090577e+11],\n",
       "       [ 1.75021250e+13],\n",
       "       [ 9.54684090e+10],\n",
       "       [ 5.85169869e+11],\n",
       "       [ 1.59640808e+12],\n",
       "       [ 4.84436435e+11],\n",
       "       [ 1.79977605e+12],\n",
       "       [ 1.45404519e+12],\n",
       "       [ 6.16755587e+11],\n",
       "       [ 1.69483033e+11],\n",
       "       [-3.95571567e+10],\n",
       "       [-3.40504305e+10],\n",
       "       [ 7.65250033e+11],\n",
       "       [ 6.08987047e+12],\n",
       "       [ 1.22122161e+12],\n",
       "       [ 3.74515830e+12],\n",
       "       [ 9.93068714e+11],\n",
       "       [ 5.64100373e+11],\n",
       "       [ 4.42194168e+11],\n",
       "       [ 2.29822510e+11],\n",
       "       [ 4.42194168e+11],\n",
       "       [ 6.33210385e+11],\n",
       "       [ 6.30357934e+12],\n",
       "       [ 2.68891804e+11],\n",
       "       [ 2.78914560e+11],\n",
       "       [ 4.26005496e+11],\n",
       "       [ 6.90112144e+11],\n",
       "       [ 1.41790125e+13],\n",
       "       [ 3.08841606e+11],\n",
       "       [ 1.40174428e+13],\n",
       "       [ 2.94856676e+11],\n",
       "       [ 9.61224518e+12],\n",
       "       [ 4.07401133e+11],\n",
       "       [ 6.47683719e+11],\n",
       "       [ 5.44259331e+12],\n",
       "       [ 3.89145239e+11],\n",
       "       [ 3.37150315e+12],\n",
       "       [ 7.68000867e+12],\n",
       "       [ 1.80369858e+12],\n",
       "       [ 1.33932130e+12],\n",
       "       [ 6.13375026e+11],\n",
       "       [ 1.47972079e+11],\n",
       "       [ 4.15678736e+11],\n",
       "       [ 5.35276407e+10],\n",
       "       [ 3.91424947e+11],\n",
       "       [ 1.85347385e+12],\n",
       "       [ 2.67026744e+11],\n",
       "       [ 7.10139064e+11],\n",
       "       [ 3.01152769e+12],\n",
       "       [ 1.66703540e+10],\n",
       "       [-9.58381084e+10],\n",
       "       [ 3.98529355e+11],\n",
       "       [ 3.32174420e+11],\n",
       "       [ 2.26114143e+12],\n",
       "       [ 3.32174420e+11],\n",
       "       [ 8.85837544e+11],\n",
       "       [ 3.65779604e+11],\n",
       "       [ 1.66539014e+12],\n",
       "       [ 1.50830908e+12],\n",
       "       [ 1.45088844e+12],\n",
       "       [ 3.48877018e+12],\n",
       "       [ 1.40229076e+11],\n",
       "       [ 5.13283443e+10],\n",
       "       [ 7.27196898e+11],\n",
       "       [-4.36460028e+11],\n",
       "       [ 2.27410842e+12]])"
      ]
     },
     "execution_count": 62,
     "metadata": {},
     "output_type": "execute_result"
    }
   ],
   "source": [
    "y_preds = gb_reg.predict(X_test_MM_scaled)\n",
    "y_preds = scMM_for_y.inverse_transform(y_preds.reshape(-1,1))\n",
    "y_preds"
   ]
  },
  {
   "cell_type": "code",
   "execution_count": 63,
   "metadata": {
    "colab": {
     "base_uri": "https://localhost:8080/"
    },
    "id": "yFL3eG6CEuAC",
    "outputId": "428c2ee5-bc7b-41d9-e029-df5e332b6bcf"
   },
   "outputs": [
    {
     "name": "stdout",
     "output_type": "stream",
     "text": [
      "Test R2 score: 0.8183\n"
     ]
    }
   ],
   "source": [
    "print(\"Test R2 score: {:.4f}\".format(r2_score(y_test,y_preds)))"
   ]
  },
  {
   "cell_type": "markdown",
   "metadata": {},
   "source": [
    "Tính toán dự báo y_pred thông qua gb_reg, sau đó chuyển đổi trở lại thang đo bình thường sẽ thu được các giá trị dự báo của biến GDP"
   ]
  },
  {
   "cell_type": "code",
   "execution_count": 64,
   "metadata": {
    "id": "rxpxpG3PFQKr"
   },
   "outputs": [
    {
     "data": {
      "text/html": [
       "<table class=\"simpletable\">\n",
       "<caption>OLS Regression Results</caption>\n",
       "<tr>\n",
       "  <th>Dep. Variable:</th>           <td>GDP</td>       <th>  R-squared (uncentered):</th>      <td>   0.328</td> \n",
       "</tr>\n",
       "<tr>\n",
       "  <th>Model:</th>                   <td>OLS</td>       <th>  Adj. R-squared (uncentered):</th> <td>   0.315</td> \n",
       "</tr>\n",
       "<tr>\n",
       "  <th>Method:</th>             <td>Least Squares</td>  <th>  F-statistic:       </th>          <td>   24.41</td> \n",
       "</tr>\n",
       "<tr>\n",
       "  <th>Date:</th>             <td>Tue, 05 Mar 2024</td> <th>  Prob (F-statistic):</th>          <td>5.39e-20</td> \n",
       "</tr>\n",
       "<tr>\n",
       "  <th>Time:</th>                 <td>01:07:24</td>     <th>  Log-Likelihood:    </th>          <td> -7733.2</td> \n",
       "</tr>\n",
       "<tr>\n",
       "  <th>No. Observations:</th>      <td>   255</td>      <th>  AIC:               </th>          <td>1.548e+04</td>\n",
       "</tr>\n",
       "<tr>\n",
       "  <th>Df Residuals:</th>          <td>   250</td>      <th>  BIC:               </th>          <td>1.549e+04</td>\n",
       "</tr>\n",
       "<tr>\n",
       "  <th>Df Model:</th>              <td>     5</td>      <th>                     </th>              <td> </td>    \n",
       "</tr>\n",
       "<tr>\n",
       "  <th>Covariance Type:</th>      <td>nonrobust</td>    <th>                     </th>              <td> </td>    \n",
       "</tr>\n",
       "</table>\n",
       "<table class=\"simpletable\">\n",
       "<tr>\n",
       "        <td></td>           <th>coef</th>     <th>std err</th>      <th>t</th>      <th>P>|t|</th>  <th>[0.025</th>    <th>0.975]</th>  \n",
       "</tr>\n",
       "<tr>\n",
       "  <th>Inflation</th>     <td>-3.165e+10</td> <td> 2.83e+10</td> <td>   -1.119</td> <td> 0.264</td> <td>-8.73e+10</td> <td>  2.4e+10</td>\n",
       "</tr>\n",
       "<tr>\n",
       "  <th>Exchange Rate</th> <td>-9.758e+07</td> <td>  4.6e+07</td> <td>   -2.120</td> <td> 0.035</td> <td>-1.88e+08</td> <td>-6.92e+06</td>\n",
       "</tr>\n",
       "<tr>\n",
       "  <th>Money Supply</th>  <td> 2.035e+10</td> <td> 3.31e+09</td> <td>    6.154</td> <td> 0.000</td> <td> 1.38e+10</td> <td> 2.69e+10</td>\n",
       "</tr>\n",
       "<tr>\n",
       "  <th>Unemployment</th>  <td> 1.124e+11</td> <td> 6.83e+10</td> <td>    1.645</td> <td> 0.101</td> <td>-2.22e+10</td> <td> 2.47e+11</td>\n",
       "</tr>\n",
       "<tr>\n",
       "  <th>FDI</th>           <td>  -13.5274</td> <td>    4.119</td> <td>   -3.284</td> <td> 0.001</td> <td>  -21.641</td> <td>   -5.414</td>\n",
       "</tr>\n",
       "</table>\n",
       "<table class=\"simpletable\">\n",
       "<tr>\n",
       "  <th>Omnibus:</th>       <td>228.704</td> <th>  Durbin-Watson:     </th> <td>   2.103</td>\n",
       "</tr>\n",
       "<tr>\n",
       "  <th>Prob(Omnibus):</th> <td> 0.000</td>  <th>  Jarque-Bera (JB):  </th> <td>3399.236</td>\n",
       "</tr>\n",
       "<tr>\n",
       "  <th>Skew:</th>          <td> 3.741</td>  <th>  Prob(JB):          </th> <td>    0.00</td>\n",
       "</tr>\n",
       "<tr>\n",
       "  <th>Kurtosis:</th>      <td>19.246</td>  <th>  Cond. No.          </th> <td>1.70e+10</td>\n",
       "</tr>\n",
       "</table><br/><br/>Notes:<br/>[1] R² is computed without centering (uncentered) since the model does not contain a constant.<br/>[2] Standard Errors assume that the covariance matrix of the errors is correctly specified.<br/>[3] The condition number is large, 1.7e+10. This might indicate that there are<br/>strong multicollinearity or other numerical problems."
      ],
      "text/latex": [
       "\\begin{center}\n",
       "\\begin{tabular}{lclc}\n",
       "\\toprule\n",
       "\\textbf{Dep. Variable:}    &       GDP        & \\textbf{  R-squared (uncentered):}      &     0.328   \\\\\n",
       "\\textbf{Model:}            &       OLS        & \\textbf{  Adj. R-squared (uncentered):} &     0.315   \\\\\n",
       "\\textbf{Method:}           &  Least Squares   & \\textbf{  F-statistic:       }          &     24.41   \\\\\n",
       "\\textbf{Date:}             & Tue, 05 Mar 2024 & \\textbf{  Prob (F-statistic):}          &  5.39e-20   \\\\\n",
       "\\textbf{Time:}             &     01:07:24     & \\textbf{  Log-Likelihood:    }          &   -7733.2   \\\\\n",
       "\\textbf{No. Observations:} &         255      & \\textbf{  AIC:               }          & 1.548e+04   \\\\\n",
       "\\textbf{Df Residuals:}     &         250      & \\textbf{  BIC:               }          & 1.549e+04   \\\\\n",
       "\\textbf{Df Model:}         &           5      & \\textbf{                     }          &             \\\\\n",
       "\\textbf{Covariance Type:}  &    nonrobust     & \\textbf{                     }          &             \\\\\n",
       "\\bottomrule\n",
       "\\end{tabular}\n",
       "\\begin{tabular}{lcccccc}\n",
       "                       & \\textbf{coef} & \\textbf{std err} & \\textbf{t} & \\textbf{P$> |$t$|$} & \\textbf{[0.025} & \\textbf{0.975]}  \\\\\n",
       "\\midrule\n",
       "\\textbf{Inflation}     &   -3.165e+10  &     2.83e+10     &    -1.119  &         0.264        &    -8.73e+10    &      2.4e+10     \\\\\n",
       "\\textbf{Exchange Rate} &   -9.758e+07  &      4.6e+07     &    -2.120  &         0.035        &    -1.88e+08    &    -6.92e+06     \\\\\n",
       "\\textbf{Money Supply}  &    2.035e+10  &     3.31e+09     &     6.154  &         0.000        &     1.38e+10    &     2.69e+10     \\\\\n",
       "\\textbf{Unemployment}  &    1.124e+11  &     6.83e+10     &     1.645  &         0.101        &    -2.22e+10    &     2.47e+11     \\\\\n",
       "\\textbf{FDI}           &     -13.5274  &        4.119     &    -3.284  &         0.001        &      -21.641    &       -5.414     \\\\\n",
       "\\bottomrule\n",
       "\\end{tabular}\n",
       "\\begin{tabular}{lclc}\n",
       "\\textbf{Omnibus:}       & 228.704 & \\textbf{  Durbin-Watson:     } &    2.103  \\\\\n",
       "\\textbf{Prob(Omnibus):} &   0.000 & \\textbf{  Jarque-Bera (JB):  } & 3399.236  \\\\\n",
       "\\textbf{Skew:}          &   3.741 & \\textbf{  Prob(JB):          } &     0.00  \\\\\n",
       "\\textbf{Kurtosis:}      &  19.246 & \\textbf{  Cond. No.          } & 1.70e+10  \\\\\n",
       "\\bottomrule\n",
       "\\end{tabular}\n",
       "%\\caption{OLS Regression Results}\n",
       "\\end{center}\n",
       "\n",
       "Notes: \\newline\n",
       " [1] R² is computed without centering (uncentered) since the model does not contain a constant. \\newline\n",
       " [2] Standard Errors assume that the covariance matrix of the errors is correctly specified. \\newline\n",
       " [3] The condition number is large, 1.7e+10. This might indicate that there are \\newline\n",
       " strong multicollinearity or other numerical problems."
      ],
      "text/plain": [
       "<class 'statsmodels.iolib.summary.Summary'>\n",
       "\"\"\"\n",
       "                                 OLS Regression Results                                \n",
       "=======================================================================================\n",
       "Dep. Variable:                    GDP   R-squared (uncentered):                   0.328\n",
       "Model:                            OLS   Adj. R-squared (uncentered):              0.315\n",
       "Method:                 Least Squares   F-statistic:                              24.41\n",
       "Date:                Tue, 05 Mar 2024   Prob (F-statistic):                    5.39e-20\n",
       "Time:                        01:07:24   Log-Likelihood:                         -7733.2\n",
       "No. Observations:                 255   AIC:                                  1.548e+04\n",
       "Df Residuals:                     250   BIC:                                  1.549e+04\n",
       "Df Model:                           5                                                  \n",
       "Covariance Type:            nonrobust                                                  \n",
       "=================================================================================\n",
       "                    coef    std err          t      P>|t|      [0.025      0.975]\n",
       "---------------------------------------------------------------------------------\n",
       "Inflation     -3.165e+10   2.83e+10     -1.119      0.264   -8.73e+10     2.4e+10\n",
       "Exchange Rate -9.758e+07    4.6e+07     -2.120      0.035   -1.88e+08   -6.92e+06\n",
       "Money Supply   2.035e+10   3.31e+09      6.154      0.000    1.38e+10    2.69e+10\n",
       "Unemployment   1.124e+11   6.83e+10      1.645      0.101   -2.22e+10    2.47e+11\n",
       "FDI             -13.5274      4.119     -3.284      0.001     -21.641      -5.414\n",
       "==============================================================================\n",
       "Omnibus:                      228.704   Durbin-Watson:                   2.103\n",
       "Prob(Omnibus):                  0.000   Jarque-Bera (JB):             3399.236\n",
       "Skew:                           3.741   Prob(JB):                         0.00\n",
       "Kurtosis:                      19.246   Cond. No.                     1.70e+10\n",
       "==============================================================================\n",
       "\n",
       "Notes:\n",
       "[1] R² is computed without centering (uncentered) since the model does not contain a constant.\n",
       "[2] Standard Errors assume that the covariance matrix of the errors is correctly specified.\n",
       "[3] The condition number is large, 1.7e+10. This might indicate that there are\n",
       "strong multicollinearity or other numerical problems.\n",
       "\"\"\""
      ]
     },
     "execution_count": 64,
     "metadata": {},
     "output_type": "execute_result"
    }
   ],
   "source": [
    "#So sánh với phương pháp OLS truyền thống\n",
    "import statsmodels.api as sm\n",
    "results = sm.OLS(y_train, X_train).fit()\n",
    "results.summary()"
   ]
  },
  {
   "cell_type": "markdown",
   "metadata": {},
   "source": [
    "Hệ số xác định R2 của giá trị dự báo và giá trị thực tế là 0.8183 khá gần đến 1 là phương pháp dự báo tốt đối với dự báo kinh tế, cao hơn rất nhiều 0,328 của phương pháp thống kê truyền thống OLS."
   ]
  },
  {
   "cell_type": "markdown",
   "metadata": {
    "id": "SuITGSLryZpb"
   },
   "source": [
    "# **MÁY VECTOR HỖ TRỢ**"
   ]
  },
  {
   "cell_type": "code",
   "execution_count": 68,
   "metadata": {
    "id": "rIrMwtQgyetH"
   },
   "outputs": [
    {
     "data": {
      "text/html": [
       "<style>#sk-container-id-4 {color: black;}#sk-container-id-4 pre{padding: 0;}#sk-container-id-4 div.sk-toggleable {background-color: white;}#sk-container-id-4 label.sk-toggleable__label {cursor: pointer;display: block;width: 100%;margin-bottom: 0;padding: 0.3em;box-sizing: border-box;text-align: center;}#sk-container-id-4 label.sk-toggleable__label-arrow:before {content: \"▸\";float: left;margin-right: 0.25em;color: #696969;}#sk-container-id-4 label.sk-toggleable__label-arrow:hover:before {color: black;}#sk-container-id-4 div.sk-estimator:hover label.sk-toggleable__label-arrow:before {color: black;}#sk-container-id-4 div.sk-toggleable__content {max-height: 0;max-width: 0;overflow: hidden;text-align: left;background-color: #f0f8ff;}#sk-container-id-4 div.sk-toggleable__content pre {margin: 0.2em;color: black;border-radius: 0.25em;background-color: #f0f8ff;}#sk-container-id-4 input.sk-toggleable__control:checked~div.sk-toggleable__content {max-height: 200px;max-width: 100%;overflow: auto;}#sk-container-id-4 input.sk-toggleable__control:checked~label.sk-toggleable__label-arrow:before {content: \"▾\";}#sk-container-id-4 div.sk-estimator input.sk-toggleable__control:checked~label.sk-toggleable__label {background-color: #d4ebff;}#sk-container-id-4 div.sk-label input.sk-toggleable__control:checked~label.sk-toggleable__label {background-color: #d4ebff;}#sk-container-id-4 input.sk-hidden--visually {border: 0;clip: rect(1px 1px 1px 1px);clip: rect(1px, 1px, 1px, 1px);height: 1px;margin: -1px;overflow: hidden;padding: 0;position: absolute;width: 1px;}#sk-container-id-4 div.sk-estimator {font-family: monospace;background-color: #f0f8ff;border: 1px dotted black;border-radius: 0.25em;box-sizing: border-box;margin-bottom: 0.5em;}#sk-container-id-4 div.sk-estimator:hover {background-color: #d4ebff;}#sk-container-id-4 div.sk-parallel-item::after {content: \"\";width: 100%;border-bottom: 1px solid gray;flex-grow: 1;}#sk-container-id-4 div.sk-label:hover label.sk-toggleable__label {background-color: #d4ebff;}#sk-container-id-4 div.sk-serial::before {content: \"\";position: absolute;border-left: 1px solid gray;box-sizing: border-box;top: 0;bottom: 0;left: 50%;z-index: 0;}#sk-container-id-4 div.sk-serial {display: flex;flex-direction: column;align-items: center;background-color: white;padding-right: 0.2em;padding-left: 0.2em;position: relative;}#sk-container-id-4 div.sk-item {position: relative;z-index: 1;}#sk-container-id-4 div.sk-parallel {display: flex;align-items: stretch;justify-content: center;background-color: white;position: relative;}#sk-container-id-4 div.sk-item::before, #sk-container-id-4 div.sk-parallel-item::before {content: \"\";position: absolute;border-left: 1px solid gray;box-sizing: border-box;top: 0;bottom: 0;left: 50%;z-index: -1;}#sk-container-id-4 div.sk-parallel-item {display: flex;flex-direction: column;z-index: 1;position: relative;background-color: white;}#sk-container-id-4 div.sk-parallel-item:first-child::after {align-self: flex-end;width: 50%;}#sk-container-id-4 div.sk-parallel-item:last-child::after {align-self: flex-start;width: 50%;}#sk-container-id-4 div.sk-parallel-item:only-child::after {width: 0;}#sk-container-id-4 div.sk-dashed-wrapped {border: 1px dashed gray;margin: 0 0.4em 0.5em 0.4em;box-sizing: border-box;padding-bottom: 0.4em;background-color: white;}#sk-container-id-4 div.sk-label label {font-family: monospace;font-weight: bold;display: inline-block;line-height: 1.2em;}#sk-container-id-4 div.sk-label-container {text-align: center;}#sk-container-id-4 div.sk-container {/* jupyter's `normalize.less` sets `[hidden] { display: none; }` but bootstrap.min.css set `[hidden] { display: none !important; }` so we also need the `!important` here to be able to override the default hidden behavior on the sphinx rendered scikit-learn.org. See: https://github.com/scikit-learn/scikit-learn/issues/21755 */display: inline-block !important;position: relative;}#sk-container-id-4 div.sk-text-repr-fallback {display: none;}</style><div id=\"sk-container-id-4\" class=\"sk-top-container\"><div class=\"sk-text-repr-fallback\"><pre>SVR()</pre><b>In a Jupyter environment, please rerun this cell to show the HTML representation or trust the notebook. <br />On GitHub, the HTML representation is unable to render, please try loading this page with nbviewer.org.</b></div><div class=\"sk-container\" hidden><div class=\"sk-item\"><div class=\"sk-estimator sk-toggleable\"><input class=\"sk-toggleable__control sk-hidden--visually\" id=\"sk-estimator-id-4\" type=\"checkbox\" checked><label for=\"sk-estimator-id-4\" class=\"sk-toggleable__label sk-toggleable__label-arrow\">SVR</label><div class=\"sk-toggleable__content\"><pre>SVR()</pre></div></div></div></div></div>"
      ],
      "text/plain": [
       "SVR()"
      ]
     },
     "execution_count": 68,
     "metadata": {},
     "output_type": "execute_result"
    }
   ],
   "source": [
    "from sklearn.svm import SVR\n",
    "svm1 = SVR(kernel='rbf')\n",
    "svm1.fit(X_train,y_train)\n"
   ]
  },
  {
   "cell_type": "code",
   "execution_count": 69,
   "metadata": {
    "id": "BkV5hJ9R1UFl"
   },
   "outputs": [],
   "source": [
    "svm1_pred = svm1.predict(X_test)"
   ]
  },
  {
   "cell_type": "code",
   "execution_count": 70,
   "metadata": {
    "id": "cs1cXT291YJc"
   },
   "outputs": [
    {
     "name": "stdout",
     "output_type": "stream",
     "text": [
      "MAE: 1799146151379.2883\n",
      "RMSE: 4234417824261.1636\n",
      "R2_Score:  -0.15541226811193476\n"
     ]
    }
   ],
   "source": [
    "from sklearn import metrics\n",
    "print('MAE:', metrics.mean_absolute_error(y_test, svm1_pred))\n",
    "print('RMSE:', np.sqrt(metrics.mean_squared_error(y_test, svm1_pred)))\n",
    "print('R2_Score: ', metrics.r2_score(y_test, svm1_pred))\n"
   ]
  },
  {
   "cell_type": "markdown",
   "metadata": {},
   "source": [
    "Kết quả mô hình trả về không được tốt lắm khi R2 = -0,1554, thấp hơn rất nhiều so với các phương pháp trên"
   ]
  }
 ],
 "metadata": {
  "colab": {
   "provenance": []
  },
  "kernelspec": {
   "display_name": "Python 3 (ipykernel)",
   "language": "python",
   "name": "python3"
  },
  "language_info": {
   "codemirror_mode": {
    "name": "ipython",
    "version": 3
   },
   "file_extension": ".py",
   "mimetype": "text/x-python",
   "name": "python",
   "nbconvert_exporter": "python",
   "pygments_lexer": "ipython3",
   "version": "3.11.4"
  }
 },
 "nbformat": 4,
 "nbformat_minor": 1
}
