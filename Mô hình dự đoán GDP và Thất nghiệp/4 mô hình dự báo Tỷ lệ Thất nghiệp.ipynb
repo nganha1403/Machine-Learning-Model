{
  "nbformat": 4,
  "nbformat_minor": 0,
  "metadata": {
    "colab": {
      "provenance": []
    },
    "kernelspec": {
      "name": "python3",
      "display_name": "Python 3"
    },
    "language_info": {
      "name": "python"
    }
  },
  "cells": [
    {
      "cell_type": "markdown",
      "source": [
        "**LÀM SẠCH DỮ LIỆU*\n"
      ],
      "metadata": {
        "id": "wuqrDeiRYsAs"
      }
    },
    {
      "cell_type": "code",
      "execution_count": null,
      "metadata": {
        "id": "rxQc2pD-5XP_"
      },
      "outputs": [],
      "source": [
        "import pandas as pd\n",
        "import numpy as np\n",
        "%matplotlib inline\n",
        "import matplotlib\n",
        "import matplotlib.pyplot as plt\n",
        "import seaborn as sns\n",
        "sns.set()\n",
        "from sklearn.impute import SimpleImputer\n",
        "from sklearn.model_selection import train_test_split"
      ]
    },
    {
      "cell_type": "code",
      "source": [
        "#Dowload tệp tin đã tải xuống máy tính\n",
        "from google.colab import files\n",
        "uploaded = files.upload()"
      ],
      "metadata": {
        "id": "brVt6TKX5hoS",
        "colab": {
          "base_uri": "https://localhost:8080/",
          "height": 74
        },
        "outputId": "49e95ada-57bb-4369-806f-dec7a3dff40d"
      },
      "execution_count": null,
      "outputs": [
        {
          "output_type": "display_data",
          "data": {
            "text/plain": [
              "<IPython.core.display.HTML object>"
            ],
            "text/html": [
              "\n",
              "     <input type=\"file\" id=\"files-a074a99e-8d18-4b37-b7d2-688279c46824\" name=\"files[]\" multiple disabled\n",
              "        style=\"border:none\" />\n",
              "     <output id=\"result-a074a99e-8d18-4b37-b7d2-688279c46824\">\n",
              "      Upload widget is only available when the cell has been executed in the\n",
              "      current browser session. Please rerun this cell to enable.\n",
              "      </output>\n",
              "      <script>// Copyright 2017 Google LLC\n",
              "//\n",
              "// Licensed under the Apache License, Version 2.0 (the \"License\");\n",
              "// you may not use this file except in compliance with the License.\n",
              "// You may obtain a copy of the License at\n",
              "//\n",
              "//      http://www.apache.org/licenses/LICENSE-2.0\n",
              "//\n",
              "// Unless required by applicable law or agreed to in writing, software\n",
              "// distributed under the License is distributed on an \"AS IS\" BASIS,\n",
              "// WITHOUT WARRANTIES OR CONDITIONS OF ANY KIND, either express or implied.\n",
              "// See the License for the specific language governing permissions and\n",
              "// limitations under the License.\n",
              "\n",
              "/**\n",
              " * @fileoverview Helpers for google.colab Python module.\n",
              " */\n",
              "(function(scope) {\n",
              "function span(text, styleAttributes = {}) {\n",
              "  const element = document.createElement('span');\n",
              "  element.textContent = text;\n",
              "  for (const key of Object.keys(styleAttributes)) {\n",
              "    element.style[key] = styleAttributes[key];\n",
              "  }\n",
              "  return element;\n",
              "}\n",
              "\n",
              "// Max number of bytes which will be uploaded at a time.\n",
              "const MAX_PAYLOAD_SIZE = 100 * 1024;\n",
              "\n",
              "function _uploadFiles(inputId, outputId) {\n",
              "  const steps = uploadFilesStep(inputId, outputId);\n",
              "  const outputElement = document.getElementById(outputId);\n",
              "  // Cache steps on the outputElement to make it available for the next call\n",
              "  // to uploadFilesContinue from Python.\n",
              "  outputElement.steps = steps;\n",
              "\n",
              "  return _uploadFilesContinue(outputId);\n",
              "}\n",
              "\n",
              "// This is roughly an async generator (not supported in the browser yet),\n",
              "// where there are multiple asynchronous steps and the Python side is going\n",
              "// to poll for completion of each step.\n",
              "// This uses a Promise to block the python side on completion of each step,\n",
              "// then passes the result of the previous step as the input to the next step.\n",
              "function _uploadFilesContinue(outputId) {\n",
              "  const outputElement = document.getElementById(outputId);\n",
              "  const steps = outputElement.steps;\n",
              "\n",
              "  const next = steps.next(outputElement.lastPromiseValue);\n",
              "  return Promise.resolve(next.value.promise).then((value) => {\n",
              "    // Cache the last promise value to make it available to the next\n",
              "    // step of the generator.\n",
              "    outputElement.lastPromiseValue = value;\n",
              "    return next.value.response;\n",
              "  });\n",
              "}\n",
              "\n",
              "/**\n",
              " * Generator function which is called between each async step of the upload\n",
              " * process.\n",
              " * @param {string} inputId Element ID of the input file picker element.\n",
              " * @param {string} outputId Element ID of the output display.\n",
              " * @return {!Iterable<!Object>} Iterable of next steps.\n",
              " */\n",
              "function* uploadFilesStep(inputId, outputId) {\n",
              "  const inputElement = document.getElementById(inputId);\n",
              "  inputElement.disabled = false;\n",
              "\n",
              "  const outputElement = document.getElementById(outputId);\n",
              "  outputElement.innerHTML = '';\n",
              "\n",
              "  const pickedPromise = new Promise((resolve) => {\n",
              "    inputElement.addEventListener('change', (e) => {\n",
              "      resolve(e.target.files);\n",
              "    });\n",
              "  });\n",
              "\n",
              "  const cancel = document.createElement('button');\n",
              "  inputElement.parentElement.appendChild(cancel);\n",
              "  cancel.textContent = 'Cancel upload';\n",
              "  const cancelPromise = new Promise((resolve) => {\n",
              "    cancel.onclick = () => {\n",
              "      resolve(null);\n",
              "    };\n",
              "  });\n",
              "\n",
              "  // Wait for the user to pick the files.\n",
              "  const files = yield {\n",
              "    promise: Promise.race([pickedPromise, cancelPromise]),\n",
              "    response: {\n",
              "      action: 'starting',\n",
              "    }\n",
              "  };\n",
              "\n",
              "  cancel.remove();\n",
              "\n",
              "  // Disable the input element since further picks are not allowed.\n",
              "  inputElement.disabled = true;\n",
              "\n",
              "  if (!files) {\n",
              "    return {\n",
              "      response: {\n",
              "        action: 'complete',\n",
              "      }\n",
              "    };\n",
              "  }\n",
              "\n",
              "  for (const file of files) {\n",
              "    const li = document.createElement('li');\n",
              "    li.append(span(file.name, {fontWeight: 'bold'}));\n",
              "    li.append(span(\n",
              "        `(${file.type || 'n/a'}) - ${file.size} bytes, ` +\n",
              "        `last modified: ${\n",
              "            file.lastModifiedDate ? file.lastModifiedDate.toLocaleDateString() :\n",
              "                                    'n/a'} - `));\n",
              "    const percent = span('0% done');\n",
              "    li.appendChild(percent);\n",
              "\n",
              "    outputElement.appendChild(li);\n",
              "\n",
              "    const fileDataPromise = new Promise((resolve) => {\n",
              "      const reader = new FileReader();\n",
              "      reader.onload = (e) => {\n",
              "        resolve(e.target.result);\n",
              "      };\n",
              "      reader.readAsArrayBuffer(file);\n",
              "    });\n",
              "    // Wait for the data to be ready.\n",
              "    let fileData = yield {\n",
              "      promise: fileDataPromise,\n",
              "      response: {\n",
              "        action: 'continue',\n",
              "      }\n",
              "    };\n",
              "\n",
              "    // Use a chunked sending to avoid message size limits. See b/62115660.\n",
              "    let position = 0;\n",
              "    do {\n",
              "      const length = Math.min(fileData.byteLength - position, MAX_PAYLOAD_SIZE);\n",
              "      const chunk = new Uint8Array(fileData, position, length);\n",
              "      position += length;\n",
              "\n",
              "      const base64 = btoa(String.fromCharCode.apply(null, chunk));\n",
              "      yield {\n",
              "        response: {\n",
              "          action: 'append',\n",
              "          file: file.name,\n",
              "          data: base64,\n",
              "        },\n",
              "      };\n",
              "\n",
              "      let percentDone = fileData.byteLength === 0 ?\n",
              "          100 :\n",
              "          Math.round((position / fileData.byteLength) * 100);\n",
              "      percent.textContent = `${percentDone}% done`;\n",
              "\n",
              "    } while (position < fileData.byteLength);\n",
              "  }\n",
              "\n",
              "  // All done.\n",
              "  yield {\n",
              "    response: {\n",
              "      action: 'complete',\n",
              "    }\n",
              "  };\n",
              "}\n",
              "\n",
              "scope.google = scope.google || {};\n",
              "scope.google.colab = scope.google.colab || {};\n",
              "scope.google.colab._files = {\n",
              "  _uploadFiles,\n",
              "  _uploadFilesContinue,\n",
              "};\n",
              "})(self);\n",
              "</script> "
            ]
          },
          "metadata": {}
        },
        {
          "output_type": "stream",
          "name": "stdout",
          "text": [
            "Saving Data WorldBank.csv to Data WorldBank.csv\n"
          ]
        }
      ]
    },
    {
      "cell_type": "code",
      "source": [
        "df = pd.read_csv(\"Data WorldBank.csv\")\n",
        "print(df)"
      ],
      "metadata": {
        "id": "5-PAOkzP5rUl"
      },
      "execution_count": null,
      "outputs": []
    },
    {
      "cell_type": "code",
      "source": [
        "#Xem dữ liệu GDP của các nước\n",
        "data_GDP = df[df['Series Name'].isin(['GDP (current US$)'])]\n",
        "print(data_GDP)"
      ],
      "metadata": {
        "id": "FrVcNtq_Jt0K"
      },
      "execution_count": null,
      "outputs": []
    },
    {
      "cell_type": "code",
      "source": [
        "#Sắp xếp lại bảng\n",
        "id_vars = [\"Country Name\",\"Country Code\", \"Series Name\", \"Series Code\"]\n",
        "a = pd.melt(frame=data_GDP, id_vars=id_vars, var_name='Year', value_name='GDP')\n",
        "print(a)"
      ],
      "metadata": {
        "id": "3PyEJJLBx8Dk"
      },
      "execution_count": null,
      "outputs": []
    },
    {
      "cell_type": "code",
      "source": [
        "#Đổi tên cột\n",
        "change1 = a.rename(columns={'Series Code':'Series Code 1','Series Name':'Series Name 1','Country Code':'Country Code 1'})\n",
        "print(change1)"
      ],
      "metadata": {
        "id": "4nRCWi8jM0zJ"
      },
      "execution_count": null,
      "outputs": []
    },
    {
      "cell_type": "code",
      "source": [
        "data_Inflation = df[df['Series Name'].isin(['Inflation, GDP deflator (annual %)'])]\n",
        "print(data_Inflation)"
      ],
      "metadata": {
        "id": "fy5Cz7q8L8dK"
      },
      "execution_count": null,
      "outputs": []
    },
    {
      "cell_type": "code",
      "source": [
        "id_vars_1 = [\"Country Name\",\"Country Code\", \"Series Name\", \"Series Code\"]\n",
        "b = pd.melt(frame=data_Inflation, id_vars=id_vars, var_name='Year', value_name='Inflation')\n",
        "print(b)"
      ],
      "metadata": {
        "id": "9gJiwm33MdQ2"
      },
      "execution_count": null,
      "outputs": []
    },
    {
      "cell_type": "code",
      "source": [
        "change2 = b.rename(columns={'Series Code':'Series Code 2','Series Name':'Series Name 2','Country Code':'Country Code 2','Country Name':'Country Name 2', 'Year':'Year 2'})\n",
        "print(change2)"
      ],
      "metadata": {
        "id": "FK5E_bK5PVu6"
      },
      "execution_count": null,
      "outputs": []
    },
    {
      "cell_type": "code",
      "source": [
        "#Ghép bảng 1 vào bảng 2 (Bảng GDP và Bảng Inflation)\n",
        "merge1 = pd.concat([change1, change2], axis=1)\n",
        "print(merge1)"
      ],
      "metadata": {
        "id": "I41ADay0L2Zm"
      },
      "execution_count": null,
      "outputs": []
    },
    {
      "cell_type": "code",
      "source": [
        "#Bỏ bớt các cột trùng tên\n",
        "table1 = merge1.drop(['Country Code 1', 'Series Name 1', 'Series Code 1','Country Code 2','Series Name 2','Series Code 2','Country Name 2','Year 2'], axis=1)\n",
        "print(table1)"
      ],
      "metadata": {
        "id": "LXJ2s0tjQFzU"
      },
      "execution_count": null,
      "outputs": []
    },
    {
      "cell_type": "markdown",
      "source": [
        "Phần dưới tương tự phần ở trên"
      ],
      "metadata": {
        "id": "BfOAqCqVXxju"
      }
    },
    {
      "cell_type": "code",
      "source": [
        "data_exchange_rate = df[df['Series Name'].isin(['Official exchange rate (LCU per US$, period average)'])]\n",
        "print(data_exchange_rate)"
      ],
      "metadata": {
        "id": "BnvlwjqvM2sV"
      },
      "execution_count": null,
      "outputs": []
    },
    {
      "cell_type": "code",
      "source": [
        "id_vars_2 = [\"Country Name\",\"Country Code\", \"Series Name\", \"Series Code\"]\n",
        "c = pd.melt(frame=data_exchange_rate, id_vars=id_vars, var_name='Year', value_name='Exchange Rate')\n",
        "print(c)"
      ],
      "metadata": {
        "id": "kHS0dMNHNmm2"
      },
      "execution_count": null,
      "outputs": []
    },
    {
      "cell_type": "code",
      "source": [
        "change3 = c.rename(columns={'Series Code':'Series Code 3','Series Name':'Series Name 3','Country Code':'Country Code 3','Country Name':'Country Name 3', 'Year':'Year 3'})\n",
        "print(change3)"
      ],
      "metadata": {
        "id": "aN5Cxyp6K3W1"
      },
      "execution_count": null,
      "outputs": []
    },
    {
      "cell_type": "code",
      "source": [
        "data_money_supply = df[df['Series Name'].isin(['Broad money (% of GDP)'])]\n",
        "print(data_money_supply)"
      ],
      "metadata": {
        "id": "WHKEne3nOFyp"
      },
      "execution_count": null,
      "outputs": []
    },
    {
      "cell_type": "code",
      "source": [
        "id_vars_3 = [\"Country Name\",\"Country Code\", \"Series Name\", \"Series Code\"]\n",
        "d = pd.melt(frame=data_money_supply, id_vars=id_vars, var_name='Year', value_name='Money Supply')\n",
        "print(d)"
      ],
      "metadata": {
        "id": "xxk1lHXzOUnB"
      },
      "execution_count": null,
      "outputs": []
    },
    {
      "cell_type": "code",
      "source": [
        "change4 = d.rename(columns={'Series Code':'Series Code 4','Series Name':'Series Name 4','Country Code':'Country Code 4','Country Name':'Country Name 4', 'Year':'Year 4'})\n",
        "print(change4)"
      ],
      "metadata": {
        "id": "AQF2MIUXLwPB"
      },
      "execution_count": null,
      "outputs": []
    },
    {
      "cell_type": "code",
      "source": [
        "merge2 = pd.concat([change3, change4], axis=1)\n",
        "print(merge2)"
      ],
      "metadata": {
        "id": "UPQV1TuAb7er"
      },
      "execution_count": null,
      "outputs": []
    },
    {
      "cell_type": "code",
      "source": [
        "#Ghép 2 bảng 3 và 4 với nhau (Bảng Unemployment và Bảng CPI )\n",
        "table2 = merge2.drop(['Country Code 3', 'Series Name 3', 'Series Code 3','Country Code 4','Series Name 4','Series Code 4','Country Name 4','Year 4','Year 3','Country Name 3'], axis=1)\n",
        "print(table2)"
      ],
      "metadata": {
        "id": "Y5YWGQbIMMNe"
      },
      "execution_count": null,
      "outputs": []
    },
    {
      "cell_type": "code",
      "source": [
        "data_unemployment = df[df['Series Name'].isin(['Unemployment, total (% of total labor force) (modeled ILO estimate)'])]\n",
        "print(data_unemployment)"
      ],
      "metadata": {
        "id": "6CyKfOR16wtY"
      },
      "execution_count": null,
      "outputs": []
    },
    {
      "cell_type": "code",
      "source": [
        "id_vars_4 = [\"Country Name\",\"Country Code\", \"Series Name\", \"Series Code\"]\n",
        "e = pd.melt(frame=data_unemployment, id_vars=id_vars, var_name='Year', value_name='Unemployment')\n",
        "print(e)"
      ],
      "metadata": {
        "id": "AJf_iwek7PU6"
      },
      "execution_count": null,
      "outputs": []
    },
    {
      "cell_type": "code",
      "source": [
        "change5 = e.rename(columns={'Series Code':'Series Code 5','Series Name':'Series Name 5','Country Code':'Country Code 5','Country Name':'Country Name 5', 'Year':'Year 5'})\n",
        "print(change5)"
      ],
      "metadata": {
        "id": "wmcok9Ud7ofx"
      },
      "execution_count": null,
      "outputs": []
    },
    {
      "cell_type": "code",
      "source": [
        "data_FDI = df[df['Series Name'].isin(['Foreign direct investment, net (BoP, current US$)'])]\n",
        "print(data_FDI)"
      ],
      "metadata": {
        "id": "WbQAuG7f8AH8"
      },
      "execution_count": null,
      "outputs": []
    },
    {
      "cell_type": "code",
      "source": [
        "id_vars_5 = [\"Country Name\",\"Country Code\", \"Series Name\", \"Series Code\"]\n",
        "f = pd.melt(frame=data_FDI, id_vars=id_vars, var_name='Year', value_name='FDI')\n",
        "print(f)"
      ],
      "metadata": {
        "id": "VUMhBTe-8YAV"
      },
      "execution_count": null,
      "outputs": []
    },
    {
      "cell_type": "code",
      "source": [
        "change6 = f.rename(columns={'Series Code':'Series Code 6','Series Name':'Series Name 6','Country Code':'Country Code 6','Country Name':'Country Name 6', 'Year':'Year 6'})\n",
        "print(change6)"
      ],
      "metadata": {
        "id": "7civARRd8lcv"
      },
      "execution_count": null,
      "outputs": []
    },
    {
      "cell_type": "code",
      "source": [
        "merge3 = pd.concat([change5, change6], axis=1)\n",
        "print(merge3)"
      ],
      "metadata": {
        "id": "EGkWlqav883h"
      },
      "execution_count": null,
      "outputs": []
    },
    {
      "cell_type": "code",
      "source": [
        "table3 = merge3.drop(['Country Code 5', 'Series Name 5', 'Series Code 5','Country Name 5','Series Name 6','Series Code 6','Country Name 6','Year 6','Year 5','Country Code 6'], axis=1)\n",
        "print(table3)"
      ],
      "metadata": {
        "id": "-R0qb3Ud9HgM"
      },
      "execution_count": null,
      "outputs": []
    },
    {
      "cell_type": "code",
      "source": [
        "#Ghép các bảng vào với nhau, tạo thành bảng cuối cùng\n",
        "final_table = pd.concat([table1, table2, table3], axis=1)\n",
        "print(final_table)"
      ],
      "metadata": {
        "id": "BM7Itpf2M8-j"
      },
      "execution_count": null,
      "outputs": []
    },
    {
      "cell_type": "code",
      "source": [
        "print(final_table.isnull().sum())"
      ],
      "metadata": {
        "id": "GUjQKipBw-n3"
      },
      "execution_count": null,
      "outputs": []
    },
    {
      "cell_type": "code",
      "source": [
        "#Thay đổi các ô dữ liệu NaN bằng cách lấy trung bình các giá trị trong cột để thay thế NaN\n",
        "final_table[\"Exchange Rate\"].fillna(final_table[\"Exchange Rate\"].mean(), inplace = True)\n",
        "final_table[\"Money Supply\"].fillna(final_table[\"Money Supply\"].mean(), inplace = True)\n",
        "final_table[\"FDI\"].fillna(final_table[\"FDI\"].mean(), inplace = True)\n",
        "print(final_table)"
      ],
      "metadata": {
        "id": "zXGHj1pGPjwZ"
      },
      "execution_count": null,
      "outputs": []
    },
    {
      "cell_type": "code",
      "source": [
        "print(final_table.head())"
      ],
      "metadata": {
        "id": "p5nxqxOGAtL3"
      },
      "execution_count": null,
      "outputs": []
    },
    {
      "cell_type": "code",
      "source": [
        "\n",
        "final_table.loc[final_table['Year'] == '2008 [YR2008]', 'Year'] = '2008'\n",
        "final_table.loc[final_table['Year'] == '2009 [YR2009]', 'Year'] = '2009'\n",
        "final_table.loc[final_table['Year'] == '2010 [YR2010]', 'Year'] = '2010'\n",
        "final_table.loc[final_table['Year'] == '2011 [YR2011]', 'Year'] = '2011'\n",
        "final_table.loc[final_table['Year'] == '2012 [YR2012]', 'Year'] = '2012'\n",
        "final_table.loc[final_table['Year'] == '2013 [YR2013]', 'Year'] = '2013'\n",
        "final_table.loc[final_table['Year'] == '2014 [YR2014]', 'Year'] = '2014'\n",
        "final_table.loc[final_table['Year'] == '2015 [YR2015]', 'Year'] = '2015'\n",
        "final_table.loc[final_table['Year'] == '2016 [YR2016]', 'Year'] = '2016'\n",
        "final_table.loc[final_table['Year'] == '2017 [YR2017]', 'Year'] = '2017'\n",
        "final_table.loc[final_table['Year'] == '2018 [YR2018]', 'Year'] = '2018'\n",
        "final_table.loc[final_table['Year'] == '2019 [YR2019]', 'Year'] = '2019'\n",
        "final_table.loc[final_table['Year'] == '2020 [YR2020]', 'Year'] = '2020'\n",
        "final_table.loc[final_table['Year'] == '2021 [YR2021]', 'Year'] = '2021'\n",
        "final_table.loc[final_table['Year'] == '2022 [YR2022]', 'Year'] = '2022'\n",
        "print(final_table)"
      ],
      "metadata": {
        "id": "DOZGcAd6AKST"
      },
      "execution_count": null,
      "outputs": []
    },
    {
      "cell_type": "code",
      "source": [
        "\"Country\" in final_table.columns"
      ],
      "metadata": {
        "colab": {
          "base_uri": "https://localhost:8080/"
        },
        "id": "fBY4sz8mXdjR",
        "outputId": "7277df5d-7629-42bf-fbfd-c3cf0bda3ed9"
      },
      "execution_count": null,
      "outputs": [
        {
          "output_type": "execute_result",
          "data": {
            "text/plain": [
              "False"
            ]
          },
          "metadata": {},
          "execution_count": 35
        }
      ]
    },
    {
      "cell_type": "code",
      "source": [
        "data_final = pd.concat([final_table,pd.get_dummies(final_table['Country Name'], prefix='Country Name')], axis=1)"
      ],
      "metadata": {
        "id": "izpX9_0zIgRq"
      },
      "execution_count": null,
      "outputs": []
    },
    {
      "cell_type": "code",
      "source": [
        "print(final_table.isnull().sum())"
      ],
      "metadata": {
        "id": "jnSr4LhF-s2c"
      },
      "execution_count": null,
      "outputs": []
    },
    {
      "cell_type": "code",
      "source": [
        "#Kiểm tra xem có dữ liệu NaN không (NaN là không có dữ liệu)\n",
        "#print(final_table_1[\"Unemployment\"].isnull().sum())\n"
      ],
      "metadata": {
        "id": "TSy5RYqqVX5u"
      },
      "execution_count": null,
      "outputs": []
    },
    {
      "cell_type": "code",
      "source": [
        "sns.histplot(data=final_table['Unemployment'])"
      ],
      "metadata": {
        "id": "YnUU4XlnFqy-"
      },
      "execution_count": null,
      "outputs": []
    },
    {
      "cell_type": "code",
      "source": [
        "sns.kdeplot(data=final_table['Unemployment'])\n"
      ],
      "metadata": {
        "id": "7bRYllrJHSeH",
        "colab": {
          "base_uri": "https://localhost:8080/",
          "height": 476
        },
        "outputId": "c0d295a8-43e5-412d-d4ab-f01e7c4d4338"
      },
      "execution_count": null,
      "outputs": [
        {
          "output_type": "execute_result",
          "data": {
            "text/plain": [
              "<Axes: xlabel='Unemployment', ylabel='Density'>"
            ]
          },
          "metadata": {},
          "execution_count": 41
        },
        {
          "output_type": "display_data",
          "data": {
            "text/plain": [
              "<Figure size 640x480 with 1 Axes>"
            ],
            "image/png": "[encoded data removed]"
          },
          "metadata": {}
        }
      ]
    },
    {
      "cell_type": "code",
      "source": [
        "plt.figure(figsize=(18, 5))\n",
        "sns.heatmap(final_table.corr(), annot = True, lw = 1, linecolor = 'r', cmap = 'coolwarm')"
      ],
      "metadata": {
        "id": "QuPvUVDxdwHy"
      },
      "execution_count": null,
      "outputs": []
    },
    {
      "cell_type": "code",
      "source": [
        "features = [\"Inflation\",'Unemployment','CPI']\n",
        "print(features)"
      ],
      "metadata": {
        "id": "KEiwqZpKWmNT"
      },
      "execution_count": null,
      "outputs": []
    },
    {
      "cell_type": "markdown",
      "source": [
        "**MÔ HÌNH HỒI QUY TUYẾN TÍNH (Linear Regression)**"
      ],
      "metadata": {
        "id": "h12vrbE91uhd"
      }
    },
    {
      "cell_type": "code",
      "source": [
        "X_train, X_test = train_test_split(final_table, test_size=0.2,shuffle=True, random_state=144)"
      ],
      "metadata": {
        "id": "1oTa6T6i7lFT"
      },
      "execution_count": null,
      "outputs": []
    },
    {
      "cell_type": "code",
      "source": [
        "X_train.shape, X_test.shape"
      ],
      "metadata": {
        "id": "_PmJMppH72Ho"
      },
      "execution_count": null,
      "outputs": []
    },
    {
      "cell_type": "code",
      "source": [
        "X_train, X_valid = train_test_split(X_train, test_size=0.15,shuffle=True, random_state=144)"
      ],
      "metadata": {
        "id": "YdqcGXaL785X"
      },
      "execution_count": null,
      "outputs": []
    },
    {
      "cell_type": "code",
      "source": [
        "y_train = X_train[\"Unemployment\"].copy()\n",
        "y_valid = X_valid[\"Unemployment\"].copy()\n",
        "y_test = X_test[\"Unemployment\"].copy()"
      ],
      "metadata": {
        "id": "4aWXpZl_8NtT"
      },
      "execution_count": null,
      "outputs": []
    },
    {
      "cell_type": "code",
      "source": [
        "y_train.shape, y_valid.shape, y_test.shape"
      ],
      "metadata": {
        "id": "r_Lv-HFk8dJc",
        "colab": {
          "base_uri": "https://localhost:8080/"
        },
        "outputId": "e9e641ca-71ca-45e5-bdc7-20129302d101"
      },
      "execution_count": null,
      "outputs": [
        {
          "output_type": "execute_result",
          "data": {
            "text/plain": [
              "((255,), (45,), (75,))"
            ]
          },
          "metadata": {},
          "execution_count": 36
        }
      ]
    },
    {
      "cell_type": "code",
      "source": [
        "print(X_train.columns)"
      ],
      "metadata": {
        "colab": {
          "base_uri": "https://localhost:8080/"
        },
        "id": "Mqe4OvnNG5XX",
        "outputId": "cf967c6b-ab62-4837-8dfe-61249fecf4b4"
      },
      "execution_count": null,
      "outputs": [
        {
          "output_type": "stream",
          "name": "stdout",
          "text": [
            "Index(['Country Name', 'Year', 'GDP', 'Inflation', 'Exchange Rate',\n",
            "       'Money Supply', 'Unemployment', 'FDI'],\n",
            "      dtype='object')\n"
          ]
        }
      ]
    },
    {
      "cell_type": "code",
      "source": [
        "X_train.drop('Unemployment',axis=1, inplace=True)\n",
        "X_train.drop(\"Country Name\",axis=1, inplace=True)\n",
        "X_train.drop(\"Year\",axis=1, inplace=True)\n",
        "X_valid.drop(\"Unemployment\",axis=1, inplace=True)\n",
        "X_valid.drop(\"Country Name\",axis=1, inplace=True)\n",
        "X_valid.drop(\"Year\",axis=1, inplace=True)\n",
        "X_test.drop(\"Unemployment\",axis=1, inplace=True)\n",
        "X_test.drop(\"Country Name\",axis=1, inplace=True)\n",
        "X_test.drop(\"Year\",axis=1, inplace=True)"
      ],
      "metadata": {
        "id": "6cph94VT81WS"
      },
      "execution_count": null,
      "outputs": []
    },
    {
      "cell_type": "code",
      "source": [
        "X_train.shape, X_valid.shape, X_test.shape"
      ],
      "metadata": {
        "id": "LjunJGGk9IIj",
        "colab": {
          "base_uri": "https://localhost:8080/"
        },
        "outputId": "14040b1e-f625-4a71-b7de-bb9b945c3854"
      },
      "execution_count": null,
      "outputs": [
        {
          "output_type": "execute_result",
          "data": {
            "text/plain": [
              "((255, 5), (45, 5), (75, 5))"
            ]
          },
          "metadata": {},
          "execution_count": 39
        }
      ]
    },
    {
      "cell_type": "code",
      "source": [
        "#Xử lý chuẩn hóa dữ liệu\n",
        "from sklearn.preprocessing import MinMaxScaler\n",
        "scMM = MinMaxScaler()\n",
        "scMM.fit(X_train)"
      ],
      "metadata": {
        "id": "oCZkQl34SABu"
      },
      "execution_count": null,
      "outputs": []
    },
    {
      "cell_type": "code",
      "source": [
        "#Chuẩn hóa biến đầu vào X(input)\n",
        "X_train_MM_scaled = scMM.transform(X_train)\n",
        "X_valid_MM_scaled = scMM.transform(X_valid)\n",
        "X_test_MM_scaled = scMM.transform(X_test)"
      ],
      "metadata": {
        "id": "0nTUjtarShEs"
      },
      "execution_count": null,
      "outputs": []
    },
    {
      "cell_type": "code",
      "source": [
        "X_train_MM_scaled.shape, X_valid_MM_scaled.shape, X_test_MM_scaled.shape"
      ],
      "metadata": {
        "id": "KWGFW412S9UN",
        "colab": {
          "base_uri": "https://localhost:8080/"
        },
        "outputId": "65d1f1a7-297c-4206-dd3d-5b2bc30ec259"
      },
      "execution_count": null,
      "outputs": [
        {
          "output_type": "execute_result",
          "data": {
            "text/plain": [
              "((255, 5), (45, 5), (75, 5))"
            ]
          },
          "metadata": {},
          "execution_count": 42
        }
      ]
    },
    {
      "cell_type": "code",
      "source": [
        "#Chuẩn hóa biến đầu ra y (outputs)\n",
        "y_train.shape"
      ],
      "metadata": {
        "id": "ZNK5qZOFTUQz"
      },
      "execution_count": null,
      "outputs": []
    },
    {
      "cell_type": "code",
      "source": [
        "y_train.values.reshape(-1,1).shape"
      ],
      "metadata": {
        "id": "V-tZk86tU2Kw",
        "colab": {
          "base_uri": "https://localhost:8080/"
        },
        "outputId": "d99ecc7d-b284-4052-c92f-53e86144d9cc"
      },
      "execution_count": null,
      "outputs": [
        {
          "output_type": "execute_result",
          "data": {
            "text/plain": [
              "(255, 1)"
            ]
          },
          "metadata": {},
          "execution_count": 44
        }
      ]
    },
    {
      "cell_type": "code",
      "source": [
        "scMM_for_y = MinMaxScaler()\n",
        "scMM_for_y.fit(y_train.values.reshape(-1,1))"
      ],
      "metadata": {
        "id": "EWSNiek2VZxv"
      },
      "execution_count": null,
      "outputs": []
    },
    {
      "cell_type": "code",
      "source": [
        "y_train_MM_scaled = scMM_for_y.transform(y_train.values.reshape(-1,1))\n",
        "y_valid_MM_scaled = scMM_for_y.transform(y_valid.values.reshape(-1,1))\n",
        "y_test_MM_scaled = scMM_for_y.transform(y_test.values.reshape(-1,1))"
      ],
      "metadata": {
        "id": "6Hr5qCXMVs_B"
      },
      "execution_count": null,
      "outputs": []
    },
    {
      "cell_type": "code",
      "source": [
        "y_train_MM_scaled.shape,y_valid_MM_scaled.shape,y_test_MM_scaled.shape"
      ],
      "metadata": {
        "id": "gWzaZ4OjWIMR",
        "colab": {
          "base_uri": "https://localhost:8080/"
        },
        "outputId": "211bd1e1-62b6-454c-d092-a14a507d7ae5"
      },
      "execution_count": null,
      "outputs": [
        {
          "output_type": "execute_result",
          "data": {
            "text/plain": [
              "((255, 1), (45, 1), (75, 1))"
            ]
          },
          "metadata": {},
          "execution_count": 57
        }
      ]
    },
    {
      "cell_type": "code",
      "source": [
        "#Sử dụng thuật toán linear regression trong Supervised Machine Learning để dự báo\n",
        "from sklearn.linear_model import LinearRegression\n",
        "lr = LinearRegression()"
      ],
      "metadata": {
        "id": "JVk13yzaWiOb"
      },
      "execution_count": null,
      "outputs": []
    },
    {
      "cell_type": "code",
      "source": [
        "lr.fit(X_train_MM_scaled, y_train_MM_scaled)"
      ],
      "metadata": {
        "id": "lhorYJ4iW5rI"
      },
      "execution_count": null,
      "outputs": []
    },
    {
      "cell_type": "code",
      "source": [
        "print(\"Train set Linear Regression score: {:.3f}\".format(lr.score(X_train_MM_scaled, y_train_MM_scaled)))\n",
        "print(\"Validation set Linear Regression score: {:.3f}\".format(lr.score(X_valid_MM_scaled, y_valid_MM_scaled)))"
      ],
      "metadata": {
        "id": "0H8dJCYwXCWY",
        "colab": {
          "base_uri": "https://localhost:8080/"
        },
        "outputId": "aaf6f09a-18ac-4b23-8aab-e5a07bd3f109"
      },
      "execution_count": null,
      "outputs": [
        {
          "output_type": "stream",
          "name": "stdout",
          "text": [
            "Train set Linear Regression score: 0.071\n",
            "Validation set Linear Regression score: 0.183\n"
          ]
        }
      ]
    },
    {
      "cell_type": "code",
      "source": [
        "from sklearn.metrics import mean_squared_error\n",
        "train_preds = lr.predict(X_train_MM_scaled)\n",
        "valid_preds = lr.predict(X_valid_MM_scaled)"
      ],
      "metadata": {
        "id": "EgEgAPpF1Ig4"
      },
      "execution_count": null,
      "outputs": []
    },
    {
      "cell_type": "code",
      "source": [
        "from sklearn.metrics import r2_score\n",
        "print(\"Train R2 score: {:.4f}\".format(r2_score(y_train_MM_scaled, train_preds)))\n",
        "print(\"Validation R2 score: {:.4f}\".format(r2_score(y_valid_MM_scaled, valid_preds)))"
      ],
      "metadata": {
        "id": "lQe5QsHx0iNz",
        "colab": {
          "base_uri": "https://localhost:8080/"
        },
        "outputId": "9c626cb5-d394-46b0-f644-efe0d41894db"
      },
      "execution_count": null,
      "outputs": [
        {
          "output_type": "stream",
          "name": "stdout",
          "text": [
            "Train R2 score: 0.0708\n",
            "Validation R2 score: 0.1833\n"
          ]
        }
      ]
    },
    {
      "cell_type": "code",
      "source": [
        "print(\"Test set Random Forest Regression score: {:.4f}\".format(lr.score(X_test_MM_scaled, y_test_MM_scaled)))"
      ],
      "metadata": {
        "colab": {
          "base_uri": "https://localhost:8080/"
        },
        "id": "EfK4YazHWTir",
        "outputId": "0f4ac60f-cf82-4630-bcf9-dd2e5cd2b18b"
      },
      "execution_count": null,
      "outputs": [
        {
          "output_type": "stream",
          "name": "stdout",
          "text": [
            "Test set Random Forest Regression score: 0.0088\n"
          ]
        }
      ]
    },
    {
      "cell_type": "markdown",
      "source": [
        "**MÔ HÌNH RỪNG CÂY NGẪU NHIÊN (Random Forest Regression)**"
      ],
      "metadata": {
        "id": "S_HeD2iw15_k"
      }
    },
    {
      "cell_type": "code",
      "source": [
        "from sklearn.ensemble import RandomForestRegressor\n",
        "#n_estimator = 10\n",
        "forest_reg = RandomForestRegressor(n_estimators = 50, n_jobs=-1).fit(X_train_MM_scaled, y_train_MM_scaled.ravel())"
      ],
      "metadata": {
        "id": "VBk-cqpo2aD9"
      },
      "execution_count": null,
      "outputs": []
    },
    {
      "cell_type": "code",
      "source": [
        "print(\"Train set Random Forest Regression score: {:.4f}\".format(forest_reg.score(X_train_MM_scaled, y_train_MM_scaled)))\n",
        "print(\"Validation set Random Forest Regression score: {:.4f}\".format(forest_reg.score(X_valid_MM_scaled, y_valid_MM_scaled)))"
      ],
      "metadata": {
        "id": "gFqv2wVi3S6h"
      },
      "execution_count": null,
      "outputs": []
    },
    {
      "cell_type": "code",
      "source": [
        "#n_estimator = 700\n",
        "forest_reg = RandomForestRegressor(n_estimators = 700, n_jobs=-1).fit(X_train_MM_scaled, y_train_MM_scaled.ravel())\n",
        "print(\"Train set Random Forest Regression score: {:.4f}\".format(forest_reg.score(X_train_MM_scaled, y_train_MM_scaled)))\n",
        "print(\"Validation set Random Forest Regression score: {:.4f}\".format(forest_reg.score(X_valid_MM_scaled, y_valid_MM_scaled)))"
      ],
      "metadata": {
        "colab": {
          "base_uri": "https://localhost:8080/"
        },
        "id": "3Gwq8TuY4ESa",
        "outputId": "ac2cd77d-3f7a-4ca0-9e92-8580e93f3053"
      },
      "execution_count": null,
      "outputs": [
        {
          "output_type": "stream",
          "name": "stdout",
          "text": [
            "Train set Random Forest Regression score: 0.9669\n",
            "Validation set Random Forest Regression score: 0.7537\n"
          ]
        }
      ]
    },
    {
      "cell_type": "code",
      "source": [
        "print(\"Test set Random Forest Regression score: {:.4f}\".format(forest_reg.score(X_test_MM_scaled, y_test_MM_scaled)))"
      ],
      "metadata": {
        "colab": {
          "base_uri": "https://localhost:8080/"
        },
        "id": "tvJG5VaP5nuD",
        "outputId": "81d1d193-15bd-4a03-9cab-44a3ab762541"
      },
      "execution_count": null,
      "outputs": [
        {
          "output_type": "stream",
          "name": "stdout",
          "text": [
            "Test set Random Forest Regression score: 0.7579\n"
          ]
        }
      ]
    },
    {
      "cell_type": "markdown",
      "source": [
        "**THUẬT TOÁN GRADIENT BOOTING REGRESSION**"
      ],
      "metadata": {
        "id": "PeZIFYJtS89S"
      }
    },
    {
      "cell_type": "code",
      "source": [
        "from sklearn.metrics import r2_score\n",
        "from sklearn.ensemble import GradientBoostingRegressor\n",
        "gb_reg = GradientBoostingRegressor(n_estimators=60).fit(X_train_MM_scaled, y_train_MM_scaled.ravel())\n",
        "print(\"Train set Gradient Booting Regression score: {:.4f}\".format(gb_reg.score(X_train_MM_scaled, y_train_MM_scaled)))\n",
        "print(\"Validation set Gradient Booting Regression score: {:.4f}\".format(gb_reg.score(X_valid_MM_scaled, y_valid_MM_scaled)))"
      ],
      "metadata": {
        "id": "ZqfbRXtNCgoa",
        "colab": {
          "base_uri": "https://localhost:8080/"
        },
        "outputId": "8cdb60ba-47f5-4370-99eb-8855bfee4229"
      },
      "execution_count": null,
      "outputs": [
        {
          "output_type": "stream",
          "name": "stdout",
          "text": [
            "Train set Gradient Booting Regression score: 0.8818\n",
            "Validation set Gradient Booting Regression score: 0.7477\n"
          ]
        }
      ]
    },
    {
      "cell_type": "code",
      "source": [
        "#n_estimator = 50\n",
        "gb_reg = GradientBoostingRegressor(n_estimators=100).fit(X_train_MM_scaled, y_train_MM_scaled.ravel())\n",
        "print(\"Train set Gradient Booting Regression score: {:.4f}\".format(gb_reg.score(X_train_MM_scaled, y_train_MM_scaled)))\n",
        "print(\"Validation set Gradient Booting Regression score: {:.4f}\".format(gb_reg.score(X_valid_MM_scaled, y_valid_MM_scaled)))"
      ],
      "metadata": {
        "id": "9-VyVtyJUdJq",
        "colab": {
          "base_uri": "https://localhost:8080/"
        },
        "outputId": "65fbaff6-3963-440e-86e4-962da6a4302e"
      },
      "execution_count": null,
      "outputs": [
        {
          "output_type": "stream",
          "name": "stdout",
          "text": [
            "Train set Gradient Booting Regression score: 0.9389\n",
            "Validation set Gradient Booting Regression score: 0.7694\n"
          ]
        }
      ]
    },
    {
      "cell_type": "code",
      "source": [
        "#n_estimator = 100\n",
        "gb_reg = GradientBoostingRegressor(n_estimators=400).fit(X_train_MM_scaled, y_train_MM_scaled.ravel())\n",
        "print(\"Train set Gradient Booting Regression score: {:.4f}\".format(gb_reg.score(X_train_MM_scaled, y_train_MM_scaled)))\n",
        "print(\"Validation set Gradient Booting Regression score: {:.4f}\".format(gb_reg.score(X_valid_MM_scaled, y_valid_MM_scaled)))"
      ],
      "metadata": {
        "id": "n0Bqq6XCUpdr",
        "colab": {
          "base_uri": "https://localhost:8080/"
        },
        "outputId": "a1dd197d-d3b5-4f41-8ec9-2a09e139c66f"
      },
      "execution_count": null,
      "outputs": [
        {
          "output_type": "stream",
          "name": "stdout",
          "text": [
            "Train set Gradient Booting Regression score: 0.9976\n",
            "Validation set Gradient Booting Regression score: 0.7955\n"
          ]
        }
      ]
    },
    {
      "cell_type": "code",
      "source": [
        "print(\"Test set Gradient Booting Regression score: {:.4f}\".format(gb_reg.score(X_test_MM_scaled,y_test_MM_scaled)))"
      ],
      "metadata": {
        "id": "TgA8VLu6U-aK",
        "colab": {
          "base_uri": "https://localhost:8080/"
        },
        "outputId": "0b0df0a1-d99e-497c-8994-ccab7efd3163"
      },
      "execution_count": null,
      "outputs": [
        {
          "output_type": "stream",
          "name": "stdout",
          "text": [
            "Test set Gradient Booting Regression score: 0.7358\n"
          ]
        }
      ]
    },
    {
      "cell_type": "markdown",
      "source": [
        "**Sử Dụng Bộ Dữ Liệu Test Để Kiểm Tra Độ Chính Xác Của Dự Báo**"
      ],
      "metadata": {
        "id": "CZd_mTolVbtw"
      }
    },
    {
      "cell_type": "code",
      "source": [
        "y_preds = gb_reg.predict(X_test_MM_scaled)\n",
        "y_preds = scMM_for_y.inverse_transform(y_preds.reshape(-1,1))\n",
        "y_preds"
      ],
      "metadata": {
        "id": "HhMNWqo2Eu2B"
      },
      "execution_count": null,
      "outputs": []
    },
    {
      "cell_type": "code",
      "source": [
        "print(\"Test R2 score: {:.4f}\".format(r2_score(y_test,y_preds)))"
      ],
      "metadata": {
        "colab": {
          "base_uri": "https://localhost:8080/"
        },
        "id": "yFL3eG6CEuAC",
        "outputId": "c07eacbb-93a9-473c-c512-8bd72df45a2e"
      },
      "execution_count": null,
      "outputs": [
        {
          "output_type": "stream",
          "name": "stdout",
          "text": [
            "Test R2 score: 0.7588\n"
          ]
        }
      ]
    },
    {
      "cell_type": "code",
      "source": [
        "#So sánh với phương pháp OLS truyền thống\n",
        "import statsmodels.api as sm\n",
        "results = sm.OLS(y_train, X_train).fit()\n",
        "results.summary()"
      ],
      "metadata": {
        "id": "rxpxpG3PFQKr",
        "colab": {
          "base_uri": "https://localhost:8080/",
          "height": 559
        },
        "outputId": "98a714ce-b733-4f2f-814b-e90f75aaa50c"
      },
      "execution_count": null,
      "outputs": [
        {
          "output_type": "execute_result",
          "data": {
            "text/plain": [
              "<class 'statsmodels.iolib.summary.Summary'>\n",
              "\"\"\"\n",
              "                                 OLS Regression Results                                \n",
              "=======================================================================================\n",
              "Dep. Variable:           Unemployment   R-squared (uncentered):                   0.601\n",
              "Model:                            OLS   Adj. R-squared (uncentered):              0.593\n",
              "Method:                 Least Squares   F-statistic:                              75.35\n",
              "Date:                Fri, 08 Mar 2024   Prob (F-statistic):                    6.41e-48\n",
              "Time:                        17:03:22   Log-Likelihood:                         -666.29\n",
              "No. Observations:                 255   AIC:                                      1343.\n",
              "Df Residuals:                     250   BIC:                                      1360.\n",
              "Df Model:                           5                                                  \n",
              "Covariance Type:            nonrobust                                                  \n",
              "=================================================================================\n",
              "                    coef    std err          t      P>|t|      [0.025      0.975]\n",
              "---------------------------------------------------------------------------------\n",
              "GDP             9.53e-14   5.79e-14      1.645      0.101   -1.88e-14    2.09e-13\n",
              "Inflation         0.0778      0.026      3.034      0.003       0.027       0.128\n",
              "Exchange Rate  2.527e-05   4.27e-05      0.591      0.555   -5.89e-05       0.000\n",
              "Money Supply      0.0321      0.003     12.505      0.000       0.027       0.037\n",
              "FDI           -7.141e-12   3.85e-12     -1.856      0.065   -1.47e-11    4.38e-13\n",
              "==============================================================================\n",
              "Omnibus:                        9.981   Durbin-Watson:                   1.908\n",
              "Prob(Omnibus):                  0.007   Jarque-Bera (JB):               10.569\n",
              "Skew:                           0.490   Prob(JB):                      0.00507\n",
              "Kurtosis:                       2.813   Cond. No.                     5.37e+11\n",
              "==============================================================================\n",
              "\n",
              "Notes:\n",
              "[1] R² is computed without centering (uncentered) since the model does not contain a constant.\n",
              "[2] Standard Errors assume that the covariance matrix of the errors is correctly specified.\n",
              "[3] The condition number is large, 5.37e+11. This might indicate that there are\n",
              "strong multicollinearity or other numerical problems.\n",
              "\"\"\""
            ],
            "text/html": [
              "<table class=\"simpletable\">\n",
              "<caption>OLS Regression Results</caption>\n",
              "<tr>\n",
              "  <th>Dep. Variable:</th>      <td>Unemployment</td>   <th>  R-squared (uncentered):</th>      <td>   0.601</td>\n",
              "</tr>\n",
              "<tr>\n",
              "  <th>Model:</th>                   <td>OLS</td>       <th>  Adj. R-squared (uncentered):</th> <td>   0.593</td>\n",
              "</tr>\n",
              "<tr>\n",
              "  <th>Method:</th>             <td>Least Squares</td>  <th>  F-statistic:       </th>          <td>   75.35</td>\n",
              "</tr>\n",
              "<tr>\n",
              "  <th>Date:</th>             <td>Fri, 08 Mar 2024</td> <th>  Prob (F-statistic):</th>          <td>6.41e-48</td>\n",
              "</tr>\n",
              "<tr>\n",
              "  <th>Time:</th>                 <td>17:03:22</td>     <th>  Log-Likelihood:    </th>          <td> -666.29</td>\n",
              "</tr>\n",
              "<tr>\n",
              "  <th>No. Observations:</th>      <td>   255</td>      <th>  AIC:               </th>          <td>   1343.</td>\n",
              "</tr>\n",
              "<tr>\n",
              "  <th>Df Residuals:</th>          <td>   250</td>      <th>  BIC:               </th>          <td>   1360.</td>\n",
              "</tr>\n",
              "<tr>\n",
              "  <th>Df Model:</th>              <td>     5</td>      <th>                     </th>              <td> </td>   \n",
              "</tr>\n",
              "<tr>\n",
              "  <th>Covariance Type:</th>      <td>nonrobust</td>    <th>                     </th>              <td> </td>   \n",
              "</tr>\n",
              "</table>\n",
              "<table class=\"simpletable\">\n",
              "<tr>\n",
              "        <td></td>           <th>coef</th>     <th>std err</th>      <th>t</th>      <th>P>|t|</th>  <th>[0.025</th>    <th>0.975]</th>  \n",
              "</tr>\n",
              "<tr>\n",
              "  <th>GDP</th>           <td>  9.53e-14</td> <td> 5.79e-14</td> <td>    1.645</td> <td> 0.101</td> <td>-1.88e-14</td> <td> 2.09e-13</td>\n",
              "</tr>\n",
              "<tr>\n",
              "  <th>Inflation</th>     <td>    0.0778</td> <td>    0.026</td> <td>    3.034</td> <td> 0.003</td> <td>    0.027</td> <td>    0.128</td>\n",
              "</tr>\n",
              "<tr>\n",
              "  <th>Exchange Rate</th> <td> 2.527e-05</td> <td> 4.27e-05</td> <td>    0.591</td> <td> 0.555</td> <td>-5.89e-05</td> <td>    0.000</td>\n",
              "</tr>\n",
              "<tr>\n",
              "  <th>Money Supply</th>  <td>    0.0321</td> <td>    0.003</td> <td>   12.505</td> <td> 0.000</td> <td>    0.027</td> <td>    0.037</td>\n",
              "</tr>\n",
              "<tr>\n",
              "  <th>FDI</th>           <td>-7.141e-12</td> <td> 3.85e-12</td> <td>   -1.856</td> <td> 0.065</td> <td>-1.47e-11</td> <td> 4.38e-13</td>\n",
              "</tr>\n",
              "</table>\n",
              "<table class=\"simpletable\">\n",
              "<tr>\n",
              "  <th>Omnibus:</th>       <td> 9.981</td> <th>  Durbin-Watson:     </th> <td>   1.908</td>\n",
              "</tr>\n",
              "<tr>\n",
              "  <th>Prob(Omnibus):</th> <td> 0.007</td> <th>  Jarque-Bera (JB):  </th> <td>  10.569</td>\n",
              "</tr>\n",
              "<tr>\n",
              "  <th>Skew:</th>          <td> 0.490</td> <th>  Prob(JB):          </th> <td> 0.00507</td>\n",
              "</tr>\n",
              "<tr>\n",
              "  <th>Kurtosis:</th>      <td> 2.813</td> <th>  Cond. No.          </th> <td>5.37e+11</td>\n",
              "</tr>\n",
              "</table><br/><br/>Notes:<br/>[1] R² is computed without centering (uncentered) since the model does not contain a constant.<br/>[2] Standard Errors assume that the covariance matrix of the errors is correctly specified.<br/>[3] The condition number is large, 5.37e+11. This might indicate that there are<br/>strong multicollinearity or other numerical problems."
            ],
            "text/latex": "\\begin{center}\n\\begin{tabular}{lclc}\n\\toprule\n\\textbf{Dep. Variable:}    &   Unemployment   & \\textbf{  R-squared (uncentered):}      &     0.601   \\\\\n\\textbf{Model:}            &       OLS        & \\textbf{  Adj. R-squared (uncentered):} &     0.593   \\\\\n\\textbf{Method:}           &  Least Squares   & \\textbf{  F-statistic:       }          &     75.35   \\\\\n\\textbf{Date:}             & Fri, 08 Mar 2024 & \\textbf{  Prob (F-statistic):}          &  6.41e-48   \\\\\n\\textbf{Time:}             &     17:03:22     & \\textbf{  Log-Likelihood:    }          &   -666.29   \\\\\n\\textbf{No. Observations:} &         255      & \\textbf{  AIC:               }          &     1343.   \\\\\n\\textbf{Df Residuals:}     &         250      & \\textbf{  BIC:               }          &     1360.   \\\\\n\\textbf{Df Model:}         &           5      & \\textbf{                     }          &             \\\\\n\\textbf{Covariance Type:}  &    nonrobust     & \\textbf{                     }          &             \\\\\n\\bottomrule\n\\end{tabular}\n\\begin{tabular}{lcccccc}\n                       & \\textbf{coef} & \\textbf{std err} & \\textbf{t} & \\textbf{P$> |$t$|$} & \\textbf{[0.025} & \\textbf{0.975]}  \\\\\n\\midrule\n\\textbf{GDP}           &     9.53e-14  &     5.79e-14     &     1.645  &         0.101        &    -1.88e-14    &     2.09e-13     \\\\\n\\textbf{Inflation}     &       0.0778  &        0.026     &     3.034  &         0.003        &        0.027    &        0.128     \\\\\n\\textbf{Exchange Rate} &    2.527e-05  &     4.27e-05     &     0.591  &         0.555        &    -5.89e-05    &        0.000     \\\\\n\\textbf{Money Supply}  &       0.0321  &        0.003     &    12.505  &         0.000        &        0.027    &        0.037     \\\\\n\\textbf{FDI}           &   -7.141e-12  &     3.85e-12     &    -1.856  &         0.065        &    -1.47e-11    &     4.38e-13     \\\\\n\\bottomrule\n\\end{tabular}\n\\begin{tabular}{lclc}\n\\textbf{Omnibus:}       &  9.981 & \\textbf{  Durbin-Watson:     } &    1.908  \\\\\n\\textbf{Prob(Omnibus):} &  0.007 & \\textbf{  Jarque-Bera (JB):  } &   10.569  \\\\\n\\textbf{Skew:}          &  0.490 & \\textbf{  Prob(JB):          } &  0.00507  \\\\\n\\textbf{Kurtosis:}      &  2.813 & \\textbf{  Cond. No.          } & 5.37e+11  \\\\\n\\bottomrule\n\\end{tabular}\n%\\caption{OLS Regression Results}\n\\end{center}\n\nNotes: \\newline\n [1] R² is computed without centering (uncentered) since the model does not contain a constant. \\newline\n [2] Standard Errors assume that the covariance matrix of the errors is correctly specified. \\newline\n [3] The condition number is large, 5.37e+11. This might indicate that there are \\newline\n strong multicollinearity or other numerical problems."
          },
          "metadata": {},
          "execution_count": 73
        }
      ]
    },
    {
      "cell_type": "markdown",
      "source": [
        "**MÁY VECTOR HỖ TRỢ**"
      ],
      "metadata": {
        "id": "SuITGSLryZpb"
      }
    },
    {
      "cell_type": "code",
      "source": [
        "from sklearn.svm import SVR\n",
        "svm1 = SVR(kernel='rbf')\n",
        "svm1.fit(X_train,y_train)\n"
      ],
      "metadata": {
        "id": "rIrMwtQgyetH"
      },
      "execution_count": null,
      "outputs": []
    },
    {
      "cell_type": "code",
      "source": [
        "svm1_pred = svm1.predict(X_test)"
      ],
      "metadata": {
        "id": "BkV5hJ9R1UFl"
      },
      "execution_count": null,
      "outputs": []
    },
    {
      "cell_type": "code",
      "source": [
        "from sklearn import metrics\n",
        "print('MAE:', metrics.mean_absolute_error(y_test, svm1_pred))\n",
        "print('RMSE:', np.sqrt(metrics.mean_squared_error(y_test, svm1_pred)))\n",
        "print('R2_Score: ', metrics.r2_score(y_test, svm1_pred))\n"
      ],
      "metadata": {
        "id": "cs1cXT291YJc",
        "colab": {
          "base_uri": "https://localhost:8080/"
        },
        "outputId": "f9f8b082-526a-4b79-cd78-2ff861b540b1"
      },
      "execution_count": null,
      "outputs": [
        {
          "output_type": "stream",
          "name": "stdout",
          "text": [
            "MAE: 1.8968926603125082\n",
            "RMSE: 2.9530687005265936\n",
            "R2_Score:  0.009191939822394524\n"
          ]
        }
      ]
    },
    {
      "cell_type": "code",
      "source": [
        "final_table['Year']=pd.to_datetime(final_table['Year'])\n",
        "print(final_table['Year'])"
      ],
      "metadata": {
        "colab": {
          "base_uri": "https://localhost:8080/"
        },
        "id": "kMDtgl2lU6Q4",
        "outputId": "2c3af60c-850c-469c-e094-a67b5df03763"
      },
      "execution_count": null,
      "outputs": [
        {
          "output_type": "stream",
          "name": "stdout",
          "text": [
            "0     2003-01-01\n",
            "1     2003-01-01\n",
            "2     2003-01-01\n",
            "3     2003-01-01\n",
            "4     2003-01-01\n",
            "         ...    \n",
            "495   2022-01-01\n",
            "496   2022-01-01\n",
            "497   2022-01-01\n",
            "498   2022-01-01\n",
            "499   2022-01-01\n",
            "Name: Year, Length: 500, dtype: datetime64[ns]\n"
          ]
        }
      ]
    },
    {
      "cell_type": "code",
      "source": [
        "date_change = final_table.set_index('Year')\n"
      ],
      "metadata": {
        "id": "75icju05VqVm"
      },
      "execution_count": null,
      "outputs": []
    },
    {
      "cell_type": "code",
      "source": [
        "date_change"
      ],
      "metadata": {
        "id": "MyiY4MriWK6y"
      },
      "execution_count": null,
      "outputs": []
    },
    {
      "cell_type": "code",
      "source": [
        "final_table.plot(x='Year', y='Unemployment', figsize=(12,7))"
      ],
      "metadata": {
        "colab": {
          "base_uri": "https://localhost:8080/",
          "height": 600
        },
        "id": "Hxo1jsQDWZcZ",
        "outputId": "b5b7607a-822d-46bf-d569-54c5a13256ce"
      },
      "execution_count": null,
      "outputs": [
        {
          "output_type": "execute_result",
          "data": {
            "text/plain": [
              "<Axes: xlabel='Year'>"
            ]
          },
          "metadata": {},
          "execution_count": 158
        },
        {
          "output_type": "display_data",
          "data": {
            "text/plain": [
              "<Figure size 1200x700 with 1 Axes>"
            ],
            "image/png": "[encoded data removed]"
          },
          "metadata": {}
        }
      ]
    },
    {
      "cell_type": "code",
      "source": [
        "from sklearn.preprocessing import StandardScaler\n",
        "scaler = StandardScaler()\n",
        "X_train = scaler.fit_transform(X_train)\n",
        "X_test = scaler.transform(X_test)"
      ],
      "metadata": {
        "id": "qd1YGsSxcsLg"
      },
      "execution_count": null,
      "outputs": []
    },
    {
      "cell_type": "code",
      "source": [
        "from sklearn.neural_network import MLPRegressor\n",
        "model = MLPRegressor(hidden_layer_sizes=(10,10), activation=\"relu\", solver=\"adam\", max_iter=1)"
      ],
      "metadata": {
        "id": "KCb0aZ5yg9CQ"
      },
      "execution_count": null,
      "outputs": []
    },
    {
      "cell_type": "code",
      "source": [
        "model.fit(X_train, y_train)"
      ],
      "metadata": {
        "id": "GYDwHH9ZhGjG"
      },
      "execution_count": null,
      "outputs": []
    },
    {
      "cell_type": "code",
      "source": [
        "score = model.score(X_test, y_test)\n",
        "print(\"Điểm đánh giá:\", score)"
      ],
      "metadata": {
        "id": "cp8p35s1hLfX"
      },
      "execution_count": null,
      "outputs": []
    },
    {
      "cell_type": "code",
      "source": [
        "y_pred = model.predict(X_test)"
      ],
      "metadata": {
        "id": "ec0ezJRchg7U"
      },
      "execution_count": null,
      "outputs": []
    },
    {
      "cell_type": "code",
      "source": [
        "print(\"Dự đoán GDP:\")\n",
        "print(y_pred)"
      ],
      "metadata": {
        "colab": {
          "base_uri": "https://localhost:8080/"
        },
        "id": "rQA9rmZMhiQs",
        "outputId": "1f06e4c7-d530-4f4f-d7d2-6b6ee36af58e"
      },
      "execution_count": null,
      "outputs": [
        {
          "output_type": "stream",
          "name": "stdout",
          "text": [
            "Dự đoán GDP:\n",
            "[0.59853168 0.63384493 1.19493765 1.33685721 1.59127531 1.17598032\n",
            " 0.56639484 0.97958226 0.79243182 0.68904733 0.6958989  1.40785107\n",
            " 0.61455731 0.58972753 1.7772422  1.26740992 0.47454026 2.04011636\n",
            " 2.11264936 1.32566987 1.23108843 1.12013181 2.45547279 0.64929779\n",
            " 1.52266378 0.62558374 0.90977509 1.91793957 2.04428199 1.80314743\n",
            " 1.18788702 0.72621902 0.82730194 0.59409732 1.89535462 0.4858571\n",
            " 1.21572282 3.48605311 1.1851274  0.65763832 0.75791901 1.83988411\n",
            " 0.92940549 1.81742121 1.20092191 0.56159138 0.68811134 0.4709583\n",
            " 0.42587288 1.93877211 1.22941437 1.67721767 1.36363889 1.51040611\n",
            " 0.58852674 1.13937117 1.05254731 0.96373069 2.24222457 0.62939593\n",
            " 1.04561193 0.67203042 0.62861724 0.67762065 0.81050738 0.93788931\n",
            " 1.26490728 1.48097517 1.30114415 0.57725189 0.39338713 1.35882061\n",
            " 1.21535889 3.22815733 0.5147281 ]\n"
          ]
        }
      ]
    },
    {
      "cell_type": "code",
      "source": [
        "\n",
        "\n",
        "model = Sequential()\n",
        "model.add(Dense(32, activation='relu', input_shape=(X_train.shape[1],)))\n",
        "model.add(Dense(1))"
      ],
      "metadata": {
        "id": "TM4Lr9Gmc1kx"
      },
      "execution_count": null,
      "outputs": []
    },
    {
      "cell_type": "code",
      "source": [
        "model.compile(optimizer='adam', loss='mean_squared_error')\n",
        "model.fit(X_train, y_train, epochs=100, batch_size=32, validation_data=(X_test, y_test))"
      ],
      "metadata": {
        "id": "pEmTiqwadCr3"
      },
      "execution_count": null,
      "outputs": []
    }
  ]
}